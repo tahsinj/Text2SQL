{
 "cells": [
  {
   "cell_type": "markdown",
   "metadata": {},
   "source": [
    "# Experiment: C3 - Mondial - Foreign Key - GPT 3.5"
   ]
  },
  {
   "cell_type": "code",
   "execution_count": 1,
   "metadata": {},
   "outputs": [
    {
     "name": "stderr",
     "output_type": "stream",
     "text": [
      "<>:15: SyntaxWarning: invalid escape sequence '\\.'\n",
      "<>:15: SyntaxWarning: invalid escape sequence '\\.'\n",
      "C:\\Users\\Tahsin\\AppData\\Local\\Temp\\ipykernel_27000\\2972517568.py:15: SyntaxWarning: invalid escape sequence '\\.'\n",
      "  experiment_path = '..\\..'\n"
     ]
    },
    {
     "name": "stdout",
     "output_type": "stream",
     "text": [
      "c:\\Users\\Tahsin\\Desktop\\Uni\\COSC\\Directed Studies\\TextToSQL\\experiments\\C3\\..\\..\n"
     ]
    }
   ],
   "source": [
    "\n",
    "from langchain.chat_models import ChatOpenAI\n",
    "from urllib.parse import quote  \n",
    "\n",
    "from dotenv import load_dotenv\n",
    "import time\n",
    "import os\n",
    "import sys\n",
    "import json\n",
    "load_dotenv()\n",
    "\n",
    "from c3_clear_prompting import generate_clear_prompting\n",
    "from c3_calibration_with_hints import generate_calibration_with_hints\n",
    "from c3_generate_sql import generate_sql\n",
    "\n",
    "experiment_path = '..\\..'\n",
    "path = os.path.abspath('')\n",
    "module_path = os.path.join(path, experiment_path)\n",
    "print(module_path)\n",
    "if module_path not in sys.path:\n",
    "    sys.path.append(module_path+\"\\\\functions\")\n",
    "\n",
    "\n",
    "from sqldatabase_langchain_utils import SQLDatabaseLangchainUtils"
   ]
  },
  {
   "cell_type": "code",
   "execution_count": 2,
   "metadata": {},
   "outputs": [],
   "source": [
    "SCHEMA = 'mondial_gpt'\n",
    "PREFIX = 'mondial'\n",
    "FILE_NAME_RESULT = f\"results/5_c3_queries_chatgpt_{SCHEMA}_fk.json\""
   ]
  },
  {
   "cell_type": "code",
   "execution_count": 3,
   "metadata": {},
   "outputs": [],
   "source": [
    "def save_queries(queries):\n",
    "    data = {\"queries\":queries}\n",
    "    with open(FILE_NAME_RESULT, \"w\") as arquivo_json:\n",
    "        json.dump(data, arquivo_json, indent=4) \n",
    "        \n",
    "def read_queries():\n",
    "    with open(FILE_NAME_RESULT, encoding='utf-8', errors='ignore') as json_data:\n",
    "        data = json.load(json_data, strict=False)\n",
    "    queries = data[\"queries\"]\n",
    "    return queries\n"
   ]
  },
  {
   "cell_type": "markdown",
   "metadata": {},
   "source": [
    "## Connection with the bank"
   ]
  },
  {
   "cell_type": "code",
   "execution_count": 4,
   "metadata": {},
   "outputs": [
    {
     "data": {
      "text/plain": [
       "{'DB_HOST': 'localhost',\n",
       " 'DB_PORT': '1522',\n",
       " 'DB_USER_NAME': 'MONDIAL_GPT',\n",
       " 'DB_PASS': 'TextDB123',\n",
       " 'DB_NAME': '',\n",
       " 'SQL_DRIVER': 'oracle+oracledb',\n",
       " 'SERVICE_NAME': 'xepdb1',\n",
       " 'SCHEMA': 'MONDIAL_GPT',\n",
       " 'KEYWORD_SEARCH_API_URL': ''}"
      ]
     },
     "execution_count": 4,
     "metadata": {},
     "output_type": "execute_result"
    }
   ],
   "source": [
    "json_file_path = f\"{experiment_path}/datasets/{SCHEMA}_db_connection.json\"\n",
    "with open(json_file_path, encoding='utf-8', errors='ignore') as json_data:\n",
    "    db_connection = json.load(json_data, strict=False)\n",
    "db_connection"
   ]
  },
  {
   "cell_type": "code",
   "execution_count": 5,
   "metadata": {},
   "outputs": [
    {
     "name": "stderr",
     "output_type": "stream",
     "text": [
      "c:\\Users\\Tahsin\\Desktop\\Uni\\COSC\\Directed Studies\\TextToSQL\\venv\\Lib\\site-packages\\langchain_community\\utilities\\sql_database.py:123: SAWarning: Did not recognize type 'GEOCOORD' of column 'coordinates'\n",
      "  self._metadata.reflect(\n",
      "c:\\Users\\Tahsin\\Desktop\\Uni\\COSC\\Directed Studies\\TextToSQL\\venv\\Lib\\site-packages\\langchain_community\\utilities\\sql_database.py:123: SAWarning: Did not recognize type 'GEOCOORD' of column 'source'\n",
      "  self._metadata.reflect(\n",
      "c:\\Users\\Tahsin\\Desktop\\Uni\\COSC\\Directed Studies\\TextToSQL\\venv\\Lib\\site-packages\\langchain_community\\utilities\\sql_database.py:123: SAWarning: Did not recognize type 'GEOCOORD' of column 'estuary'\n",
      "  self._metadata.reflect(\n"
     ]
    },
    {
     "data": {
      "text/plain": [
       "['airport',\n",
       " 'borders',\n",
       " 'city',\n",
       " 'citylocalname',\n",
       " 'cityothername',\n",
       " 'citypops',\n",
       " 'continent',\n",
       " 'country',\n",
       " 'countrylocalname',\n",
       " 'countryothername',\n",
       " 'countrypops',\n",
       " 'desert',\n",
       " 'economy',\n",
       " 'encompasses',\n",
       " 'ethnicgroup',\n",
       " 'geo_desert',\n",
       " 'geo_estuary',\n",
       " 'geo_island',\n",
       " 'geo_lake',\n",
       " 'geo_mountain',\n",
       " 'geo_river',\n",
       " 'geo_sea',\n",
       " 'geo_source',\n",
       " 'island',\n",
       " 'islandin',\n",
       " 'ismember',\n",
       " 'lake',\n",
       " 'lakeonisland',\n",
       " 'language',\n",
       " 'located',\n",
       " 'locatedon',\n",
       " 'mergeswith',\n",
       " 'mountain',\n",
       " 'mountainonisland',\n",
       " 'organization',\n",
       " 'politics',\n",
       " 'population',\n",
       " 'province',\n",
       " 'provincelocalname',\n",
       " 'provinceothername',\n",
       " 'provpops',\n",
       " 'religion',\n",
       " 'river',\n",
       " 'riveronisland',\n",
       " 'riverthrough',\n",
       " 'sea']"
      ]
     },
     "execution_count": 5,
     "metadata": {},
     "output_type": "execute_result"
    }
   ],
   "source": [
    "db = SQLDatabaseLangchainUtils(db_connection=db_connection)\n",
    "\n",
    "exclusao = [\n",
    "    f\"{SCHEMA}_tmdp\",\n",
    "    f\"{SCHEMA}_tmdpmap\",\n",
    "    f\"{SCHEMA}_tmds\",\n",
    "    f\"{SCHEMA}_tmjmap\",\n",
    "    f\"{SCHEMA}_tpv\",\n",
    "    f\"{SCHEMA}_tmdc\",\n",
    "    f\"{SCHEMA}_tmdcmap\",\n",
    "    f\"{SCHEMA}_tmdej\",\n",
    "    f\"{SCHEMA}_log_action\",\n",
    "    f\"{SCHEMA}_log_error\",\n",
    "    f\"{SCHEMA}_favorite_item\", \n",
    "    f\"{SCHEMA}_favorite_query\",\n",
    "    f\"{SCHEMA}_favorite_tag\",\n",
    "    f\"{SCHEMA}_favorite_tag_item\",\n",
    "    f\"{SCHEMA}_favorite_visualization\",\n",
    "    f\"{SCHEMA}_dashboard\",\n",
    "    f\"{SCHEMA}_history\",\n",
    "    \"teste_cliente\",\n",
    "    \"teste_fornecedor\",\n",
    "    \"teste_funcionario\"\n",
    "]\n",
    "\n",
    "include_tables = [s for s in db.get_table_names() if not s.startswith(PREFIX) and s not in exclusao]\n",
    "db = SQLDatabaseLangchainUtils(db_connection=db_connection, include_tables=include_tables, schema=db_connection.get(\"SCHEMA\", None))\n",
    "db.get_table_names()"
   ]
  },
  {
   "cell_type": "markdown",
   "metadata": {},
   "source": [
    "## C3 - Function"
   ]
  },
  {
   "cell_type": "code",
   "execution_count": 6,
   "metadata": {},
   "outputs": [],
   "source": [
    "def run_c3(question, db, model='gpt-3.5-turbo', add_fk = True, callback= None):\n",
    "    llm = ChatOpenAI(model_name = model, temperature=0.7, n=10)\n",
    "    clear_prompting = generate_clear_prompting(question, db, llm, add_fk=add_fk, callback=callback)\n",
    "    print(clear_prompting)\n",
    "    messages = generate_calibration_with_hints(clear_prompting)\n",
    "    llm = ChatOpenAI(model_name = model, n=20)\n",
    "    sql = generate_sql(messages, llm, db, question, callback=callback)\n",
    "    return sql"
   ]
  },
  {
   "cell_type": "markdown",
   "metadata": {},
   "source": [
    "## Preparing consultations"
   ]
  },
  {
   "cell_type": "code",
   "execution_count": 7,
   "metadata": {},
   "outputs": [
    {
     "data": {
      "text/plain": [
       "[{'id': '1',\n",
       "  'question': 'What is the area of Thailand?',\n",
       "  'query_string': '',\n",
       "  'type': 'simple'},\n",
       " {'id': '2',\n",
       "  'question': 'What are the provinces with an area greater than 10000?',\n",
       "  'query_string': '',\n",
       "  'type': 'simple'},\n",
       " {'id': '3',\n",
       "  'question': 'What are the languages spoken in Poland?',\n",
       "  'query_string': '',\n",
       "  'type': 'medium'},\n",
       " {'id': '4',\n",
       "  'question': 'How deep is Lake Kariba?',\n",
       "  'query_string': '',\n",
       "  'type': 'simple'},\n",
       " {'id': '5',\n",
       "  'question': 'What is the total of provinces of Netherlands?',\n",
       "  'query_string': '',\n",
       "  'type': 'complex'},\n",
       " {'id': '6',\n",
       "  'question': 'What is the percentage of religious people are hindu in thailand?',\n",
       "  'query_string': '',\n",
       "  'type': 'complex'},\n",
       " {'id': '7',\n",
       "  'question': 'List the number of provinces each river flows through.',\n",
       "  'query_string': '',\n",
       "  'type': 'medium'},\n",
       " {'id': '8',\n",
       "  'question': 'Find all countries that became independent between 8/1/1910 and 8/1/1950.',\n",
       "  'query_string': '',\n",
       "  'type': 'complex'},\n",
       " {'id': '9',\n",
       "  'question': 'What are the cities of Cuba?',\n",
       "  'query_string': '',\n",
       "  'type': 'medium'},\n",
       " {'id': '10',\n",
       "  'question': 'What is the capital of Georgia?',\n",
       "  'query_string': '',\n",
       "  'type': 'medium'},\n",
       " {'id': '11',\n",
       "  'question': 'How many provinces have areas greater than 1000 in Niger?',\n",
       "  'query_string': '',\n",
       "  'type': 'complex'},\n",
       " {'id': '12',\n",
       "  'question': 'Tell me about the country with the area largest.',\n",
       "  'query_string': '',\n",
       "  'type': 'medium'},\n",
       " {'id': '13',\n",
       "  'question': 'What is the host province and year of establishment of the organization \"International Energy Agency\"?',\n",
       "  'query_string': '',\n",
       "  'type': 'medium'},\n",
       " {'id': '14',\n",
       "  'question': 'Find the name of all mountains whose elevation is higher than 1000.',\n",
       "  'query_string': '',\n",
       "  'type': 'medium'},\n",
       " {'id': '15',\n",
       "  'question': 'Tell me the economy of the Caribbean Sea.',\n",
       "  'query_string': '',\n",
       "  'type': 'medium'},\n",
       " {'id': '16',\n",
       "  'question': 'Show the cities with longitude between 0 and 6.',\n",
       "  'query_string': '',\n",
       "  'type': 'simple'},\n",
       " {'id': '17',\n",
       "  'question': 'Select cities whose population is greater than 100000, altitude greater than 2500, and the country you belong to has population growth greater than 1.',\n",
       "  'query_string': '',\n",
       "  'type': 'complex'},\n",
       " {'id': '18',\n",
       "  'question': 'Show all the different types of government.',\n",
       "  'query_string': '',\n",
       "  'type': 'simple'},\n",
       " {'id': '19',\n",
       "  'question': 'List all provinces in Germany',\n",
       "  'query_string': '',\n",
       "  'type': 'medium'},\n",
       " {'id': '20',\n",
       "  'question': 'What is the percentage of mulatto ethnicity in Brazil?',\n",
       "  'query_string': '',\n",
       "  'type': 'complex'},\n",
       " {'id': '21',\n",
       "  'question': 'How many cities have populations less than 1000?',\n",
       "  'query_string': '',\n",
       "  'type': 'simple'},\n",
       " {'id': '22',\n",
       "  'question': 'What is the average elevation of airports in America?',\n",
       "  'query_string': '',\n",
       "  'type': 'complex'},\n",
       " {'id': '23',\n",
       "  'question': 'How many countries are adjacent to (or ecompassed by) the Caribbean Sea?',\n",
       "  'query_string': '',\n",
       "  'type': 'medium'},\n",
       " {'id': '24',\n",
       "  'question': 'How much area do the countries that are adjacent to (or encompassed by) the Caribbean Sea cover in total?',\n",
       "  'query_string': '',\n",
       "  'type': 'complex'},\n",
       " {'id': '25',\n",
       "  'question': 'For all countries, give the sum of the population of all its neighbors',\n",
       "  'query_string': '',\n",
       "  'type': 'medium'},\n",
       " {'id': '26',\n",
       "  'question': 'What mountains are on the island of Borneo?',\n",
       "  'query_string': '',\n",
       "  'type': 'simple'},\n",
       " {'id': '27',\n",
       "  'question': 'Provide the name and total population of the country with the smallest area.',\n",
       "  'query_string': '',\n",
       "  'type': 'simple'},\n",
       " {'id': '28',\n",
       "  'question': 'The codes of all countries for which at least one river that originates in this country has its estuary in a neighboring country.',\n",
       "  'query_string': '',\n",
       "  'type': 'complex'},\n",
       " {'id': '29',\n",
       "  'question': 'The codes of all countries where at least one mountain is located in each of their provinces',\n",
       "  'query_string': '',\n",
       "  'type': 'complex'},\n",
       " {'id': '30',\n",
       "  'question': 'The code and total border lengths of all countries with at least one border.',\n",
       "  'query_string': '',\n",
       "  'type': 'complex'},\n",
       " {'id': '31',\n",
       "  'question': 'The names and codes of all countries in which at least one river originates.',\n",
       "  'query_string': '',\n",
       "  'type': 'medium'},\n",
       " {'id': '32',\n",
       "  'question': 'What is the area and country of the Chatanga River?',\n",
       "  'query_string': '',\n",
       "  'type': 'simple'},\n",
       " {'id': '33',\n",
       "  'question': 'Show the Airports with elevation more than 3000',\n",
       "  'query_string': '',\n",
       "  'type': 'simple'},\n",
       " {'id': '34',\n",
       "  'question': 'What are the religions practiced in Mexico?',\n",
       "  'query_string': '',\n",
       "  'type': 'medium'},\n",
       " {'id': '35',\n",
       "  'question': 'Show all rivers that do not flow into the sea.',\n",
       "  'query_string': '',\n",
       "  'type': 'medium'},\n",
       " {'id': '36',\n",
       "  'question': 'List African countries by number of neighbors.',\n",
       "  'query_string': '',\n",
       "  'type': 'complex'},\n",
       " {'id': '37',\n",
       "  'question': 'What is the average infant mortality rate for each continent?',\n",
       "  'query_string': '',\n",
       "  'type': 'simple'},\n",
       " {'id': '38',\n",
       "  'question': 'What is the average mortality rate of the countries in America without considering Brazil?',\n",
       "  'query_string': '',\n",
       "  'type': 'complex'},\n",
       " {'id': '39',\n",
       "  'question': 'List seas with area greater than 8000 and depth less than 100.',\n",
       "  'query_string': '',\n",
       "  'type': 'simple'},\n",
       " {'id': '40',\n",
       "  'question': 'How many mountains are there in Asia?',\n",
       "  'query_string': '',\n",
       "  'type': 'complex'},\n",
       " {'id': '41',\n",
       "  'question': 'How many countries that are close to the Mediterranean Sea?',\n",
       "  'query_string': '',\n",
       "  'type': 'complex'},\n",
       " {'id': '42',\n",
       "  'question': 'Show the total for each type of government.',\n",
       "  'query_string': '',\n",
       "  'type': 'simple'},\n",
       " {'id': '43',\n",
       "  'question': 'Which province has the largest desert in the world?',\n",
       "  'query_string': '',\n",
       "  'type': 'simple'},\n",
       " {'id': '44',\n",
       "  'question': 'What is the largest desert in the world?',\n",
       "  'query_string': '',\n",
       "  'type': 'simple'},\n",
       " {'id': '45',\n",
       "  'question': 'List, for all continents, the amount of deserts on each.',\n",
       "  'query_string': '',\n",
       "  'type': 'complex'},\n",
       " {'id': '46',\n",
       "  'question': 'What are the neighboring seas of the Banda Sea?',\n",
       "  'query_string': '',\n",
       "  'type': 'medium'},\n",
       " {'id': '47',\n",
       "  'question': 'List all the capitals of European countries.',\n",
       "  'query_string': '',\n",
       "  'type': 'medium'},\n",
       " {'id': '48',\n",
       "  'question': 'What percentage of people speak French in Andorra?',\n",
       "  'query_string': '',\n",
       "  'type': 'complex'},\n",
       " {'id': '49',\n",
       "  'question': 'Which rivers are longer than 1000 kilometers?',\n",
       "  'query_string': '',\n",
       "  'type': 'complex'},\n",
       " {'id': '50',\n",
       "  'question': 'Which country had the lowest population growth?',\n",
       "  'query_string': '',\n",
       "  'type': 'simple'},\n",
       " {'id': '51',\n",
       "  'question': 'List the name of capital cities for which we do not have data about the city in located',\n",
       "  'query_string': '',\n",
       "  'type': 'complex'},\n",
       " {'id': '52',\n",
       "  'question': 'What is the capital of the provice Andalucía?',\n",
       "  'query_string': '',\n",
       "  'type': 'simple'},\n",
       " {'id': '53',\n",
       "  'question': 'What is the abbreviation for the organization whose name is \"General Confederation of Trade Unions\"?',\n",
       "  'query_string': '',\n",
       "  'type': 'simple'},\n",
       " {'id': '54',\n",
       "  'question': 'In which city is the organization with the abbreviation \"UPU\" ?',\n",
       "  'query_string': '',\n",
       "  'type': 'simple'},\n",
       " {'id': '55',\n",
       "  'question': 'List the names of countries which are members of only one organization',\n",
       "  'query_string': '',\n",
       "  'type': 'complex'},\n",
       " {'id': '56',\n",
       "  'question': 'List the name of countries which are not a member of NATO.',\n",
       "  'query_string': '',\n",
       "  'type': 'complex'},\n",
       " {'id': '57',\n",
       "  'question': 'List the name of countries which are a member of NATO.',\n",
       "  'query_string': '',\n",
       "  'type': 'medium'},\n",
       " {'id': '58',\n",
       "  'question': 'List the rivers with length less than 50',\n",
       "  'query_string': '',\n",
       "  'type': 'simple'},\n",
       " {'id': '59',\n",
       "  'question': 'What are the area, elevation and type of lakes in country Italy?',\n",
       "  'query_string': '',\n",
       "  'type': 'simple'},\n",
       " {'id': '60',\n",
       "  'question': ' List the names of capital cities which are the base for organizations in alphabetical order',\n",
       "  'query_string': '',\n",
       "  'type': 'complex'},\n",
       " {'id': '61',\n",
       "  'question': 'List the name of organizations that do not have countries with an area smaller than 4000 and of the member type',\n",
       "  'query_string': '',\n",
       "  'type': 'complex'},\n",
       " {'id': '62',\n",
       "  'question': 'List the name of organizations that do not have countries with  an area greater than 10000 and population smaller than 3000 and of the member type',\n",
       "  'query_string': '',\n",
       "  'type': 'complex'},\n",
       " {'id': '63',\n",
       "  'question': 'Show the inflation rate of countries that are washed by the Arabian Sea',\n",
       "  'query_string': '',\n",
       "  'type': 'complex'},\n",
       " {'id': '64',\n",
       "  'question': 'List all the capitals of the countries that belong to the continent Africa?',\n",
       "  'query_string': '',\n",
       "  'type': 'medium'},\n",
       " {'id': '65',\n",
       "  'question': 'Show the inflation rate of the countries bathed by the Arabian Sea and there is no inflation with null value',\n",
       "  'query_string': '',\n",
       "  'type': 'complex'},\n",
       " {'id': '66',\n",
       "  'question': 'How many countries are in Africa?',\n",
       "  'query_string': '',\n",
       "  'type': 'complex'},\n",
       " {'id': '67',\n",
       "  'question': 'List the name of countries that are not members of NATO and UNESCO',\n",
       "  'query_string': '',\n",
       "  'type': 'complex'},\n",
       " {'id': '68',\n",
       "  'question': 'What is the area of the continent Europe?',\n",
       "  'query_string': '',\n",
       "  'type': 'simple'},\n",
       " {'id': '69',\n",
       "  'question': 'What is the area of continent America?',\n",
       "  'query_string': '',\n",
       "  'type': 'simple'},\n",
       " {'id': '70',\n",
       "  'question': 'What is the area of continent Asia?',\n",
       "  'query_string': '',\n",
       "  'type': 'simple'},\n",
       " {'id': '71',\n",
       "  'question': 'What is the area of Africa?',\n",
       "  'query_string': '',\n",
       "  'type': 'simple'},\n",
       " {'id': '72',\n",
       "  'question': 'How many countries are in America?',\n",
       "  'query_string': '',\n",
       "  'type': 'complex'},\n",
       " {'id': '73',\n",
       "  'question': 'What area is the largest continent?',\n",
       "  'query_string': '',\n",
       "  'type': 'medium'},\n",
       " {'id': '74',\n",
       "  'question': 'List the countries that belong to the continent with the largest area',\n",
       "  'query_string': '',\n",
       "  'type': 'complex'},\n",
       " {'id': '75',\n",
       "  'question': 'List the countries that belong to the continent with the largest area and whose language is English',\n",
       "  'query_string': '',\n",
       "  'type': 'complex'},\n",
       " {'id': '76',\n",
       "  'question': 'List the names of cities, along with the name of their country for cities with a population greater than 5 million.  Display the results in descending order by population.',\n",
       "  'query_string': '',\n",
       "  'type': 'medium'},\n",
       " {'id': '77',\n",
       "  'question': 'Show the name of the deserts in the province of Algeria',\n",
       "  'query_string': '',\n",
       "  'type': 'simple'},\n",
       " {'id': '78',\n",
       "  'question': 'Show the name and area of the deserts in the province of California',\n",
       "  'query_string': '',\n",
       "  'type': 'simple'},\n",
       " {'id': '79',\n",
       "  'question': 'List the country names and percentage of use of language where  French are used as languages.',\n",
       "  'query_string': '',\n",
       "  'type': 'simple'},\n",
       " {'id': '80',\n",
       "  'question': 'What are the cities where �Portuguese� is spoken?',\n",
       "  'query_string': '',\n",
       "  'type': 'medium'},\n",
       " {'id': '81',\n",
       "  'question': 'What is the total area of the provinces in Canada?',\n",
       "  'query_string': '',\n",
       "  'type': 'complex'},\n",
       " {'id': '82',\n",
       "  'question': 'What is the length of the Tigris River?',\n",
       "  'query_string': '',\n",
       "  'type': 'simple'},\n",
       " {'id': '83',\n",
       "  'question': 'List the Airports with elevation more than 1000',\n",
       "  'query_string': '',\n",
       "  'type': 'medium'},\n",
       " {'id': '84',\n",
       "  'question': 'List airports in the United States with an elevation below 200 feet',\n",
       "  'query_string': '',\n",
       "  'type': 'complex'},\n",
       " {'id': '85',\n",
       "  'question': 'What are the mountains with altitudes above 8000 meters?',\n",
       "  'query_string': '',\n",
       "  'type': 'medium'},\n",
       " {'id': '86',\n",
       "  'question': 'What are the 3 airports with the largest name?',\n",
       "  'query_string': '',\n",
       "  'type': 'simple'},\n",
       " {'id': '87',\n",
       "  'question': 'List lakes with an area of less than 5000 square kilometers.',\n",
       "  'query_string': '',\n",
       "  'type': 'medium'},\n",
       " {'id': '88',\n",
       "  'question': 'What is the total area of the seas with a depth greater than 1000 meters?',\n",
       "  'query_string': '',\n",
       "  'type': 'medium'},\n",
       " {'id': '89',\n",
       "  'question': 'Find the countries whose name starts with the letter \"B\" and have a population greater than 10 million',\n",
       "  'query_string': '',\n",
       "  'type': 'complex'},\n",
       " {'id': '90',\n",
       "  'question': 'List cities with another name in Brazil',\n",
       "  'query_string': '',\n",
       "  'type': 'medium'},\n",
       " {'id': '91',\n",
       "  'question': 'List all cities that are at a latitude greater than 45 degrees.',\n",
       "  'query_string': '',\n",
       "  'type': 'medium'},\n",
       " {'id': '92',\n",
       "  'question': 'Show the number of cities with another name in countries with an area greater than 30000',\n",
       "  'query_string': '',\n",
       "  'type': 'medium'},\n",
       " {'id': '93',\n",
       "  'question': 'Show the deserts with area greater than 10000',\n",
       "  'query_string': '',\n",
       "  'type': 'simple'},\n",
       " {'id': '94',\n",
       "  'question': 'List the islands that belong to a lake with an elevation greater than 100',\n",
       "  'query_string': '',\n",
       "  'type': 'simple'},\n",
       " {'id': '95',\n",
       "  'question': 'List all mountains located on islands with an area greater than 100,000 square kilometers',\n",
       "  'query_string': '',\n",
       "  'type': 'medium'},\n",
       " {'id': '96',\n",
       "  'question': 'List the countries and the sum of their provincial areas.',\n",
       "  'query_string': '',\n",
       "  'type': 'simple'},\n",
       " {'id': '97',\n",
       "  'question': 'Show the name of the countries, the average elevation and sum of the population of their cities',\n",
       "  'query_string': '',\n",
       "  'type': 'medium'},\n",
       " {'id': '98',\n",
       "  'question': \"What was Germany's inflation?\",\n",
       "  'query_string': '',\n",
       "  'type': 'medium'},\n",
       " {'id': '99',\n",
       "  'question': 'What type of government is Iran?',\n",
       "  'query_string': '',\n",
       "  'type': 'medium'},\n",
       " {'id': '100',\n",
       "  'question': \"What is the percentage of industries in relation to Japan's economy?\",\n",
       "  'query_string': '',\n",
       "  'type': 'medium'}]"
      ]
     },
     "execution_count": 7,
     "metadata": {},
     "output_type": "execute_result"
    }
   ],
   "source": [
    "\n",
    "json_file_path = f\"../../datasets/{PREFIX}/queries_{PREFIX}.json\"\n",
    "with open(json_file_path, encoding='utf-8', errors='ignore') as json_data:\n",
    "    queries = json.load(json_data, strict=False)\n",
    "queries = queries['queries']\n",
    "queries"
   ]
  },
  {
   "cell_type": "markdown",
   "metadata": {},
   "source": [
    "## Tracking token usage"
   ]
  },
  {
   "cell_type": "code",
   "execution_count": 8,
   "metadata": {},
   "outputs": [],
   "source": [
    "track_token = [] \n",
    "def tracking_token(cb =None, reset = False):\n",
    "    global track_token\n",
    "    track_token.append(cb)\n",
    "    if reset:\n",
    "        track_token = []"
   ]
  },
  {
   "cell_type": "code",
   "execution_count": 9,
   "metadata": {},
   "outputs": [],
   "source": [
    "\n",
    "def convert_to_dict_tracking_token():\n",
    "    token_usage = {}\n",
    "    for e in track_token:\n",
    "        for key in e.keys():\n",
    "            token_usage[key] = {}\n",
    "            token_usage[key]['total_tokens'] = e[key].total_tokens\n",
    "            token_usage[key]['total_cost'] = e[key].total_cost\n",
    "            token_usage[key]['prompt_tokens'] = e[key].prompt_tokens\n",
    "            token_usage[key]['completion_tokens'] = e[key].completion_tokens \n",
    "    return token_usage"
   ]
  },
  {
   "cell_type": "code",
   "execution_count": 10,
   "metadata": {},
   "outputs": [
    {
     "name": "stderr",
     "output_type": "stream",
     "text": [
      "C:\\Users\\Tahsin\\AppData\\Local\\Temp\\ipykernel_27000\\1352675344.py:2: LangChainDeprecationWarning: The class `ChatOpenAI` was deprecated in LangChain 0.0.10 and will be removed in 1.0. An updated version of the class exists in the :class:`~langchain-openai package and should be used instead. To use it run `pip install -U :class:`~langchain-openai` and import as `from :class:`~langchain_openai import ChatOpenAI``.\n",
      "  llm = ChatOpenAI(model_name = model, temperature=0.7, n=10)\n",
      "c:\\Users\\Tahsin\\Desktop\\Uni\\COSC\\Directed Studies\\TextToSQL\\experiments\\C3\\..\\..\\functions\\sqldatabase_langchain_utils.py:98: SAWarning: Cannot correctly sort tables; there are unresolvable cycles between tables \"mondial_gpt.lake, mondial_gpt.river\", which is usually caused by mutually dependent foreign key constraints.  Foreign key constraints involving these tables will not be considered; this warning may raise an error in a future release.\n",
      "  return self.db._metadata.sorted_tables\n",
      "c:\\Users\\Tahsin\\Desktop\\Uni\\COSC\\Directed Studies\\TextToSQL\\experiments\\C3\\table_recall_module.py:38: LangChainDeprecationWarning: The class `LLMChain` was deprecated in LangChain 0.1.17 and will be removed in 1.0. Use :meth:`~RunnableSequence, e.g., `prompt | llm`` instead.\n",
      "  llm_chain = LLMChain(prompt=prompt, llm=llm)\n",
      "c:\\Users\\Tahsin\\Desktop\\Uni\\COSC\\Directed Studies\\TextToSQL\\experiments\\C3\\..\\..\\functions\\sqldatabase_langchain_utils.py:98: SAWarning: Cannot correctly sort tables; there are unresolvable cycles between tables \"mondial_gpt.lake, mondial_gpt.river\", which is usually caused by mutually dependent foreign key constraints.  Foreign key constraints involving these tables will not be considered; this warning may raise an error in a future release.\n",
      "  return self.db._metadata.sorted_tables\n"
     ]
    },
    {
     "name": "stdout",
     "output_type": "stream",
     "text": [
      "Column recall attempt: 1\n",
      "\n",
      "### Complete oracle SQL query only and with no explanation, and do not select extra columns that are not explicitly requested in the query. \n",
      "### Oracle SQL tables, with their properties: \n",
      "#\n",
      "# country (code, name, capital, province, population)\n",
      "# countryothername (country, othername)\n",
      "# language (name, country, percentage)\n",
      "# city (name, country, province, population)\n",
      "# countryothername.country=country.code\n",
      "# language.country=country.code\n",
      "# city.country=country.code\n",
      "# city.province=province.name\n",
      "# city.country=country.code\n",
      "# city.province=province.name\n",
      "\n",
      "#\n",
      "### 'What are the languages spoken in Poland?\n",
      "SELECT\n",
      "{'table_recall': {'total_tokens': 2820, 'total_cost': 0.0052025000000000005, 'prompt_tokens': 875, 'completion_tokens': 1945}, 'column_recall': {'total_tokens': 3335, 'total_cost': 0.0065095, 'prompt_tokens': 321, 'completion_tokens': 3014}, 'sql_generation': {'total_tokens': 885, 'total_cost': 0.001486, 'prompt_tokens': 568, 'completion_tokens': 317}}\n"
     ]
    }
   ],
   "source": [
    "sql = run_c3(\"'What are the languages spoken in Poland?\", db, callback=tracking_token)\n",
    "print(convert_to_dict_tracking_token())"
   ]
  },
  {
   "cell_type": "code",
   "execution_count": 11,
   "metadata": {},
   "outputs": [
    {
     "name": "stdout",
     "output_type": "stream",
     "text": [
      "SELECT ```sql SELECT name FROM language WHERE country = 'POL' ```\n"
     ]
    },
    {
     "data": {
      "text/plain": [
       "[{'table_recall': Tokens Used: 2820\n",
       "  \tPrompt Tokens: 875\n",
       "  \t\tPrompt Tokens Cached: 0\n",
       "  \tCompletion Tokens: 1945\n",
       "  \t\tReasoning Tokens: 0\n",
       "  Successful Requests: 1\n",
       "  Total Cost (USD): $0.0052025000000000005},\n",
       " {'column_recall': Tokens Used: 3335\n",
       "  \tPrompt Tokens: 321\n",
       "  \t\tPrompt Tokens Cached: 0\n",
       "  \tCompletion Tokens: 3014\n",
       "  \t\tReasoning Tokens: 0\n",
       "  Successful Requests: 1\n",
       "  Total Cost (USD): $0.0065095},\n",
       " {'sql_generation': Tokens Used: 885\n",
       "  \tPrompt Tokens: 568\n",
       "  \t\tPrompt Tokens Cached: 0\n",
       "  \tCompletion Tokens: 317\n",
       "  \t\tReasoning Tokens: 0\n",
       "  Successful Requests: 1\n",
       "  Total Cost (USD): $0.001486}]"
      ]
     },
     "execution_count": 11,
     "metadata": {},
     "output_type": "execute_result"
    }
   ],
   "source": [
    "print(sql)\n",
    "track_token\n"
   ]
  },
  {
   "cell_type": "markdown",
   "metadata": {},
   "source": [
    "## Running the method"
   ]
  },
  {
   "cell_type": "code",
   "execution_count": 12,
   "metadata": {},
   "outputs": [
    {
     "name": "stderr",
     "output_type": "stream",
     "text": [
      "c:\\Users\\Tahsin\\Desktop\\Uni\\COSC\\Directed Studies\\TextToSQL\\experiments\\C3\\..\\..\\functions\\sqldatabase_langchain_utils.py:98: SAWarning: Cannot correctly sort tables; there are unresolvable cycles between tables \"mondial_gpt.lake, mondial_gpt.river\", which is usually caused by mutually dependent foreign key constraints.  Foreign key constraints involving these tables will not be considered; this warning may raise an error in a future release.\n",
      "  return self.db._metadata.sorted_tables\n"
     ]
    },
    {
     "name": "stdout",
     "output_type": "stream",
     "text": [
      "list error\n",
      "list error\n"
     ]
    },
    {
     "name": "stderr",
     "output_type": "stream",
     "text": [
      "c:\\Users\\Tahsin\\Desktop\\Uni\\COSC\\Directed Studies\\TextToSQL\\experiments\\C3\\..\\..\\functions\\sqldatabase_langchain_utils.py:98: SAWarning: Cannot correctly sort tables; there are unresolvable cycles between tables \"mondial_gpt.lake, mondial_gpt.river\", which is usually caused by mutually dependent foreign key constraints.  Foreign key constraints involving these tables will not be considered; this warning may raise an error in a future release.\n",
      "  return self.db._metadata.sorted_tables\n"
     ]
    },
    {
     "name": "stdout",
     "output_type": "stream",
     "text": [
      "Column recall attempt: 1\n",
      "\n",
      "### Complete oracle SQL query only and with no explanation, and do not select extra columns that are not explicitly requested in the query. \n",
      "### Oracle SQL tables, with their properties: \n",
      "#\n",
      "# country (name, area, code, capital, population)\n",
      "# province (name, country, area, population, capital)\n",
      "# city (country, province, population, name, latitude)\n",
      "# provinceothername (province, country, othername)\n",
      "# province.country=country.code\n",
      "# province.country=country.code\n",
      "# city.country=country.code\n",
      "# city.province=province.name\n",
      "# provinceothername.province=province.name\n",
      "# provinceothername.country=country.code\n",
      "# city.country=country.code\n",
      "# city.province=province.name\n",
      "\n",
      "#\n",
      "### What is the area of Thailand?\n",
      "SELECT\n",
      "1 What is the area of Thailand? SELECT area FROM country WHERE name = 'Thailand'; 30.162826776504517\n",
      "-----\n"
     ]
    },
    {
     "name": "stderr",
     "output_type": "stream",
     "text": [
      "c:\\Users\\Tahsin\\Desktop\\Uni\\COSC\\Directed Studies\\TextToSQL\\experiments\\C3\\..\\..\\functions\\sqldatabase_langchain_utils.py:98: SAWarning: Cannot correctly sort tables; there are unresolvable cycles between tables \"mondial_gpt.lake, mondial_gpt.river\", which is usually caused by mutually dependent foreign key constraints.  Foreign key constraints involving these tables will not be considered; this warning may raise an error in a future release.\n",
      "  return self.db._metadata.sorted_tables\n",
      "c:\\Users\\Tahsin\\Desktop\\Uni\\COSC\\Directed Studies\\TextToSQL\\experiments\\C3\\..\\..\\functions\\sqldatabase_langchain_utils.py:98: SAWarning: Cannot correctly sort tables; there are unresolvable cycles between tables \"mondial_gpt.lake, mondial_gpt.river\", which is usually caused by mutually dependent foreign key constraints.  Foreign key constraints involving these tables will not be considered; this warning may raise an error in a future release.\n",
      "  return self.db._metadata.sorted_tables\n"
     ]
    },
    {
     "name": "stdout",
     "output_type": "stream",
     "text": [
      "Column recall attempt: 1\n",
      "\n",
      "### Complete oracle SQL query only and with no explanation, and do not select extra columns that are not explicitly requested in the query. \n",
      "### Oracle SQL tables, with their properties: \n",
      "#\n",
      "# country (code, area, population, name, capital)\n",
      "# province (country, name, area, population)\n",
      "# city (country, province, population, name, latitude)\n",
      "# provpops (province, country, population, year)\n",
      "# province.country=country.code\n",
      "# province.country=country.code\n",
      "# city.country=country.code\n",
      "# city.province=province.name\n",
      "# provpops.province=province.name\n",
      "# provpops.country=province.country\n",
      "# city.country=country.code\n",
      "# city.province=province.name\n",
      "\n",
      "#\n",
      "### What are the provinces with an area greater than 10000?\n",
      "SELECT\n",
      "2 What are the provinces with an area greater than 10000? SELECT ```sql SELECT name FROM province WHERE area > 10000; ``` 9.382872581481934\n",
      "-----\n"
     ]
    },
    {
     "name": "stderr",
     "output_type": "stream",
     "text": [
      "c:\\Users\\Tahsin\\Desktop\\Uni\\COSC\\Directed Studies\\TextToSQL\\experiments\\C3\\..\\..\\functions\\sqldatabase_langchain_utils.py:98: SAWarning: Cannot correctly sort tables; there are unresolvable cycles between tables \"mondial_gpt.lake, mondial_gpt.river\", which is usually caused by mutually dependent foreign key constraints.  Foreign key constraints involving these tables will not be considered; this warning may raise an error in a future release.\n",
      "  return self.db._metadata.sorted_tables\n",
      "c:\\Users\\Tahsin\\Desktop\\Uni\\COSC\\Directed Studies\\TextToSQL\\experiments\\C3\\..\\..\\functions\\sqldatabase_langchain_utils.py:98: SAWarning: Cannot correctly sort tables; there are unresolvable cycles between tables \"mondial_gpt.lake, mondial_gpt.river\", which is usually caused by mutually dependent foreign key constraints.  Foreign key constraints involving these tables will not be considered; this warning may raise an error in a future release.\n",
      "  return self.db._metadata.sorted_tables\n"
     ]
    },
    {
     "name": "stdout",
     "output_type": "stream",
     "text": [
      "Column recall attempt: 1\n",
      "\n",
      "### Complete oracle SQL query only and with no explanation, and do not select extra columns that are not explicitly requested in the query. \n",
      "### Oracle SQL tables, with their properties: \n",
      "#\n",
      "# country (name, code, capital, province)\n",
      "# language (country, name, percentage)\n",
      "# province (name, country, population, area)\n",
      "# city (country, province, name, population)\n",
      "# language.country=country.code\n",
      "# province.country=country.code\n",
      "# province.country=country.code\n",
      "# city.country=country.code\n",
      "# city.province=province.name\n",
      "# city.country=country.code\n",
      "# city.province=province.name\n",
      "\n",
      "#\n",
      "### What are the languages spoken in Poland?\n",
      "SELECT\n",
      "3 What are the languages spoken in Poland? SELECT name FROM language WHERE country = 'POL'; 7.642976760864258\n",
      "-----\n"
     ]
    },
    {
     "name": "stderr",
     "output_type": "stream",
     "text": [
      "c:\\Users\\Tahsin\\Desktop\\Uni\\COSC\\Directed Studies\\TextToSQL\\experiments\\C3\\..\\..\\functions\\sqldatabase_langchain_utils.py:98: SAWarning: Cannot correctly sort tables; there are unresolvable cycles between tables \"mondial_gpt.lake, mondial_gpt.river\", which is usually caused by mutually dependent foreign key constraints.  Foreign key constraints involving these tables will not be considered; this warning may raise an error in a future release.\n",
      "  return self.db._metadata.sorted_tables\n"
     ]
    },
    {
     "name": "stdout",
     "output_type": "stream",
     "text": [
      "list error\n",
      "list error\n",
      "list error\n"
     ]
    },
    {
     "name": "stderr",
     "output_type": "stream",
     "text": [
      "c:\\Users\\Tahsin\\Desktop\\Uni\\COSC\\Directed Studies\\TextToSQL\\experiments\\C3\\..\\..\\functions\\sqldatabase_langchain_utils.py:98: SAWarning: Cannot correctly sort tables; there are unresolvable cycles between tables \"mondial_gpt.lake, mondial_gpt.river\", which is usually caused by mutually dependent foreign key constraints.  Foreign key constraints involving these tables will not be considered; this warning may raise an error in a future release.\n",
      "  return self.db._metadata.sorted_tables\n"
     ]
    },
    {
     "name": "stdout",
     "output_type": "stream",
     "text": [
      "Column recall attempt: 1\n",
      "\n",
      "### Complete oracle SQL query only and with no explanation, and do not select extra columns that are not explicitly requested in the query. \n",
      "### Oracle SQL tables, with their properties: \n",
      "#\n",
      "# lake (name, depth, river, area, coordinates)\n",
      "# lakeonisland (lake, island)\n",
      "# geo_lake (lake, country, province)\n",
      "# lake.river=river.name\n",
      "# lake.river=river.name\n",
      "# lakeonisland.lake=lake.name\n",
      "# geo_lake.lake=lake.name\n",
      "# geo_lake.country=country.code\n",
      "# geo_lake.province=province.name\n",
      "\n",
      "#\n",
      "### How deep is Lake Kariba?\n",
      "SELECT\n",
      "4 How deep is Lake Kariba? SELECT ```sql SELECT depth FROM lake WHERE name = 'Lake Kariba'; ``` 49.02512812614441\n",
      "-----\n"
     ]
    },
    {
     "name": "stderr",
     "output_type": "stream",
     "text": [
      "c:\\Users\\Tahsin\\Desktop\\Uni\\COSC\\Directed Studies\\TextToSQL\\experiments\\C3\\..\\..\\functions\\sqldatabase_langchain_utils.py:98: SAWarning: Cannot correctly sort tables; there are unresolvable cycles between tables \"mondial_gpt.lake, mondial_gpt.river\", which is usually caused by mutually dependent foreign key constraints.  Foreign key constraints involving these tables will not be considered; this warning may raise an error in a future release.\n",
      "  return self.db._metadata.sorted_tables\n",
      "c:\\Users\\Tahsin\\Desktop\\Uni\\COSC\\Directed Studies\\TextToSQL\\experiments\\C3\\..\\..\\functions\\sqldatabase_langchain_utils.py:98: SAWarning: Cannot correctly sort tables; there are unresolvable cycles between tables \"mondial_gpt.lake, mondial_gpt.river\", which is usually caused by mutually dependent foreign key constraints.  Foreign key constraints involving these tables will not be considered; this warning may raise an error in a future release.\n",
      "  return self.db._metadata.sorted_tables\n"
     ]
    },
    {
     "name": "stdout",
     "output_type": "stream",
     "text": [
      "Column recall attempt: 1\n",
      "\n",
      "### Complete oracle SQL query only and with no explanation, and do not select extra columns that are not explicitly requested in the query. \n",
      "### Oracle SQL tables, with their properties: \n",
      "#\n",
      "# country (name, code, province, capital, population)\n",
      "# province (name, country, population, area)\n",
      "# provincelocalname (province, country, localname)\n",
      "# provinceothername (province, country, othername)\n",
      "# province.country=country.code\n",
      "# province.country=country.code\n",
      "# provincelocalname.province=province.name\n",
      "# provincelocalname.country=province.country\n",
      "# provinceothername.province=province.name\n",
      "# provinceothername.country=country.code\n",
      "\n",
      "#\n",
      "### What is the total of provinces of Netherlands?\n",
      "SELECT\n",
      "5 What is the total of provinces of Netherlands? SELECT COUNT(*) FROM province WHERE country = 'NLD'; 7.12199854850769\n",
      "-----\n"
     ]
    },
    {
     "name": "stderr",
     "output_type": "stream",
     "text": [
      "c:\\Users\\Tahsin\\Desktop\\Uni\\COSC\\Directed Studies\\TextToSQL\\experiments\\C3\\..\\..\\functions\\sqldatabase_langchain_utils.py:98: SAWarning: Cannot correctly sort tables; there are unresolvable cycles between tables \"mondial_gpt.lake, mondial_gpt.river\", which is usually caused by mutually dependent foreign key constraints.  Foreign key constraints involving these tables will not be considered; this warning may raise an error in a future release.\n",
      "  return self.db._metadata.sorted_tables\n",
      "c:\\Users\\Tahsin\\Desktop\\Uni\\COSC\\Directed Studies\\TextToSQL\\experiments\\C3\\..\\..\\functions\\sqldatabase_langchain_utils.py:98: SAWarning: Cannot correctly sort tables; there are unresolvable cycles between tables \"mondial_gpt.lake, mondial_gpt.river\", which is usually caused by mutually dependent foreign key constraints.  Foreign key constraints involving these tables will not be considered; this warning may raise an error in a future release.\n",
      "  return self.db._metadata.sorted_tables\n"
     ]
    },
    {
     "name": "stdout",
     "output_type": "stream",
     "text": [
      "Column recall attempt: 1\n",
      "\n",
      "### Complete oracle SQL query only and with no explanation, and do not select extra columns that are not explicitly requested in the query. \n",
      "### Oracle SQL tables, with their properties: \n",
      "#\n",
      "# country (code, name, capital, province, population)\n",
      "# province (name, country, population, area)\n",
      "# religion (name, percentage, country)\n",
      "# city (name, country, province, population)\n",
      "# province.country=country.code\n",
      "# religion.country=country.code\n",
      "# province.country=country.code\n",
      "# city.country=country.code\n",
      "# city.province=province.name\n",
      "# city.country=country.code\n",
      "# city.province=province.name\n",
      "\n",
      "#\n",
      "### What is the percentage of religious people are hindu in thailand?\n",
      "SELECT\n",
      "6 What is the percentage of religious people are hindu in thailand? SELECT percentage FROM religion WHERE name = 'Hindu' AND country = 'TH'; 10.377009630203247\n",
      "-----\n"
     ]
    },
    {
     "name": "stderr",
     "output_type": "stream",
     "text": [
      "c:\\Users\\Tahsin\\Desktop\\Uni\\COSC\\Directed Studies\\TextToSQL\\experiments\\C3\\..\\..\\functions\\sqldatabase_langchain_utils.py:98: SAWarning: Cannot correctly sort tables; there are unresolvable cycles between tables \"mondial_gpt.lake, mondial_gpt.river\", which is usually caused by mutually dependent foreign key constraints.  Foreign key constraints involving these tables will not be considered; this warning may raise an error in a future release.\n",
      "  return self.db._metadata.sorted_tables\n"
     ]
    },
    {
     "name": "stdout",
     "output_type": "stream",
     "text": [
      "list error\n",
      "list error\n",
      "list error\n",
      "list error\n",
      "list error\n",
      "list error\n"
     ]
    },
    {
     "name": "stderr",
     "output_type": "stream",
     "text": [
      "c:\\Users\\Tahsin\\Desktop\\Uni\\COSC\\Directed Studies\\TextToSQL\\experiments\\C3\\..\\..\\functions\\sqldatabase_langchain_utils.py:98: SAWarning: Cannot correctly sort tables; there are unresolvable cycles between tables \"mondial_gpt.lake, mondial_gpt.river\", which is usually caused by mutually dependent foreign key constraints.  Foreign key constraints involving these tables will not be considered; this warning may raise an error in a future release.\n",
      "  return self.db._metadata.sorted_tables\n"
     ]
    },
    {
     "name": "stdout",
     "output_type": "stream",
     "text": [
      "Column recall attempt: 1\n",
      "\n",
      "### Complete oracle SQL query only and with no explanation, and do not select extra columns that are not explicitly requested in the query. \n",
      "### Oracle SQL tables, with their properties: \n",
      "#\n",
      "# river (river, name, sea, lake, length)\n",
      "# province (name, country, population, area)\n",
      "# river.lake=lake.name\n",
      "# river.sea=sea.name\n",
      "# province.country=country.code\n",
      "# river.lake=lake.name\n",
      "# river.sea=sea.name\n",
      "# province.country=country.code\n",
      "\n",
      "#\n",
      "### List the number of provinces each river flows through.\n",
      "SELECT\n",
      "7 List the number of provinces each river flows through. SELECT ```sql SELECT river, COUNT(DISTINCT province) AS num_provinces FROM river GROUP BY river; ``` 73.70596885681152\n",
      "-----\n"
     ]
    },
    {
     "name": "stderr",
     "output_type": "stream",
     "text": [
      "c:\\Users\\Tahsin\\Desktop\\Uni\\COSC\\Directed Studies\\TextToSQL\\experiments\\C3\\..\\..\\functions\\sqldatabase_langchain_utils.py:98: SAWarning: Cannot correctly sort tables; there are unresolvable cycles between tables \"mondial_gpt.lake, mondial_gpt.river\", which is usually caused by mutually dependent foreign key constraints.  Foreign key constraints involving these tables will not be considered; this warning may raise an error in a future release.\n",
      "  return self.db._metadata.sorted_tables\n"
     ]
    },
    {
     "name": "stdout",
     "output_type": "stream",
     "text": [
      "list error\n",
      "list error\n",
      "list error\n",
      "list error\n",
      "list error\n",
      "list error\n",
      "list error\n"
     ]
    },
    {
     "name": "stderr",
     "output_type": "stream",
     "text": [
      "c:\\Users\\Tahsin\\Desktop\\Uni\\COSC\\Directed Studies\\TextToSQL\\experiments\\C3\\..\\..\\functions\\sqldatabase_langchain_utils.py:98: SAWarning: Cannot correctly sort tables; there are unresolvable cycles between tables \"mondial_gpt.lake, mondial_gpt.river\", which is usually caused by mutually dependent foreign key constraints.  Foreign key constraints involving these tables will not be considered; this warning may raise an error in a future release.\n",
      "  return self.db._metadata.sorted_tables\n"
     ]
    },
    {
     "name": "stdout",
     "output_type": "stream",
     "text": [
      "Column recall attempt: 1\n",
      "\n",
      "### Complete oracle SQL query only and with no explanation, and do not select extra columns that are not explicitly requested in the query. \n",
      "### Oracle SQL tables, with their properties: \n",
      "#\n",
      "# country (code, name, capital, area, population)\n",
      "# politics (country, independence, wasdependent, dependent)\n",
      "# province (country, name, population, area)\n",
      "# provpops (province, country, year, population)\n",
      "# politics.country=country.code\n",
      "# province.country=country.code\n",
      "# province.country=country.code\n",
      "# provpops.province=province.name\n",
      "# provpops.country=province.country\n",
      "\n",
      "#\n",
      "### Find all countries that became independent between 8/1/1910 and 8/1/1950.\n",
      "SELECT\n",
      "8 Find all countries that became independent between 8/1/1910 and 8/1/1950. SELECT ```sql SELECT name FROM country WHERE independence BETWEEN '1910-08-01' AND '1950-08-01'; ``` 79.14779996871948\n",
      "-----\n"
     ]
    },
    {
     "name": "stderr",
     "output_type": "stream",
     "text": [
      "c:\\Users\\Tahsin\\Desktop\\Uni\\COSC\\Directed Studies\\TextToSQL\\experiments\\C3\\..\\..\\functions\\sqldatabase_langchain_utils.py:98: SAWarning: Cannot correctly sort tables; there are unresolvable cycles between tables \"mondial_gpt.lake, mondial_gpt.river\", which is usually caused by mutually dependent foreign key constraints.  Foreign key constraints involving these tables will not be considered; this warning may raise an error in a future release.\n",
      "  return self.db._metadata.sorted_tables\n"
     ]
    },
    {
     "name": "stdout",
     "output_type": "stream",
     "text": [
      "list error\n",
      "list error\n",
      "list error\n",
      "list error\n",
      "list error\n",
      "list error\n",
      "list error\n",
      "list error\n",
      "list error\n",
      "list error\n",
      "list error\n",
      "list error\n"
     ]
    },
    {
     "name": "stderr",
     "output_type": "stream",
     "text": [
      "c:\\Users\\Tahsin\\Desktop\\Uni\\COSC\\Directed Studies\\TextToSQL\\experiments\\C3\\..\\..\\functions\\sqldatabase_langchain_utils.py:98: SAWarning: Cannot correctly sort tables; there are unresolvable cycles between tables \"mondial_gpt.lake, mondial_gpt.river\", which is usually caused by mutually dependent foreign key constraints.  Foreign key constraints involving these tables will not be considered; this warning may raise an error in a future release.\n",
      "  return self.db._metadata.sorted_tables\n"
     ]
    },
    {
     "name": "stdout",
     "output_type": "stream",
     "text": [
      "Column recall attempt: 1\n",
      "\n",
      "### Complete oracle SQL query only and with no explanation, and do not select extra columns that are not explicitly requested in the query. \n",
      "### Oracle SQL tables, with their properties: \n",
      "#\n",
      "# country (name, code, capital, province, population)\n",
      "# province (name, country, population, area, capital)\n",
      "# city (name, country, province, population)\n",
      "# citylocalname (city, country, province, localname)\n",
      "# province.country=country.code\n",
      "# province.country=country.code\n",
      "# city.country=country.code\n",
      "# city.province=province.name\n",
      "# city.country=country.code\n",
      "# city.province=province.name\n",
      "# citylocalname.city=city.name\n",
      "# citylocalname.country=city.country\n",
      "# citylocalname.province=city.province\n",
      "\n",
      "#\n",
      "### What are the cities of Cuba?\n",
      "SELECT\n",
      "9 What are the cities of Cuba? SELECT ```sql SELECT name FROM city WHERE country = 'Cuba'; ``` 104.97297692298889\n",
      "-----\n"
     ]
    },
    {
     "name": "stderr",
     "output_type": "stream",
     "text": [
      "c:\\Users\\Tahsin\\Desktop\\Uni\\COSC\\Directed Studies\\TextToSQL\\experiments\\C3\\..\\..\\functions\\sqldatabase_langchain_utils.py:98: SAWarning: Cannot correctly sort tables; there are unresolvable cycles between tables \"mondial_gpt.lake, mondial_gpt.river\", which is usually caused by mutually dependent foreign key constraints.  Foreign key constraints involving these tables will not be considered; this warning may raise an error in a future release.\n",
      "  return self.db._metadata.sorted_tables\n",
      "c:\\Users\\Tahsin\\Desktop\\Uni\\COSC\\Directed Studies\\TextToSQL\\experiments\\C3\\..\\..\\functions\\sqldatabase_langchain_utils.py:98: SAWarning: Cannot correctly sort tables; there are unresolvable cycles between tables \"mondial_gpt.lake, mondial_gpt.river\", which is usually caused by mutually dependent foreign key constraints.  Foreign key constraints involving these tables will not be considered; this warning may raise an error in a future release.\n",
      "  return self.db._metadata.sorted_tables\n"
     ]
    },
    {
     "name": "stdout",
     "output_type": "stream",
     "text": [
      "Column recall attempt: 1\n",
      "\n",
      "### Complete oracle SQL query only and with no explanation, and do not select extra columns that are not explicitly requested in the query. \n",
      "### Oracle SQL tables, with their properties: \n",
      "#\n",
      "# country (name, capital, code, province, population)\n",
      "# province (name, country, population, capital, area)\n",
      "# city (name, country, province, population, latitude)\n",
      "# province.country=country.code\n",
      "# province.country=country.code\n",
      "# city.country=country.code\n",
      "# city.province=province.name\n",
      "# city.country=country.code\n",
      "# city.province=province.name\n",
      "\n",
      "#\n",
      "### What is the capital of Georgia?\n",
      "SELECT\n",
      "10 What is the capital of Georgia? SELECT capital FROM country WHERE name = 'Georgia'; 7.9460625648498535\n",
      "-----\n"
     ]
    },
    {
     "name": "stderr",
     "output_type": "stream",
     "text": [
      "c:\\Users\\Tahsin\\Desktop\\Uni\\COSC\\Directed Studies\\TextToSQL\\experiments\\C3\\..\\..\\functions\\sqldatabase_langchain_utils.py:98: SAWarning: Cannot correctly sort tables; there are unresolvable cycles between tables \"mondial_gpt.lake, mondial_gpt.river\", which is usually caused by mutually dependent foreign key constraints.  Foreign key constraints involving these tables will not be considered; this warning may raise an error in a future release.\n",
      "  return self.db._metadata.sorted_tables\n"
     ]
    },
    {
     "name": "stdout",
     "output_type": "stream",
     "text": [
      "list error\n"
     ]
    },
    {
     "name": "stderr",
     "output_type": "stream",
     "text": [
      "c:\\Users\\Tahsin\\Desktop\\Uni\\COSC\\Directed Studies\\TextToSQL\\experiments\\C3\\..\\..\\functions\\sqldatabase_langchain_utils.py:98: SAWarning: Cannot correctly sort tables; there are unresolvable cycles between tables \"mondial_gpt.lake, mondial_gpt.river\", which is usually caused by mutually dependent foreign key constraints.  Foreign key constraints involving these tables will not be considered; this warning may raise an error in a future release.\n",
      "  return self.db._metadata.sorted_tables\n"
     ]
    },
    {
     "name": "stdout",
     "output_type": "stream",
     "text": [
      "Column recall attempt: 1\n",
      "\n",
      "### Complete oracle SQL query only and with no explanation, and do not select extra columns that are not explicitly requested in the query. \n",
      "### Oracle SQL tables, with their properties: \n",
      "#\n",
      "# country (code, name, area, province, capital)\n",
      "# province (name, country, area, population, capital)\n",
      "# province.country=country.code\n",
      "# province.country=country.code\n",
      "\n",
      "#\n",
      "### How many provinces have areas greater than 1000 in Niger?\n",
      "SELECT\n",
      "11 How many provinces have areas greater than 1000 in Niger? SELECT COUNT(*) FROM province WHERE area > 1000 AND country = 'Niger'; 14.032005786895752\n",
      "-----\n"
     ]
    },
    {
     "name": "stderr",
     "output_type": "stream",
     "text": [
      "c:\\Users\\Tahsin\\Desktop\\Uni\\COSC\\Directed Studies\\TextToSQL\\experiments\\C3\\..\\..\\functions\\sqldatabase_langchain_utils.py:98: SAWarning: Cannot correctly sort tables; there are unresolvable cycles between tables \"mondial_gpt.lake, mondial_gpt.river\", which is usually caused by mutually dependent foreign key constraints.  Foreign key constraints involving these tables will not be considered; this warning may raise an error in a future release.\n",
      "  return self.db._metadata.sorted_tables\n",
      "c:\\Users\\Tahsin\\Desktop\\Uni\\COSC\\Directed Studies\\TextToSQL\\experiments\\C3\\..\\..\\functions\\sqldatabase_langchain_utils.py:98: SAWarning: Cannot correctly sort tables; there are unresolvable cycles between tables \"mondial_gpt.lake, mondial_gpt.river\", which is usually caused by mutually dependent foreign key constraints.  Foreign key constraints involving these tables will not be considered; this warning may raise an error in a future release.\n",
      "  return self.db._metadata.sorted_tables\n"
     ]
    },
    {
     "name": "stdout",
     "output_type": "stream",
     "text": [
      "Column recall attempt: 1\n",
      "\n",
      "### Complete oracle SQL query only and with no explanation, and do not select extra columns that are not explicitly requested in the query. \n",
      "### Oracle SQL tables, with their properties: \n",
      "#\n",
      "# continent (area, name)\n",
      "# country (name, area, code, population, capital)\n",
      "# province (country, population, area, name)\n",
      "# city (country, province, name, population)\n",
      "# province.country=country.code\n",
      "# province.country=country.code\n",
      "# city.country=country.code\n",
      "# city.province=province.name\n",
      "# city.country=country.code\n",
      "# city.province=province.name\n",
      "\n",
      "#\n",
      "### Tell me about the country with the area largest.\n",
      "SELECT\n",
      "12 Tell me about the country with the area largest. SELECT name FROM country ORDER BY area DESC FETCH FIRST 1 ROWS ONLY; 8.609262704849243\n",
      "-----\n"
     ]
    },
    {
     "name": "stderr",
     "output_type": "stream",
     "text": [
      "c:\\Users\\Tahsin\\Desktop\\Uni\\COSC\\Directed Studies\\TextToSQL\\experiments\\C3\\..\\..\\functions\\sqldatabase_langchain_utils.py:98: SAWarning: Cannot correctly sort tables; there are unresolvable cycles between tables \"mondial_gpt.lake, mondial_gpt.river\", which is usually caused by mutually dependent foreign key constraints.  Foreign key constraints involving these tables will not be considered; this warning may raise an error in a future release.\n",
      "  return self.db._metadata.sorted_tables\n"
     ]
    },
    {
     "name": "stdout",
     "output_type": "stream",
     "text": [
      "list error\n",
      "list error\n"
     ]
    },
    {
     "name": "stderr",
     "output_type": "stream",
     "text": [
      "c:\\Users\\Tahsin\\Desktop\\Uni\\COSC\\Directed Studies\\TextToSQL\\experiments\\C3\\..\\..\\functions\\sqldatabase_langchain_utils.py:98: SAWarning: Cannot correctly sort tables; there are unresolvable cycles between tables \"mondial_gpt.lake, mondial_gpt.river\", which is usually caused by mutually dependent foreign key constraints.  Foreign key constraints involving these tables will not be considered; this warning may raise an error in a future release.\n",
      "  return self.db._metadata.sorted_tables\n"
     ]
    },
    {
     "name": "stdout",
     "output_type": "stream",
     "text": [
      "Column recall attempt: 1\n",
      "\n",
      "### Complete oracle SQL query only and with no explanation, and do not select extra columns that are not explicitly requested in the query. \n",
      "### Oracle SQL tables, with their properties: \n",
      "#\n",
      "# province (name, country, population, capprov, capital)\n",
      "# provpops (province, year, country, population)\n",
      "# organization (name, province, abbreviation, city, established)\n",
      "# province.country=country.code\n",
      "# province.country=country.code\n",
      "# provpops.province=province.name\n",
      "# provpops.country=province.country\n",
      "# organization.city=city.name\n",
      "# organization.country=country.code\n",
      "# organization.province=city.province\n",
      "# organization.city=city.name\n",
      "# organization.country=province.country\n",
      "# organization.province=city.province\n",
      "\n",
      "#\n",
      "### What is the host province and year of establishment of the organization \"International Energy Agency\"?\n",
      "SELECT\n",
      "13 What is the host province and year of establishment of the organization \"International Energy Agency\"? SELECT ```sql province.name, organization.established FROM organization JOIN province ON organization.province = province.name WHERE organization.name = 'International Energy Agency'; ``` 24.907870292663574\n",
      "-----\n"
     ]
    },
    {
     "name": "stderr",
     "output_type": "stream",
     "text": [
      "c:\\Users\\Tahsin\\Desktop\\Uni\\COSC\\Directed Studies\\TextToSQL\\experiments\\C3\\..\\..\\functions\\sqldatabase_langchain_utils.py:98: SAWarning: Cannot correctly sort tables; there are unresolvable cycles between tables \"mondial_gpt.lake, mondial_gpt.river\", which is usually caused by mutually dependent foreign key constraints.  Foreign key constraints involving these tables will not be considered; this warning may raise an error in a future release.\n",
      "  return self.db._metadata.sorted_tables\n",
      "c:\\Users\\Tahsin\\Desktop\\Uni\\COSC\\Directed Studies\\TextToSQL\\experiments\\C3\\..\\..\\functions\\sqldatabase_langchain_utils.py:98: SAWarning: Cannot correctly sort tables; there are unresolvable cycles between tables \"mondial_gpt.lake, mondial_gpt.river\", which is usually caused by mutually dependent foreign key constraints.  Foreign key constraints involving these tables will not be considered; this warning may raise an error in a future release.\n",
      "  return self.db._metadata.sorted_tables\n"
     ]
    },
    {
     "name": "stdout",
     "output_type": "stream",
     "text": [
      "Column recall attempt: 1\n",
      "\n",
      "### Complete oracle SQL query only and with no explanation, and do not select extra columns that are not explicitly requested in the query. \n",
      "### Oracle SQL tables, with their properties: \n",
      "#\n",
      "# island (name, elevation, type, area, coordinates)\n",
      "# mountain (name, elevation, type, coordinates)\n",
      "# lake (name, elevation, area, river, depth)\n",
      "# river (name, length, mountains, source, sourceelevation)\n",
      "# lake.river=river.name\n",
      "# river.lake=lake.name\n",
      "# river.sea=sea.name\n",
      "# lake.river=river.name\n",
      "# river.lake=lake.name\n",
      "# river.sea=sea.name\n",
      "\n",
      "#\n",
      "### Find the name of all mountains whose elevation is higher than 1000.\n",
      "SELECT\n",
      "14 Find the name of all mountains whose elevation is higher than 1000. SELECT name FROM mountain WHERE elevation > 1000; 15.0699622631073\n",
      "-----\n"
     ]
    },
    {
     "name": "stderr",
     "output_type": "stream",
     "text": [
      "c:\\Users\\Tahsin\\Desktop\\Uni\\COSC\\Directed Studies\\TextToSQL\\experiments\\C3\\..\\..\\functions\\sqldatabase_langchain_utils.py:98: SAWarning: Cannot correctly sort tables; there are unresolvable cycles between tables \"mondial_gpt.lake, mondial_gpt.river\", which is usually caused by mutually dependent foreign key constraints.  Foreign key constraints involving these tables will not be considered; this warning may raise an error in a future release.\n",
      "  return self.db._metadata.sorted_tables\n",
      "c:\\Users\\Tahsin\\Desktop\\Uni\\COSC\\Directed Studies\\TextToSQL\\experiments\\C3\\..\\..\\functions\\sqldatabase_langchain_utils.py:98: SAWarning: Cannot correctly sort tables; there are unresolvable cycles between tables \"mondial_gpt.lake, mondial_gpt.river\", which is usually caused by mutually dependent foreign key constraints.  Foreign key constraints involving these tables will not be considered; this warning may raise an error in a future release.\n",
      "  return self.db._metadata.sorted_tables\n"
     ]
    },
    {
     "name": "stdout",
     "output_type": "stream",
     "text": [
      "Column recall attempt: 1\n",
      "\n",
      "### Complete oracle SQL query only and with no explanation, and do not select extra columns that are not explicitly requested in the query. \n",
      "### Oracle SQL tables, with their properties: \n",
      "#\n",
      "# country (code, name, capital, province)\n",
      "# sea (name, area, depth)\n",
      "# economy (country, gdp, agriculture, service, industry)\n",
      "# geo_sea (sea, country, province)\n",
      "# economy.country=country.code\n",
      "# geo_sea.sea=sea.name\n",
      "# geo_sea.country=country.code\n",
      "# geo_sea.province=province.name\n",
      "\n",
      "#\n",
      "### Tell me the economy of the Caribbean Sea.\n",
      "SELECT\n",
      "15 Tell me the economy of the Caribbean Sea. SELECT economy.gdp FROM economy JOIN country ON economy.country = country.code JOIN geo_sea ON geo_sea.country = country.code JOIN sea ON geo_sea.sea = sea.name WHERE sea.name = 'Caribbean Sea'; 7.618473291397095\n",
      "-----\n"
     ]
    },
    {
     "name": "stderr",
     "output_type": "stream",
     "text": [
      "c:\\Users\\Tahsin\\Desktop\\Uni\\COSC\\Directed Studies\\TextToSQL\\experiments\\C3\\..\\..\\functions\\sqldatabase_langchain_utils.py:98: SAWarning: Cannot correctly sort tables; there are unresolvable cycles between tables \"mondial_gpt.lake, mondial_gpt.river\", which is usually caused by mutually dependent foreign key constraints.  Foreign key constraints involving these tables will not be considered; this warning may raise an error in a future release.\n",
      "  return self.db._metadata.sorted_tables\n",
      "c:\\Users\\Tahsin\\Desktop\\Uni\\COSC\\Directed Studies\\TextToSQL\\experiments\\C3\\..\\..\\functions\\sqldatabase_langchain_utils.py:98: SAWarning: Cannot correctly sort tables; there are unresolvable cycles between tables \"mondial_gpt.lake, mondial_gpt.river\", which is usually caused by mutually dependent foreign key constraints.  Foreign key constraints involving these tables will not be considered; this warning may raise an error in a future release.\n",
      "  return self.db._metadata.sorted_tables\n"
     ]
    },
    {
     "name": "stdout",
     "output_type": "stream",
     "text": [
      "Column recall attempt: 1\n",
      "\n",
      "### Complete oracle SQL query only and with no explanation, and do not select extra columns that are not explicitly requested in the query. \n",
      "### Oracle SQL tables, with their properties: \n",
      "#\n",
      "# continent (name, area)\n",
      "# country (code, name, capital, province)\n",
      "# city (name, country, province, longitude, population)\n",
      "# airport (country, city, name, iatacode, province)\n",
      "# city.country=country.code\n",
      "# city.province=province.name\n",
      "# city.country=country.code\n",
      "# city.province=province.name\n",
      "# airport.country=city.country\n",
      "# airport.city=city.name\n",
      "# airport.province=province.name\n",
      "\n",
      "#\n",
      "### Show the cities with longitude between 0 and 6.\n",
      "SELECT\n",
      "16 Show the cities with longitude between 0 and 6. SELECT ```sql SELECT name FROM city WHERE longitude BETWEEN 0 AND 6; ``` 8.46655559539795\n",
      "-----\n"
     ]
    },
    {
     "name": "stderr",
     "output_type": "stream",
     "text": [
      "c:\\Users\\Tahsin\\Desktop\\Uni\\COSC\\Directed Studies\\TextToSQL\\experiments\\C3\\..\\..\\functions\\sqldatabase_langchain_utils.py:98: SAWarning: Cannot correctly sort tables; there are unresolvable cycles between tables \"mondial_gpt.lake, mondial_gpt.river\", which is usually caused by mutually dependent foreign key constraints.  Foreign key constraints involving these tables will not be considered; this warning may raise an error in a future release.\n",
      "  return self.db._metadata.sorted_tables\n"
     ]
    },
    {
     "name": "stdout",
     "output_type": "stream",
     "text": [
      "list error\n"
     ]
    },
    {
     "name": "stderr",
     "output_type": "stream",
     "text": [
      "c:\\Users\\Tahsin\\Desktop\\Uni\\COSC\\Directed Studies\\TextToSQL\\experiments\\C3\\..\\..\\functions\\sqldatabase_langchain_utils.py:98: SAWarning: Cannot correctly sort tables; there are unresolvable cycles between tables \"mondial_gpt.lake, mondial_gpt.river\", which is usually caused by mutually dependent foreign key constraints.  Foreign key constraints involving these tables will not be considered; this warning may raise an error in a future release.\n",
      "  return self.db._metadata.sorted_tables\n"
     ]
    },
    {
     "name": "stdout",
     "output_type": "stream",
     "text": [
      "list error column recall\n",
      "Column recall attempt: 1\n",
      "Column recall attempt: 2\n",
      "\n",
      "### Complete oracle SQL query only and with no explanation, and do not select extra columns that are not explicitly requested in the query. \n",
      "### Oracle SQL tables, with their properties: \n",
      "#\n",
      "# country (code, population, name, capital)\n",
      "# population (country, population_growth, infant_mortality)\n",
      "# province (name, country, population, area, capital)\n",
      "# city (population, country, elevation, province, name)\n",
      "# population.country=country.code\n",
      "# province.country=country.code\n",
      "# province.country=country.code\n",
      "# city.country=country.code\n",
      "# city.province=province.name\n",
      "# city.country=country.code\n",
      "# city.province=province.name\n",
      "\n",
      "#\n",
      "### Select cities whose population is greater than 100000, altitude greater than 2500, and the country you belong to has population growth greater than 1.\n",
      "SELECT\n",
      "17 Select cities whose population is greater than 100000, altitude greater than 2500, and the country you belong to has population growth greater than 1. SELECT ```sql SELECT city.name FROM city JOIN country ON city.country = country.code JOIN population ON population.country = country.code WHERE city.population > 100000 AND city.elevation > 2500 AND population.population_growth > 1; ``` 27.148829460144043\n",
      "-----\n"
     ]
    },
    {
     "name": "stderr",
     "output_type": "stream",
     "text": [
      "c:\\Users\\Tahsin\\Desktop\\Uni\\COSC\\Directed Studies\\TextToSQL\\experiments\\C3\\..\\..\\functions\\sqldatabase_langchain_utils.py:98: SAWarning: Cannot correctly sort tables; there are unresolvable cycles between tables \"mondial_gpt.lake, mondial_gpt.river\", which is usually caused by mutually dependent foreign key constraints.  Foreign key constraints involving these tables will not be considered; this warning may raise an error in a future release.\n",
      "  return self.db._metadata.sorted_tables\n",
      "c:\\Users\\Tahsin\\Desktop\\Uni\\COSC\\Directed Studies\\TextToSQL\\experiments\\C3\\..\\..\\functions\\sqldatabase_langchain_utils.py:98: SAWarning: Cannot correctly sort tables; there are unresolvable cycles between tables \"mondial_gpt.lake, mondial_gpt.river\", which is usually caused by mutually dependent foreign key constraints.  Foreign key constraints involving these tables will not be considered; this warning may raise an error in a future release.\n",
      "  return self.db._metadata.sorted_tables\n"
     ]
    },
    {
     "name": "stdout",
     "output_type": "stream",
     "text": [
      "Column recall attempt: 1\n",
      "\n",
      "### Complete oracle SQL query only and with no explanation, and do not select extra columns that are not explicitly requested in the query. \n",
      "### Oracle SQL tables, with their properties: \n",
      "#\n",
      "# country (name, code, capital, province)\n",
      "# politics (country, independence, wasdependent, government, dependent)\n",
      "# organization (country, abbreviation, name, city, province)\n",
      "# politics.country=country.code\n",
      "# organization.city=city.name\n",
      "# organization.country=country.code\n",
      "# organization.province=city.province\n",
      "# organization.city=city.name\n",
      "# organization.country=province.country\n",
      "# organization.province=city.province\n",
      "\n",
      "#\n",
      "### Show all the different types of government.\n",
      "SELECT\n",
      "18 Show all the different types of government. SELECT ```sql SELECT DISTINCT government FROM politics; ``` 6.274962425231934\n",
      "-----\n"
     ]
    },
    {
     "name": "stderr",
     "output_type": "stream",
     "text": [
      "c:\\Users\\Tahsin\\Desktop\\Uni\\COSC\\Directed Studies\\TextToSQL\\experiments\\C3\\..\\..\\functions\\sqldatabase_langchain_utils.py:98: SAWarning: Cannot correctly sort tables; there are unresolvable cycles between tables \"mondial_gpt.lake, mondial_gpt.river\", which is usually caused by mutually dependent foreign key constraints.  Foreign key constraints involving these tables will not be considered; this warning may raise an error in a future release.\n",
      "  return self.db._metadata.sorted_tables\n"
     ]
    },
    {
     "name": "stdout",
     "output_type": "stream",
     "text": [
      "list error\n",
      "list error\n",
      "list error\n",
      "list error\n",
      "list error\n",
      "list error\n",
      "list error\n",
      "list error\n",
      "list error\n",
      "list error\n",
      "list error\n",
      "list error\n",
      "list error\n",
      "list error\n",
      "list error\n",
      "list error\n",
      "list error\n",
      "list error\n",
      "list error\n",
      "list error\n"
     ]
    },
    {
     "name": "stderr",
     "output_type": "stream",
     "text": [
      "c:\\Users\\Tahsin\\Desktop\\Uni\\COSC\\Directed Studies\\TextToSQL\\experiments\\C3\\..\\..\\functions\\sqldatabase_langchain_utils.py:98: SAWarning: Cannot correctly sort tables; there are unresolvable cycles between tables \"mondial_gpt.lake, mondial_gpt.river\", which is usually caused by mutually dependent foreign key constraints.  Foreign key constraints involving these tables will not be considered; this warning may raise an error in a future release.\n",
      "  return self.db._metadata.sorted_tables\n"
     ]
    },
    {
     "name": "stdout",
     "output_type": "stream",
     "text": [
      "Column recall attempt: 1\n",
      "\n",
      "### Complete oracle SQL query only and with no explanation, and do not select extra columns that are not explicitly requested in the query. \n",
      "### Oracle SQL tables, with their properties: \n",
      "#\n",
      "# country (code, name, province, capital)\n",
      "# province (name, country, population, area, capital)\n",
      "# city (country, province, name, population)\n",
      "# citylocalname (city, country, province, localname)\n",
      "# province.country=country.code\n",
      "# province.country=country.code\n",
      "# city.country=country.code\n",
      "# city.province=province.name\n",
      "# city.country=country.code\n",
      "# city.province=province.name\n",
      "# citylocalname.city=city.name\n",
      "# citylocalname.country=city.country\n",
      "# citylocalname.province=city.province\n",
      "\n",
      "#\n",
      "### List all provinces in Germany\n",
      "SELECT\n",
      "19 List all provinces in Germany SELECT ```sql SELECT name FROM province WHERE country = 'DE'; ``` 193.0741515159607\n",
      "-----\n"
     ]
    },
    {
     "name": "stderr",
     "output_type": "stream",
     "text": [
      "c:\\Users\\Tahsin\\Desktop\\Uni\\COSC\\Directed Studies\\TextToSQL\\experiments\\C3\\..\\..\\functions\\sqldatabase_langchain_utils.py:98: SAWarning: Cannot correctly sort tables; there are unresolvable cycles between tables \"mondial_gpt.lake, mondial_gpt.river\", which is usually caused by mutually dependent foreign key constraints.  Foreign key constraints involving these tables will not be considered; this warning may raise an error in a future release.\n",
      "  return self.db._metadata.sorted_tables\n",
      "c:\\Users\\Tahsin\\Desktop\\Uni\\COSC\\Directed Studies\\TextToSQL\\experiments\\C3\\..\\..\\functions\\sqldatabase_langchain_utils.py:98: SAWarning: Cannot correctly sort tables; there are unresolvable cycles between tables \"mondial_gpt.lake, mondial_gpt.river\", which is usually caused by mutually dependent foreign key constraints.  Foreign key constraints involving these tables will not be considered; this warning may raise an error in a future release.\n",
      "  return self.db._metadata.sorted_tables\n"
     ]
    },
    {
     "name": "stdout",
     "output_type": "stream",
     "text": [
      "Column recall attempt: 1\n",
      "\n",
      "### Complete oracle SQL query only and with no explanation, and do not select extra columns that are not explicitly requested in the query. \n",
      "### Oracle SQL tables, with their properties: \n",
      "#\n",
      "# country (code, name, capital, province, population)\n",
      "# ethnicgroup (country, name, percentage)\n",
      "# population (country, population_growth, infant_mortality)\n",
      "# ethnicgroup.country=country.code\n",
      "# population.country=country.code\n",
      "\n",
      "#\n",
      "### What is the percentage of mulatto ethnicity in Brazil?\n",
      "SELECT\n",
      "20 What is the percentage of mulatto ethnicity in Brazil? SELECT percentage FROM ethnicgroup WHERE country = 'BRA' AND name = 'mulatto'; 7.88798975944519\n",
      "-----\n"
     ]
    },
    {
     "name": "stderr",
     "output_type": "stream",
     "text": [
      "c:\\Users\\Tahsin\\Desktop\\Uni\\COSC\\Directed Studies\\TextToSQL\\experiments\\C3\\..\\..\\functions\\sqldatabase_langchain_utils.py:98: SAWarning: Cannot correctly sort tables; there are unresolvable cycles between tables \"mondial_gpt.lake, mondial_gpt.river\", which is usually caused by mutually dependent foreign key constraints.  Foreign key constraints involving these tables will not be considered; this warning may raise an error in a future release.\n",
      "  return self.db._metadata.sorted_tables\n",
      "c:\\Users\\Tahsin\\Desktop\\Uni\\COSC\\Directed Studies\\TextToSQL\\experiments\\C3\\..\\..\\functions\\sqldatabase_langchain_utils.py:98: SAWarning: Cannot correctly sort tables; there are unresolvable cycles between tables \"mondial_gpt.lake, mondial_gpt.river\", which is usually caused by mutually dependent foreign key constraints.  Foreign key constraints involving these tables will not be considered; this warning may raise an error in a future release.\n",
      "  return self.db._metadata.sorted_tables\n"
     ]
    },
    {
     "name": "stdout",
     "output_type": "stream",
     "text": [
      "Column recall attempt: 1\n",
      "\n",
      "### Complete oracle SQL query only and with no explanation, and do not select extra columns that are not explicitly requested in the query. \n",
      "### Oracle SQL tables, with their properties: \n",
      "#\n",
      "# city (population, name, country, province)\n",
      "# citylocalname (city, localname, country, province)\n",
      "# cityothername (city, othername, country, province)\n",
      "# citypops (city, country, province, population, year)\n",
      "# city.country=country.code\n",
      "# city.province=province.name\n",
      "# city.country=country.code\n",
      "# city.province=province.name\n",
      "# citylocalname.city=city.name\n",
      "# citylocalname.country=city.country\n",
      "# citylocalname.province=city.province\n",
      "# cityothername.city=city.name\n",
      "# cityothername.country=city.country\n",
      "# cityothername.province=province.name\n",
      "# citypops.city=city.name\n",
      "# citypops.country=city.country\n",
      "# citypops.province=province.name\n",
      "\n",
      "#\n",
      "### How many cities have populations less than 1000?\n",
      "SELECT\n",
      "21 How many cities have populations less than 1000? SELECT ```sql SELECT COUNT(*) FROM city WHERE population < 1000; ``` 10.507375240325928\n",
      "-----\n"
     ]
    },
    {
     "name": "stderr",
     "output_type": "stream",
     "text": [
      "c:\\Users\\Tahsin\\Desktop\\Uni\\COSC\\Directed Studies\\TextToSQL\\experiments\\C3\\..\\..\\functions\\sqldatabase_langchain_utils.py:98: SAWarning: Cannot correctly sort tables; there are unresolvable cycles between tables \"mondial_gpt.lake, mondial_gpt.river\", which is usually caused by mutually dependent foreign key constraints.  Foreign key constraints involving these tables will not be considered; this warning may raise an error in a future release.\n",
      "  return self.db._metadata.sorted_tables\n",
      "c:\\Users\\Tahsin\\Desktop\\Uni\\COSC\\Directed Studies\\TextToSQL\\experiments\\C3\\..\\..\\functions\\sqldatabase_langchain_utils.py:98: SAWarning: Cannot correctly sort tables; there are unresolvable cycles between tables \"mondial_gpt.lake, mondial_gpt.river\", which is usually caused by mutually dependent foreign key constraints.  Foreign key constraints involving these tables will not be considered; this warning may raise an error in a future release.\n",
      "  return self.db._metadata.sorted_tables\n"
     ]
    },
    {
     "name": "stdout",
     "output_type": "stream",
     "text": [
      "Column recall attempt: 1\n",
      "\n",
      "### Complete oracle SQL query only and with no explanation, and do not select extra columns that are not explicitly requested in the query. \n",
      "### Oracle SQL tables, with their properties: \n",
      "#\n",
      "# country (code, name, area, capital, population)\n",
      "# province (country, name, population, area, capital)\n",
      "# city (country, province, name, population, elevation)\n",
      "# airport (country, city, elevation, province, iatacode)\n",
      "# province.country=country.code\n",
      "# province.country=country.code\n",
      "# city.country=country.code\n",
      "# city.province=province.name\n",
      "# city.country=country.code\n",
      "# city.province=province.name\n",
      "# airport.country=city.country\n",
      "# airport.city=city.name\n",
      "# airport.province=province.name\n",
      "\n",
      "#\n",
      "### What is the average elevation of airports in America?\n",
      "SELECT\n",
      "22 What is the average elevation of airports in America? SELECT AVG(elevation) FROM airport WHERE country = 'America'; 10.143266201019287\n",
      "-----\n"
     ]
    },
    {
     "name": "stderr",
     "output_type": "stream",
     "text": [
      "c:\\Users\\Tahsin\\Desktop\\Uni\\COSC\\Directed Studies\\TextToSQL\\experiments\\C3\\..\\..\\functions\\sqldatabase_langchain_utils.py:98: SAWarning: Cannot correctly sort tables; there are unresolvable cycles between tables \"mondial_gpt.lake, mondial_gpt.river\", which is usually caused by mutually dependent foreign key constraints.  Foreign key constraints involving these tables will not be considered; this warning may raise an error in a future release.\n",
      "  return self.db._metadata.sorted_tables\n"
     ]
    },
    {
     "name": "stdout",
     "output_type": "stream",
     "text": [
      "list error\n",
      "list error\n"
     ]
    },
    {
     "name": "stderr",
     "output_type": "stream",
     "text": [
      "c:\\Users\\Tahsin\\Desktop\\Uni\\COSC\\Directed Studies\\TextToSQL\\experiments\\C3\\..\\..\\functions\\sqldatabase_langchain_utils.py:98: SAWarning: Cannot correctly sort tables; there are unresolvable cycles between tables \"mondial_gpt.lake, mondial_gpt.river\", which is usually caused by mutually dependent foreign key constraints.  Foreign key constraints involving these tables will not be considered; this warning may raise an error in a future release.\n",
      "  return self.db._metadata.sorted_tables\n"
     ]
    },
    {
     "name": "stdout",
     "output_type": "stream",
     "text": [
      "Column recall attempt: 1\n",
      "\n",
      "### Complete oracle SQL query only and with no explanation, and do not select extra columns that are not explicitly requested in the query. \n",
      "### Oracle SQL tables, with their properties: \n",
      "#\n",
      "# country (name, code, province, capital, area)\n",
      "# sea (name, area, depth)\n",
      "# borders (country1, country2, length)\n",
      "# encompasses (country, continent, percentage)\n",
      "# borders.country1=country.code\n",
      "# borders.country2=country.code\n",
      "# encompasses.country=country.code\n",
      "# encompasses.continent=continent.name\n",
      "\n",
      "#\n",
      "### How many countries are adjacent to (or ecompassed by) the Caribbean Sea?\n",
      "SELECT\n",
      "23 How many countries are adjacent to (or ecompassed by) the Caribbean Sea? SELECT ```sql SELECT COUNT(DISTINCT country) FROM borders WHERE country2 IN (SELECT code FROM country WHERE province = 'Caribbean Sea') OR country1 IN (SELECT code FROM country WHERE province = 'Caribbean Sea'); ``` 34.83797287940979\n",
      "-----\n"
     ]
    },
    {
     "name": "stderr",
     "output_type": "stream",
     "text": [
      "c:\\Users\\Tahsin\\Desktop\\Uni\\COSC\\Directed Studies\\TextToSQL\\experiments\\C3\\..\\..\\functions\\sqldatabase_langchain_utils.py:98: SAWarning: Cannot correctly sort tables; there are unresolvable cycles between tables \"mondial_gpt.lake, mondial_gpt.river\", which is usually caused by mutually dependent foreign key constraints.  Foreign key constraints involving these tables will not be considered; this warning may raise an error in a future release.\n",
      "  return self.db._metadata.sorted_tables\n"
     ]
    },
    {
     "name": "stdout",
     "output_type": "stream",
     "text": [
      "list error\n",
      "list error\n",
      "list error\n",
      "list error\n",
      "list error\n",
      "list error\n"
     ]
    },
    {
     "name": "stderr",
     "output_type": "stream",
     "text": [
      "c:\\Users\\Tahsin\\Desktop\\Uni\\COSC\\Directed Studies\\TextToSQL\\experiments\\C3\\..\\..\\functions\\sqldatabase_langchain_utils.py:98: SAWarning: Cannot correctly sort tables; there are unresolvable cycles between tables \"mondial_gpt.lake, mondial_gpt.river\", which is usually caused by mutually dependent foreign key constraints.  Foreign key constraints involving these tables will not be considered; this warning may raise an error in a future release.\n",
      "  return self.db._metadata.sorted_tables\n"
     ]
    },
    {
     "name": "stdout",
     "output_type": "stream",
     "text": [
      "Column recall attempt: 1\n",
      "\n",
      "### Complete oracle SQL query only and with no explanation, and do not select extra columns that are not explicitly requested in the query. \n",
      "### Oracle SQL tables, with their properties: \n",
      "#\n",
      "# country (code, name, area, population, province)\n",
      "# sea (name, area, depth)\n",
      "# borders (length, country1, country2)\n",
      "# encompasses (percentage, country, continent)\n",
      "# borders.country1=country.code\n",
      "# borders.country2=country.code\n",
      "# encompasses.country=country.code\n",
      "# encompasses.continent=continent.name\n",
      "\n",
      "#\n",
      "### How much area do the countries that are adjacent to (or encompassed by) the Caribbean Sea cover in total?\n",
      "SELECT\n",
      "24 How much area do the countries that are adjacent to (or encompassed by) the Caribbean Sea cover in total? SELECT SELECT SUM(c.area) FROM country c JOIN borders b ON c.code = b.country1 OR c.code = b.country2 JOIN sea s ON s.name = 'Caribbean Sea'; 66.055260181427\n",
      "-----\n"
     ]
    },
    {
     "name": "stderr",
     "output_type": "stream",
     "text": [
      "c:\\Users\\Tahsin\\Desktop\\Uni\\COSC\\Directed Studies\\TextToSQL\\experiments\\C3\\..\\..\\functions\\sqldatabase_langchain_utils.py:98: SAWarning: Cannot correctly sort tables; there are unresolvable cycles between tables \"mondial_gpt.lake, mondial_gpt.river\", which is usually caused by mutually dependent foreign key constraints.  Foreign key constraints involving these tables will not be considered; this warning may raise an error in a future release.\n",
      "  return self.db._metadata.sorted_tables\n"
     ]
    },
    {
     "name": "stdout",
     "output_type": "stream",
     "text": [
      "list error\n"
     ]
    },
    {
     "name": "stderr",
     "output_type": "stream",
     "text": [
      "c:\\Users\\Tahsin\\Desktop\\Uni\\COSC\\Directed Studies\\TextToSQL\\experiments\\C3\\..\\..\\functions\\sqldatabase_langchain_utils.py:98: SAWarning: Cannot correctly sort tables; there are unresolvable cycles between tables \"mondial_gpt.lake, mondial_gpt.river\", which is usually caused by mutually dependent foreign key constraints.  Foreign key constraints involving these tables will not be considered; this warning may raise an error in a future release.\n",
      "  return self.db._metadata.sorted_tables\n"
     ]
    },
    {
     "name": "stdout",
     "output_type": "stream",
     "text": [
      "Column recall attempt: 1\n",
      "\n",
      "### Complete oracle SQL query only and with no explanation, and do not select extra columns that are not explicitly requested in the query. \n",
      "### Oracle SQL tables, with their properties: \n",
      "#\n",
      "# country (code, name, population, capital)\n",
      "# borders (country1, country2, length)\n",
      "# countrylocalname (country, localname)\n",
      "# countryothername (country, othername)\n",
      "# borders.country1=country.code\n",
      "# borders.country2=country.code\n",
      "# countrylocalname.country=country.code\n",
      "# countryothername.country=country.code\n",
      "\n",
      "#\n",
      "### For all countries, give the sum of the population of all its neighbors\n",
      "SELECT\n",
      "25 For all countries, give the sum of the population of all its neighbors SELECT ```sql SELECT c.name, SUM(n.population) AS total_population_of_neighbors FROM country c JOIN borders b ON c.code = b.country1 JOIN country n ON b.country2 = n.code GROUP BY c.name; ``` 19.975008010864258\n",
      "-----\n"
     ]
    },
    {
     "name": "stderr",
     "output_type": "stream",
     "text": [
      "c:\\Users\\Tahsin\\Desktop\\Uni\\COSC\\Directed Studies\\TextToSQL\\experiments\\C3\\..\\..\\functions\\sqldatabase_langchain_utils.py:98: SAWarning: Cannot correctly sort tables; there are unresolvable cycles between tables \"mondial_gpt.lake, mondial_gpt.river\", which is usually caused by mutually dependent foreign key constraints.  Foreign key constraints involving these tables will not be considered; this warning may raise an error in a future release.\n",
      "  return self.db._metadata.sorted_tables\n"
     ]
    },
    {
     "name": "stdout",
     "output_type": "stream",
     "text": [
      "list error\n",
      "list error\n",
      "list error\n",
      "list error\n",
      "list error\n",
      "list error\n",
      "list error\n",
      "list error\n",
      "list error\n",
      "list error\n",
      "list error\n",
      "list error\n",
      "list error\n",
      "list error\n",
      "list error\n",
      "list error\n",
      "list error\n",
      "list error\n",
      "list error\n",
      "list error\n",
      "list error\n",
      "list error\n",
      "list error\n",
      "list error\n",
      "list error\n",
      "list error\n",
      "list error\n",
      "list error\n",
      "list error\n",
      "list error\n",
      "list error\n",
      "list error\n",
      "list error\n",
      "list error\n",
      "list error\n",
      "list error\n",
      "list error\n",
      "list error\n",
      "list error\n",
      "list error\n",
      "list error\n",
      "list error\n",
      "list error\n",
      "list error\n",
      "list error\n",
      "list error\n",
      "list error\n",
      "list error\n",
      "list error\n",
      "list error\n",
      "list error\n",
      "list error\n",
      "list error\n",
      "list error\n",
      "list error\n",
      "list error\n",
      "list error\n",
      "list error\n",
      "list error\n",
      "list error\n",
      "list error\n",
      "list error\n",
      "list error\n",
      "list error\n",
      "list error\n",
      "list error\n",
      "list error\n",
      "list error\n",
      "list error\n",
      "list error\n",
      "list error\n",
      "list error\n",
      "list error\n",
      "list error\n",
      "list error\n",
      "list error\n",
      "list error\n",
      "list error\n",
      "list error\n",
      "list error\n",
      "list error\n",
      "list error\n",
      "list error\n",
      "list error\n",
      "list error\n",
      "list error\n",
      "list error\n",
      "list error\n",
      "list error\n",
      "list error\n",
      "list error\n",
      "list error\n",
      "list error\n",
      "list error\n",
      "list error\n",
      "list error\n",
      "list error\n",
      "list error\n",
      "list error\n",
      "list error\n",
      "list error\n",
      "list error\n",
      "list error\n",
      "list error\n",
      "list error\n",
      "list error\n",
      "list error\n",
      "list error\n",
      "list error\n",
      "list error\n",
      "list error\n",
      "list error\n",
      "list error\n",
      "list error\n",
      "list error\n",
      "list error\n",
      "list error\n",
      "list error\n",
      "list error\n",
      "list error\n",
      "list error\n",
      "list error\n",
      "list error\n",
      "list error\n",
      "list error\n",
      "list error\n",
      "list error\n",
      "list error\n",
      "list error\n",
      "list error\n",
      "list error\n",
      "list error\n",
      "list error\n",
      "list error\n",
      "list error\n",
      "list error\n",
      "list error\n",
      "list error\n",
      "list error\n",
      "list error\n",
      "list error\n",
      "list error\n",
      "list error\n",
      "list error\n",
      "list error\n",
      "list error\n",
      "list error\n",
      "list error\n",
      "list error\n",
      "list error\n",
      "list error\n",
      "list error\n",
      "list error\n"
     ]
    },
    {
     "name": "stderr",
     "output_type": "stream",
     "text": [
      "c:\\Users\\Tahsin\\Desktop\\Uni\\COSC\\Directed Studies\\TextToSQL\\experiments\\C3\\..\\..\\functions\\sqldatabase_langchain_utils.py:98: SAWarning: Cannot correctly sort tables; there are unresolvable cycles between tables \"mondial_gpt.lake, mondial_gpt.river\", which is usually caused by mutually dependent foreign key constraints.  Foreign key constraints involving these tables will not be considered; this warning may raise an error in a future release.\n",
      "  return self.db._metadata.sorted_tables\n"
     ]
    },
    {
     "name": "stdout",
     "output_type": "stream",
     "text": [
      "Column recall attempt: 1\n",
      "\n",
      "### Complete oracle SQL query only and with no explanation, and do not select extra columns that are not explicitly requested in the query. \n",
      "### Oracle SQL tables, with their properties: \n",
      "#\n",
      "# island (name, islands, coordinates, area, elevation)\n",
      "# mountain (name, elevation, coordinates, mountains, type)\n",
      "# mountainonisland (mountain, island)\n",
      "# mountainonisland.mountain=mountain.name\n",
      "\n",
      "#\n",
      "### What mountains are on the island of Borneo?\n",
      "SELECT\n",
      "26 What mountains are on the island of Borneo? SELECT mountain FROM mountainonisland WHERE island = 'Borneo'; 1201.9973978996277\n",
      "-----\n"
     ]
    },
    {
     "name": "stderr",
     "output_type": "stream",
     "text": [
      "c:\\Users\\Tahsin\\Desktop\\Uni\\COSC\\Directed Studies\\TextToSQL\\experiments\\C3\\..\\..\\functions\\sqldatabase_langchain_utils.py:98: SAWarning: Cannot correctly sort tables; there are unresolvable cycles between tables \"mondial_gpt.lake, mondial_gpt.river\", which is usually caused by mutually dependent foreign key constraints.  Foreign key constraints involving these tables will not be considered; this warning may raise an error in a future release.\n",
      "  return self.db._metadata.sorted_tables\n",
      "c:\\Users\\Tahsin\\Desktop\\Uni\\COSC\\Directed Studies\\TextToSQL\\experiments\\C3\\..\\..\\functions\\sqldatabase_langchain_utils.py:98: SAWarning: Cannot correctly sort tables; there are unresolvable cycles between tables \"mondial_gpt.lake, mondial_gpt.river\", which is usually caused by mutually dependent foreign key constraints.  Foreign key constraints involving these tables will not be considered; this warning may raise an error in a future release.\n",
      "  return self.db._metadata.sorted_tables\n"
     ]
    },
    {
     "name": "stdout",
     "output_type": "stream",
     "text": [
      "Column recall attempt: 1\n",
      "\n",
      "### Complete oracle SQL query only and with no explanation, and do not select extra columns that are not explicitly requested in the query. \n",
      "### Oracle SQL tables, with their properties: \n",
      "#\n",
      "# country (name, area, population, code)\n",
      "# population (country, population_growth, infant_mortality)\n",
      "# province (name, country, population, area)\n",
      "# city (name, country, province, population)\n",
      "# population.country=country.code\n",
      "# province.country=country.code\n",
      "# province.country=country.code\n",
      "# city.country=country.code\n",
      "# city.province=province.name\n",
      "# city.country=country.code\n",
      "# city.province=province.name\n",
      "\n",
      "#\n",
      "### Provide the name and total population of the country with the smallest area.\n",
      "SELECT\n",
      "27 Provide the name and total population of the country with the smallest area. SELECT name, SUM(population) FROM country WHERE area = (SELECT MIN(area) FROM country); 12.47607135772705\n",
      "-----\n"
     ]
    },
    {
     "name": "stderr",
     "output_type": "stream",
     "text": [
      "c:\\Users\\Tahsin\\Desktop\\Uni\\COSC\\Directed Studies\\TextToSQL\\experiments\\C3\\..\\..\\functions\\sqldatabase_langchain_utils.py:98: SAWarning: Cannot correctly sort tables; there are unresolvable cycles between tables \"mondial_gpt.lake, mondial_gpt.river\", which is usually caused by mutually dependent foreign key constraints.  Foreign key constraints involving these tables will not be considered; this warning may raise an error in a future release.\n",
      "  return self.db._metadata.sorted_tables\n"
     ]
    },
    {
     "name": "stdout",
     "output_type": "stream",
     "text": [
      "list error\n",
      "list error\n",
      "list error\n",
      "list error\n",
      "list error\n",
      "list error\n",
      "list error\n",
      "list error\n",
      "list error\n",
      "list error\n",
      "list error\n",
      "list error\n",
      "list error\n"
     ]
    },
    {
     "name": "stderr",
     "output_type": "stream",
     "text": [
      "c:\\Users\\Tahsin\\Desktop\\Uni\\COSC\\Directed Studies\\TextToSQL\\experiments\\C3\\..\\..\\functions\\sqldatabase_langchain_utils.py:98: SAWarning: Cannot correctly sort tables; there are unresolvable cycles between tables \"mondial_gpt.lake, mondial_gpt.river\", which is usually caused by mutually dependent foreign key constraints.  Foreign key constraints involving these tables will not be considered; this warning may raise an error in a future release.\n",
      "  return self.db._metadata.sorted_tables\n"
     ]
    },
    {
     "name": "stdout",
     "output_type": "stream",
     "text": [
      "Column recall attempt: 1\n",
      "\n",
      "### Complete oracle SQL query only and with no explanation, and do not select extra columns that are not explicitly requested in the query. \n",
      "### Oracle SQL tables, with their properties: \n",
      "#\n",
      "# country (code, name, capital, province)\n",
      "# river (name, source, estuary, length, sourceelevation)\n",
      "# geo_estuary (river, country, province)\n",
      "# river.lake=lake.name\n",
      "# river.sea=sea.name\n",
      "# river.lake=lake.name\n",
      "# river.sea=sea.name\n",
      "# geo_estuary.river=river.name\n",
      "# geo_estuary.country=country.code\n",
      "# geo_estuary.province=province.name\n",
      "\n",
      "#\n",
      "### The codes of all countries for which at least one river that originates in this country has its estuary in a neighboring country.\n",
      "SELECT\n",
      "28 The codes of all countries for which at least one river that originates in this country has its estuary in a neighboring country. SELECT ```sql SELECT DISTINCT c1.code FROM country c1 JOIN river r ON r.source = c1.name JOIN geo_estuary ge ON r.name = ge.river JOIN country c2 ON ge.country = c2.code WHERE c1.code <> c2.code; ``` 172.4309377670288\n",
      "-----\n"
     ]
    },
    {
     "name": "stderr",
     "output_type": "stream",
     "text": [
      "c:\\Users\\Tahsin\\Desktop\\Uni\\COSC\\Directed Studies\\TextToSQL\\experiments\\C3\\..\\..\\functions\\sqldatabase_langchain_utils.py:98: SAWarning: Cannot correctly sort tables; there are unresolvable cycles between tables \"mondial_gpt.lake, mondial_gpt.river\", which is usually caused by mutually dependent foreign key constraints.  Foreign key constraints involving these tables will not be considered; this warning may raise an error in a future release.\n",
      "  return self.db._metadata.sorted_tables\n"
     ]
    },
    {
     "name": "stdout",
     "output_type": "stream",
     "text": [
      "list error\n"
     ]
    },
    {
     "name": "stderr",
     "output_type": "stream",
     "text": [
      "c:\\Users\\Tahsin\\Desktop\\Uni\\COSC\\Directed Studies\\TextToSQL\\experiments\\C3\\..\\..\\functions\\sqldatabase_langchain_utils.py:98: SAWarning: Cannot correctly sort tables; there are unresolvable cycles between tables \"mondial_gpt.lake, mondial_gpt.river\", which is usually caused by mutually dependent foreign key constraints.  Foreign key constraints involving these tables will not be considered; this warning may raise an error in a future release.\n",
      "  return self.db._metadata.sorted_tables\n"
     ]
    },
    {
     "name": "stdout",
     "output_type": "stream",
     "text": [
      "Column recall attempt: 1\n",
      "\n",
      "### Complete oracle SQL query only and with no explanation, and do not select extra columns that are not explicitly requested in the query. \n",
      "### Oracle SQL tables, with their properties: \n",
      "#\n",
      "# country (code, name, province, capital)\n",
      "# mountain (name, elevation, type, mountains, coordinates)\n",
      "# province (name, country, population, area, capprov)\n",
      "# province.country=country.code\n",
      "# province.country=country.code\n",
      "\n",
      "#\n",
      "### The codes of all countries where at least one mountain is located in each of their provinces\n",
      "SELECT\n",
      "29 The codes of all countries where at least one mountain is located in each of their provinces SELECT ```sql SELECT DISTINCT c.code FROM country c WHERE NOT EXISTS ( SELECT p.country FROM province p WHERE p.country = c.code MINUS SELECT DISTINCT m.country FROM mountain m ) ``` 17.10434365272522\n",
      "-----\n"
     ]
    },
    {
     "name": "stderr",
     "output_type": "stream",
     "text": [
      "c:\\Users\\Tahsin\\Desktop\\Uni\\COSC\\Directed Studies\\TextToSQL\\experiments\\C3\\..\\..\\functions\\sqldatabase_langchain_utils.py:98: SAWarning: Cannot correctly sort tables; there are unresolvable cycles between tables \"mondial_gpt.lake, mondial_gpt.river\", which is usually caused by mutually dependent foreign key constraints.  Foreign key constraints involving these tables will not be considered; this warning may raise an error in a future release.\n",
      "  return self.db._metadata.sorted_tables\n"
     ]
    },
    {
     "name": "stdout",
     "output_type": "stream",
     "text": [
      "list error\n",
      "list error\n",
      "list error\n"
     ]
    },
    {
     "name": "stderr",
     "output_type": "stream",
     "text": [
      "c:\\Users\\Tahsin\\Desktop\\Uni\\COSC\\Directed Studies\\TextToSQL\\experiments\\C3\\..\\..\\functions\\sqldatabase_langchain_utils.py:98: SAWarning: Cannot correctly sort tables; there are unresolvable cycles between tables \"mondial_gpt.lake, mondial_gpt.river\", which is usually caused by mutually dependent foreign key constraints.  Foreign key constraints involving these tables will not be considered; this warning may raise an error in a future release.\n",
      "  return self.db._metadata.sorted_tables\n"
     ]
    },
    {
     "name": "stdout",
     "output_type": "stream",
     "text": [
      "Column recall attempt: 1\n",
      "\n",
      "### Complete oracle SQL query only and with no explanation, and do not select extra columns that are not explicitly requested in the query. \n",
      "### Oracle SQL tables, with their properties: \n",
      "#\n",
      "# country (code, name, capital, province, area)\n",
      "# borders (country1, country2, length)\n",
      "# borders.country1=country.code\n",
      "# borders.country2=country.code\n",
      "\n",
      "#\n",
      "### The code and total border lengths of all countries with at least one border.\n",
      "SELECT\n",
      "30 The code and total border lengths of all countries with at least one border. SELECT code, SUM(length) as total_border_length FROM country JOIN borders ON country.code = borders.country1 GROUP BY code; 30.797844171524048\n",
      "-----\n"
     ]
    },
    {
     "name": "stderr",
     "output_type": "stream",
     "text": [
      "c:\\Users\\Tahsin\\Desktop\\Uni\\COSC\\Directed Studies\\TextToSQL\\experiments\\C3\\..\\..\\functions\\sqldatabase_langchain_utils.py:98: SAWarning: Cannot correctly sort tables; there are unresolvable cycles between tables \"mondial_gpt.lake, mondial_gpt.river\", which is usually caused by mutually dependent foreign key constraints.  Foreign key constraints involving these tables will not be considered; this warning may raise an error in a future release.\n",
      "  return self.db._metadata.sorted_tables\n"
     ]
    },
    {
     "name": "stdout",
     "output_type": "stream",
     "text": [
      "list error\n"
     ]
    },
    {
     "name": "stderr",
     "output_type": "stream",
     "text": [
      "c:\\Users\\Tahsin\\Desktop\\Uni\\COSC\\Directed Studies\\TextToSQL\\experiments\\C3\\..\\..\\functions\\sqldatabase_langchain_utils.py:98: SAWarning: Cannot correctly sort tables; there are unresolvable cycles between tables \"mondial_gpt.lake, mondial_gpt.river\", which is usually caused by mutually dependent foreign key constraints.  Foreign key constraints involving these tables will not be considered; this warning may raise an error in a future release.\n",
      "  return self.db._metadata.sorted_tables\n"
     ]
    },
    {
     "name": "stdout",
     "output_type": "stream",
     "text": [
      "Column recall attempt: 1\n",
      "\n",
      "### Complete oracle SQL query only and with no explanation, and do not select extra columns that are not explicitly requested in the query. \n",
      "### Oracle SQL tables, with their properties: \n",
      "#\n",
      "# country (name, code, capital, province)\n",
      "# river (name, source, lake, sea, river)\n",
      "# riverthrough (river, lake)\n",
      "# located (country, river, lake, city, sea)\n",
      "# river.lake=lake.name\n",
      "# river.sea=sea.name\n",
      "# river.lake=lake.name\n",
      "# river.sea=sea.name\n",
      "# riverthrough.river=river.name\n",
      "# riverthrough.lake=lake.name\n",
      "# located.city=city.name\n",
      "# located.province=province.name\n",
      "# located.country=city.country\n",
      "# located.river=river.name\n",
      "# located.lake=lake.name\n",
      "# located.sea=sea.name\n",
      "\n",
      "#\n",
      "### The names and codes of all countries in which at least one river originates.\n",
      "SELECT\n",
      "31 The names and codes of all countries in which at least one river originates. SELECT ```sql SELECT DISTINCT c.name, c.code FROM country c JOIN river r ON c.code = r.source; ``` 21.148678302764893\n",
      "-----\n"
     ]
    },
    {
     "name": "stderr",
     "output_type": "stream",
     "text": [
      "c:\\Users\\Tahsin\\Desktop\\Uni\\COSC\\Directed Studies\\TextToSQL\\experiments\\C3\\..\\..\\functions\\sqldatabase_langchain_utils.py:98: SAWarning: Cannot correctly sort tables; there are unresolvable cycles between tables \"mondial_gpt.lake, mondial_gpt.river\", which is usually caused by mutually dependent foreign key constraints.  Foreign key constraints involving these tables will not be considered; this warning may raise an error in a future release.\n",
      "  return self.db._metadata.sorted_tables\n",
      "c:\\Users\\Tahsin\\Desktop\\Uni\\COSC\\Directed Studies\\TextToSQL\\experiments\\C3\\..\\..\\functions\\sqldatabase_langchain_utils.py:98: SAWarning: Cannot correctly sort tables; there are unresolvable cycles between tables \"mondial_gpt.lake, mondial_gpt.river\", which is usually caused by mutually dependent foreign key constraints.  Foreign key constraints involving these tables will not be considered; this warning may raise an error in a future release.\n",
      "  return self.db._metadata.sorted_tables\n"
     ]
    },
    {
     "name": "stdout",
     "output_type": "stream",
     "text": [
      "Column recall attempt: 1\n",
      "\n",
      "### Complete oracle SQL query only and with no explanation, and do not select extra columns that are not explicitly requested in the query. \n",
      "### Oracle SQL tables, with their properties: \n",
      "#\n",
      "# river (name, area, lake, sea, river)\n",
      "# city (name, country, province, population)\n",
      "# geo_river (river, country, province)\n",
      "# located (city, province, country, river)\n",
      "# river.lake=lake.name\n",
      "# river.sea=sea.name\n",
      "# river.lake=lake.name\n",
      "# river.sea=sea.name\n",
      "# city.country=country.code\n",
      "# city.province=province.name\n",
      "# geo_river.river=river.name\n",
      "# geo_river.country=province.country\n",
      "# geo_river.province=province.name\n",
      "# city.country=country.code\n",
      "# city.province=province.name\n",
      "# located.city=city.name\n",
      "# located.province=province.name\n",
      "# located.country=city.country\n",
      "# located.river=river.name\n",
      "# located.lake=lake.name\n",
      "# located.sea=sea.name\n",
      "\n",
      "#\n",
      "### What is the area and country of the Chatanga River?\n",
      "SELECT\n",
      "32 What is the area and country of the Chatanga River? SELECT area, country FROM river WHERE name = 'Chatanga'; 6.484166860580444\n",
      "-----\n"
     ]
    },
    {
     "name": "stderr",
     "output_type": "stream",
     "text": [
      "c:\\Users\\Tahsin\\Desktop\\Uni\\COSC\\Directed Studies\\TextToSQL\\experiments\\C3\\..\\..\\functions\\sqldatabase_langchain_utils.py:98: SAWarning: Cannot correctly sort tables; there are unresolvable cycles between tables \"mondial_gpt.lake, mondial_gpt.river\", which is usually caused by mutually dependent foreign key constraints.  Foreign key constraints involving these tables will not be considered; this warning may raise an error in a future release.\n",
      "  return self.db._metadata.sorted_tables\n",
      "c:\\Users\\Tahsin\\Desktop\\Uni\\COSC\\Directed Studies\\TextToSQL\\experiments\\C3\\..\\..\\functions\\sqldatabase_langchain_utils.py:98: SAWarning: Cannot correctly sort tables; there are unresolvable cycles between tables \"mondial_gpt.lake, mondial_gpt.river\", which is usually caused by mutually dependent foreign key constraints.  Foreign key constraints involving these tables will not be considered; this warning may raise an error in a future release.\n",
      "  return self.db._metadata.sorted_tables\n"
     ]
    },
    {
     "name": "stdout",
     "output_type": "stream",
     "text": [
      "Column recall attempt: 1\n",
      "\n",
      "### Complete oracle SQL query only and with no explanation, and do not select extra columns that are not explicitly requested in the query. \n",
      "### Oracle SQL tables, with their properties: \n",
      "#\n",
      "# country (code, name, capital, province, area)\n",
      "# province (name, country, population, area, capital)\n",
      "# city (country, province, name, population, elevation)\n",
      "# airport (name, country, city, iatacode, elevation)\n",
      "# province.country=country.code\n",
      "# province.country=country.code\n",
      "# city.country=country.code\n",
      "# city.province=province.name\n",
      "# city.country=country.code\n",
      "# city.province=province.name\n",
      "# airport.country=city.country\n",
      "# airport.city=city.name\n",
      "# airport.province=province.name\n",
      "\n",
      "#\n",
      "### Show the Airports with elevation more than 3000\n",
      "SELECT\n",
      "33 Show the Airports with elevation more than 3000 SELECT ```sql SELECT name FROM airport WHERE elevation > 3000; ``` 11.512576341629028\n",
      "-----\n"
     ]
    },
    {
     "name": "stderr",
     "output_type": "stream",
     "text": [
      "c:\\Users\\Tahsin\\Desktop\\Uni\\COSC\\Directed Studies\\TextToSQL\\experiments\\C3\\..\\..\\functions\\sqldatabase_langchain_utils.py:98: SAWarning: Cannot correctly sort tables; there are unresolvable cycles between tables \"mondial_gpt.lake, mondial_gpt.river\", which is usually caused by mutually dependent foreign key constraints.  Foreign key constraints involving these tables will not be considered; this warning may raise an error in a future release.\n",
      "  return self.db._metadata.sorted_tables\n"
     ]
    },
    {
     "name": "stdout",
     "output_type": "stream",
     "text": [
      "list error\n"
     ]
    },
    {
     "name": "stderr",
     "output_type": "stream",
     "text": [
      "c:\\Users\\Tahsin\\Desktop\\Uni\\COSC\\Directed Studies\\TextToSQL\\experiments\\C3\\..\\..\\functions\\sqldatabase_langchain_utils.py:98: SAWarning: Cannot correctly sort tables; there are unresolvable cycles between tables \"mondial_gpt.lake, mondial_gpt.river\", which is usually caused by mutually dependent foreign key constraints.  Foreign key constraints involving these tables will not be considered; this warning may raise an error in a future release.\n",
      "  return self.db._metadata.sorted_tables\n"
     ]
    },
    {
     "name": "stdout",
     "output_type": "stream",
     "text": [
      "Column recall attempt: 1\n",
      "\n",
      "### Complete oracle SQL query only and with no explanation, and do not select extra columns that are not explicitly requested in the query. \n",
      "### Oracle SQL tables, with their properties: \n",
      "#\n",
      "# country (name, code, capital, province, population)\n",
      "# province (name, country, population, area)\n",
      "# religion (country, name, percentage)\n",
      "# city (country, province, name, population)\n",
      "# province.country=country.code\n",
      "# religion.country=country.code\n",
      "# province.country=country.code\n",
      "# city.country=country.code\n",
      "# city.province=province.name\n",
      "# city.country=country.code\n",
      "# city.province=province.name\n",
      "\n",
      "#\n",
      "### What are the religions practiced in Mexico?\n",
      "SELECT\n",
      "34 What are the religions practiced in Mexico? SELECT name FROM religion WHERE country = 'Mexico'; 21.61557912826538\n",
      "-----\n"
     ]
    },
    {
     "name": "stderr",
     "output_type": "stream",
     "text": [
      "c:\\Users\\Tahsin\\Desktop\\Uni\\COSC\\Directed Studies\\TextToSQL\\experiments\\C3\\..\\..\\functions\\sqldatabase_langchain_utils.py:98: SAWarning: Cannot correctly sort tables; there are unresolvable cycles between tables \"mondial_gpt.lake, mondial_gpt.river\", which is usually caused by mutually dependent foreign key constraints.  Foreign key constraints involving these tables will not be considered; this warning may raise an error in a future release.\n",
      "  return self.db._metadata.sorted_tables\n",
      "c:\\Users\\Tahsin\\Desktop\\Uni\\COSC\\Directed Studies\\TextToSQL\\experiments\\C3\\..\\..\\functions\\sqldatabase_langchain_utils.py:98: SAWarning: Cannot correctly sort tables; there are unresolvable cycles between tables \"mondial_gpt.lake, mondial_gpt.river\", which is usually caused by mutually dependent foreign key constraints.  Foreign key constraints involving these tables will not be considered; this warning may raise an error in a future release.\n",
      "  return self.db._metadata.sorted_tables\n"
     ]
    },
    {
     "name": "stdout",
     "output_type": "stream",
     "text": [
      "Column recall attempt: 1\n",
      "\n",
      "### Complete oracle SQL query only and with no explanation, and do not select extra columns that are not explicitly requested in the query. \n",
      "### Oracle SQL tables, with their properties: \n",
      "#\n",
      "# sea (name, area, depth)\n",
      "# river (name, lake, length, source, river)\n",
      "# riverthrough (river, lake)\n",
      "# river.lake=lake.name\n",
      "# river.sea=sea.name\n",
      "# river.lake=lake.name\n",
      "# river.sea=sea.name\n",
      "# riverthrough.river=river.name\n",
      "# riverthrough.lake=lake.name\n",
      "\n",
      "#\n",
      "### Show all rivers that do not flow into the sea.\n",
      "SELECT\n",
      "35 Show all rivers that do not flow into the sea. SELECT ```sql SELECT name FROM river WHERE name NOT IN (SELECT river FROM riverthrough); ``` 15.091861724853516\n",
      "-----\n"
     ]
    },
    {
     "name": "stderr",
     "output_type": "stream",
     "text": [
      "c:\\Users\\Tahsin\\Desktop\\Uni\\COSC\\Directed Studies\\TextToSQL\\experiments\\C3\\..\\..\\functions\\sqldatabase_langchain_utils.py:98: SAWarning: Cannot correctly sort tables; there are unresolvable cycles between tables \"mondial_gpt.lake, mondial_gpt.river\", which is usually caused by mutually dependent foreign key constraints.  Foreign key constraints involving these tables will not be considered; this warning may raise an error in a future release.\n",
      "  return self.db._metadata.sorted_tables\n",
      "c:\\Users\\Tahsin\\Desktop\\Uni\\COSC\\Directed Studies\\TextToSQL\\experiments\\C3\\..\\..\\functions\\sqldatabase_langchain_utils.py:98: SAWarning: Cannot correctly sort tables; there are unresolvable cycles between tables \"mondial_gpt.lake, mondial_gpt.river\", which is usually caused by mutually dependent foreign key constraints.  Foreign key constraints involving these tables will not be considered; this warning may raise an error in a future release.\n",
      "  return self.db._metadata.sorted_tables\n"
     ]
    },
    {
     "name": "stdout",
     "output_type": "stream",
     "text": [
      "Column recall attempt: 1\n",
      "\n",
      "### Complete oracle SQL query only and with no explanation, and do not select extra columns that are not explicitly requested in the query. \n",
      "### Oracle SQL tables, with their properties: \n",
      "#\n",
      "# continent (name, area)\n",
      "# country (name, code, province, capital, area)\n",
      "# borders (country1, country2, length)\n",
      "# encompasses (country, continent, percentage)\n",
      "# borders.country1=country.code\n",
      "# borders.country2=country.code\n",
      "# encompasses.country=country.code\n",
      "# encompasses.continent=continent.name\n",
      "\n",
      "#\n",
      "### List African countries by number of neighbors.\n",
      "SELECT\n",
      "36 List African countries by number of neighbors. SELECT ```sql SELECT c.name, COUNT(b.country2) AS num_neighbors FROM country c JOIN borders b ON c.code = b.country1 WHERE c.continent = 'Africa' GROUP BY c.name ORDER BY num_neighbors DESC; ``` 7.363165378570557\n",
      "-----\n"
     ]
    },
    {
     "name": "stderr",
     "output_type": "stream",
     "text": [
      "c:\\Users\\Tahsin\\Desktop\\Uni\\COSC\\Directed Studies\\TextToSQL\\experiments\\C3\\..\\..\\functions\\sqldatabase_langchain_utils.py:98: SAWarning: Cannot correctly sort tables; there are unresolvable cycles between tables \"mondial_gpt.lake, mondial_gpt.river\", which is usually caused by mutually dependent foreign key constraints.  Foreign key constraints involving these tables will not be considered; this warning may raise an error in a future release.\n",
      "  return self.db._metadata.sorted_tables\n",
      "c:\\Users\\Tahsin\\Desktop\\Uni\\COSC\\Directed Studies\\TextToSQL\\experiments\\C3\\..\\..\\functions\\sqldatabase_langchain_utils.py:98: SAWarning: Cannot correctly sort tables; there are unresolvable cycles between tables \"mondial_gpt.lake, mondial_gpt.river\", which is usually caused by mutually dependent foreign key constraints.  Foreign key constraints involving these tables will not be considered; this warning may raise an error in a future release.\n",
      "  return self.db._metadata.sorted_tables\n"
     ]
    },
    {
     "name": "stdout",
     "output_type": "stream",
     "text": [
      "Column recall attempt: 1\n",
      "\n",
      "### Complete oracle SQL query only and with no explanation, and do not select extra columns that are not explicitly requested in the query. \n",
      "### Oracle SQL tables, with their properties: \n",
      "#\n",
      "# continent (name, area)\n",
      "# country (name, code, population, capital, province)\n",
      "# population (country, infant_mortality, population_growth)\n",
      "# province (country, name, population, area)\n",
      "# population.country=country.code\n",
      "# province.country=country.code\n",
      "# province.country=country.code\n",
      "\n",
      "#\n",
      "### What is the average infant mortality rate for each continent?\n",
      "SELECT\n",
      "37 What is the average infant mortality rate for each continent? SELECT continent, AVG(infant_mortality) FROM population JOIN country ON population.country = country.code JOIN province ON province.country = country.code GROUP BY continent; 9.326821565628052\n",
      "-----\n"
     ]
    },
    {
     "name": "stderr",
     "output_type": "stream",
     "text": [
      "c:\\Users\\Tahsin\\Desktop\\Uni\\COSC\\Directed Studies\\TextToSQL\\experiments\\C3\\..\\..\\functions\\sqldatabase_langchain_utils.py:98: SAWarning: Cannot correctly sort tables; there are unresolvable cycles between tables \"mondial_gpt.lake, mondial_gpt.river\", which is usually caused by mutually dependent foreign key constraints.  Foreign key constraints involving these tables will not be considered; this warning may raise an error in a future release.\n",
      "  return self.db._metadata.sorted_tables\n",
      "c:\\Users\\Tahsin\\Desktop\\Uni\\COSC\\Directed Studies\\TextToSQL\\experiments\\C3\\..\\..\\functions\\sqldatabase_langchain_utils.py:98: SAWarning: Cannot correctly sort tables; there are unresolvable cycles between tables \"mondial_gpt.lake, mondial_gpt.river\", which is usually caused by mutually dependent foreign key constraints.  Foreign key constraints involving these tables will not be considered; this warning may raise an error in a future release.\n",
      "  return self.db._metadata.sorted_tables\n"
     ]
    },
    {
     "name": "stdout",
     "output_type": "stream",
     "text": [
      "Column recall attempt: 1\n",
      "\n",
      "### Complete oracle SQL query only and with no explanation, and do not select extra columns that are not explicitly requested in the query. \n",
      "### Oracle SQL tables, with their properties: \n",
      "#\n",
      "# continent (name, area)\n",
      "# country (code, name, capital, province, population)\n",
      "# population (country, infant_mortality, population_growth)\n",
      "# province (country, name, population, area)\n",
      "# population.country=country.code\n",
      "# province.country=country.code\n",
      "# province.country=country.code\n",
      "\n",
      "#\n",
      "### What is the average mortality rate of the countries in America without considering Brazil?\n",
      "SELECT\n",
      "38 What is the average mortality rate of the countries in America without considering Brazil? SELECT ```sql SELECT AVG(infant_mortality) FROM population WHERE country IN (SELECT code FROM country WHERE continent = 'America' AND name != 'Brazil'); ``` 8.634222507476807\n",
      "-----\n"
     ]
    },
    {
     "name": "stderr",
     "output_type": "stream",
     "text": [
      "c:\\Users\\Tahsin\\Desktop\\Uni\\COSC\\Directed Studies\\TextToSQL\\experiments\\C3\\..\\..\\functions\\sqldatabase_langchain_utils.py:98: SAWarning: Cannot correctly sort tables; there are unresolvable cycles between tables \"mondial_gpt.lake, mondial_gpt.river\", which is usually caused by mutually dependent foreign key constraints.  Foreign key constraints involving these tables will not be considered; this warning may raise an error in a future release.\n",
      "  return self.db._metadata.sorted_tables\n",
      "c:\\Users\\Tahsin\\Desktop\\Uni\\COSC\\Directed Studies\\TextToSQL\\experiments\\C3\\..\\..\\functions\\sqldatabase_langchain_utils.py:98: SAWarning: Cannot correctly sort tables; there are unresolvable cycles between tables \"mondial_gpt.lake, mondial_gpt.river\", which is usually caused by mutually dependent foreign key constraints.  Foreign key constraints involving these tables will not be considered; this warning may raise an error in a future release.\n",
      "  return self.db._metadata.sorted_tables\n"
     ]
    },
    {
     "name": "stdout",
     "output_type": "stream",
     "text": [
      "Column recall attempt: 1\n",
      "\n",
      "### Complete oracle SQL query only and with no explanation, and do not select extra columns that are not explicitly requested in the query. \n",
      "### Oracle SQL tables, with their properties: \n",
      "#\n",
      "# sea (area, depth, name)\n",
      "\n",
      "#\n",
      "### List seas with area greater than 8000 and depth less than 100.\n",
      "SELECT\n",
      "39 List seas with area greater than 8000 and depth less than 100. SELECT name FROM sea WHERE area > 8000 AND depth < 100; 3.481922149658203\n",
      "-----\n"
     ]
    },
    {
     "name": "stderr",
     "output_type": "stream",
     "text": [
      "c:\\Users\\Tahsin\\Desktop\\Uni\\COSC\\Directed Studies\\TextToSQL\\experiments\\C3\\..\\..\\functions\\sqldatabase_langchain_utils.py:98: SAWarning: Cannot correctly sort tables; there are unresolvable cycles between tables \"mondial_gpt.lake, mondial_gpt.river\", which is usually caused by mutually dependent foreign key constraints.  Foreign key constraints involving these tables will not be considered; this warning may raise an error in a future release.\n",
      "  return self.db._metadata.sorted_tables\n"
     ]
    },
    {
     "name": "stdout",
     "output_type": "stream",
     "text": [
      "list error\n",
      "list error\n",
      "list error\n",
      "list error\n",
      "list error\n",
      "list error\n",
      "list error\n",
      "list error\n",
      "list error\n",
      "list error\n"
     ]
    },
    {
     "name": "stderr",
     "output_type": "stream",
     "text": [
      "c:\\Users\\Tahsin\\Desktop\\Uni\\COSC\\Directed Studies\\TextToSQL\\experiments\\C3\\..\\..\\functions\\sqldatabase_langchain_utils.py:98: SAWarning: Cannot correctly sort tables; there are unresolvable cycles between tables \"mondial_gpt.lake, mondial_gpt.river\", which is usually caused by mutually dependent foreign key constraints.  Foreign key constraints involving these tables will not be considered; this warning may raise an error in a future release.\n",
      "  return self.db._metadata.sorted_tables\n"
     ]
    },
    {
     "name": "stdout",
     "output_type": "stream",
     "text": [
      "Column recall attempt: 1\n",
      "\n",
      "### Complete oracle SQL query only and with no explanation, and do not select extra columns that are not explicitly requested in the query. \n",
      "### Oracle SQL tables, with their properties: \n",
      "#\n",
      "# continent (name, area)\n",
      "# country (code, name, capital, area, province)\n",
      "# mountain (name, elevation, type, mountains, coordinates)\n",
      "# encompasses (continent, country, percentage)\n",
      "# encompasses.country=country.code\n",
      "# encompasses.continent=continent.name\n",
      "\n",
      "#\n",
      "### How many mountains are there in Asia?\n",
      "SELECT\n",
      "40 How many mountains are there in Asia? SELECT COUNT(*) FROM mountain WHERE mountains = 'Asia'; 129.4218406677246\n",
      "-----\n"
     ]
    },
    {
     "name": "stderr",
     "output_type": "stream",
     "text": [
      "c:\\Users\\Tahsin\\Desktop\\Uni\\COSC\\Directed Studies\\TextToSQL\\experiments\\C3\\..\\..\\functions\\sqldatabase_langchain_utils.py:98: SAWarning: Cannot correctly sort tables; there are unresolvable cycles between tables \"mondial_gpt.lake, mondial_gpt.river\", which is usually caused by mutually dependent foreign key constraints.  Foreign key constraints involving these tables will not be considered; this warning may raise an error in a future release.\n",
      "  return self.db._metadata.sorted_tables\n"
     ]
    },
    {
     "name": "stdout",
     "output_type": "stream",
     "text": [
      "list error\n",
      "list error\n",
      "list error\n",
      "list error\n",
      "list error\n",
      "list error\n"
     ]
    },
    {
     "name": "stderr",
     "output_type": "stream",
     "text": [
      "c:\\Users\\Tahsin\\Desktop\\Uni\\COSC\\Directed Studies\\TextToSQL\\experiments\\C3\\..\\..\\functions\\sqldatabase_langchain_utils.py:98: SAWarning: Cannot correctly sort tables; there are unresolvable cycles between tables \"mondial_gpt.lake, mondial_gpt.river\", which is usually caused by mutually dependent foreign key constraints.  Foreign key constraints involving these tables will not be considered; this warning may raise an error in a future release.\n",
      "  return self.db._metadata.sorted_tables\n"
     ]
    },
    {
     "name": "stdout",
     "output_type": "stream",
     "text": [
      "Column recall attempt: 1\n",
      "\n",
      "### Complete oracle SQL query only and with no explanation, and do not select extra columns that are not explicitly requested in the query. \n",
      "### Oracle SQL tables, with their properties: \n",
      "#\n",
      "# country (name, code, province, capital, area)\n",
      "# sea (name, area, depth)\n",
      "# borders (country1, country2, length)\n",
      "# geo_sea (sea, country, province)\n",
      "# borders.country1=country.code\n",
      "# borders.country2=country.code\n",
      "# geo_sea.sea=sea.name\n",
      "# geo_sea.country=country.code\n",
      "# geo_sea.province=province.name\n",
      "\n",
      "#\n",
      "### How many countries that are close to the Mediterranean Sea?\n",
      "SELECT\n",
      "41 How many countries that are close to the Mediterranean Sea? SELECT COUNT(DISTINCT country.name) FROM country JOIN borders ON country.code = borders.country1 JOIN geo_sea ON country.code = geo_sea.country WHERE geo_sea.sea = 'Mediterranean Sea'; 55.515743255615234\n",
      "-----\n"
     ]
    },
    {
     "name": "stderr",
     "output_type": "stream",
     "text": [
      "c:\\Users\\Tahsin\\Desktop\\Uni\\COSC\\Directed Studies\\TextToSQL\\experiments\\C3\\..\\..\\functions\\sqldatabase_langchain_utils.py:98: SAWarning: Cannot correctly sort tables; there are unresolvable cycles between tables \"mondial_gpt.lake, mondial_gpt.river\", which is usually caused by mutually dependent foreign key constraints.  Foreign key constraints involving these tables will not be considered; this warning may raise an error in a future release.\n",
      "  return self.db._metadata.sorted_tables\n"
     ]
    },
    {
     "name": "stdout",
     "output_type": "stream",
     "text": [
      "list error\n"
     ]
    },
    {
     "name": "stderr",
     "output_type": "stream",
     "text": [
      "c:\\Users\\Tahsin\\Desktop\\Uni\\COSC\\Directed Studies\\TextToSQL\\experiments\\C3\\..\\..\\functions\\sqldatabase_langchain_utils.py:98: SAWarning: Cannot correctly sort tables; there are unresolvable cycles between tables \"mondial_gpt.lake, mondial_gpt.river\", which is usually caused by mutually dependent foreign key constraints.  Foreign key constraints involving these tables will not be considered; this warning may raise an error in a future release.\n",
      "  return self.db._metadata.sorted_tables\n"
     ]
    },
    {
     "name": "stdout",
     "output_type": "stream",
     "text": [
      "Column recall attempt: 1\n",
      "\n",
      "### Complete oracle SQL query only and with no explanation, and do not select extra columns that are not explicitly requested in the query. \n",
      "### Oracle SQL tables, with their properties: \n",
      "#\n",
      "# country (code, name, capital, province, population)\n",
      "# politics (country, government, independence, wasdependent)\n",
      "# organization (abbreviation, name, city, country)\n",
      "# ismember (country, organization, type)\n",
      "# politics.country=country.code\n",
      "# organization.city=city.name\n",
      "# organization.country=country.code\n",
      "# organization.province=city.province\n",
      "# organization.city=city.name\n",
      "# organization.country=province.country\n",
      "# organization.province=city.province\n",
      "# ismember.country=country.code\n",
      "# ismember.organization=organization.abbreviation\n",
      "\n",
      "#\n",
      "### Show the total for each type of government.\n",
      "SELECT\n",
      "42 Show the total for each type of government. SELECT ```sql SELECT government, COUNT(*) AS total FROM politics GROUP BY government; ``` 15.840999841690063\n",
      "-----\n"
     ]
    },
    {
     "name": "stderr",
     "output_type": "stream",
     "text": [
      "c:\\Users\\Tahsin\\Desktop\\Uni\\COSC\\Directed Studies\\TextToSQL\\experiments\\C3\\..\\..\\functions\\sqldatabase_langchain_utils.py:98: SAWarning: Cannot correctly sort tables; there are unresolvable cycles between tables \"mondial_gpt.lake, mondial_gpt.river\", which is usually caused by mutually dependent foreign key constraints.  Foreign key constraints involving these tables will not be considered; this warning may raise an error in a future release.\n",
      "  return self.db._metadata.sorted_tables\n",
      "c:\\Users\\Tahsin\\Desktop\\Uni\\COSC\\Directed Studies\\TextToSQL\\experiments\\C3\\..\\..\\functions\\sqldatabase_langchain_utils.py:98: SAWarning: Cannot correctly sort tables; there are unresolvable cycles between tables \"mondial_gpt.lake, mondial_gpt.river\", which is usually caused by mutually dependent foreign key constraints.  Foreign key constraints involving these tables will not be considered; this warning may raise an error in a future release.\n",
      "  return self.db._metadata.sorted_tables\n"
     ]
    },
    {
     "name": "stdout",
     "output_type": "stream",
     "text": [
      "Column recall attempt: 1\n",
      "\n",
      "### Complete oracle SQL query only and with no explanation, and do not select extra columns that are not explicitly requested in the query. \n",
      "### Oracle SQL tables, with their properties: \n",
      "#\n",
      "# desert (name, area, coordinates)\n",
      "# province (name, area, population, country, capital)\n",
      "# geo_desert (desert, country, province)\n",
      "# province.country=country.code\n",
      "# province.country=country.code\n",
      "# geo_desert.desert=desert.name\n",
      "# geo_desert.country=country.code\n",
      "# geo_desert.province=province.name\n",
      "\n",
      "#\n",
      "### Which province has the largest desert in the world?\n",
      "SELECT\n",
      "43 Which province has the largest desert in the world? SELECT ```sql province FROM geo_desert WHERE area = (SELECT MAX(area) FROM desert); ``` 9.137500762939453\n",
      "-----\n"
     ]
    },
    {
     "name": "stderr",
     "output_type": "stream",
     "text": [
      "c:\\Users\\Tahsin\\Desktop\\Uni\\COSC\\Directed Studies\\TextToSQL\\experiments\\C3\\..\\..\\functions\\sqldatabase_langchain_utils.py:98: SAWarning: Cannot correctly sort tables; there are unresolvable cycles between tables \"mondial_gpt.lake, mondial_gpt.river\", which is usually caused by mutually dependent foreign key constraints.  Foreign key constraints involving these tables will not be considered; this warning may raise an error in a future release.\n",
      "  return self.db._metadata.sorted_tables\n",
      "c:\\Users\\Tahsin\\Desktop\\Uni\\COSC\\Directed Studies\\TextToSQL\\experiments\\C3\\..\\..\\functions\\sqldatabase_langchain_utils.py:98: SAWarning: Cannot correctly sort tables; there are unresolvable cycles between tables \"mondial_gpt.lake, mondial_gpt.river\", which is usually caused by mutually dependent foreign key constraints.  Foreign key constraints involving these tables will not be considered; this warning may raise an error in a future release.\n",
      "  return self.db._metadata.sorted_tables\n"
     ]
    },
    {
     "name": "stdout",
     "output_type": "stream",
     "text": [
      "Column recall attempt: 1\n",
      "\n",
      "### Complete oracle SQL query only and with no explanation, and do not select extra columns that are not explicitly requested in the query. \n",
      "### Oracle SQL tables, with their properties: \n",
      "#\n",
      "# desert (name, area, coordinates)\n",
      "# geo_desert (desert, country, province)\n",
      "# geo_desert.desert=desert.name\n",
      "# geo_desert.country=country.code\n",
      "# geo_desert.province=province.name\n",
      "\n",
      "#\n",
      "### What is the largest desert in the world?\n",
      "SELECT\n",
      "44 What is the largest desert in the world? SELECT ```sql SELECT name FROM desert ORDER BY area DESC FETCH FIRST 1 ROWS ONLY; ``` 7.8492114543914795\n",
      "-----\n"
     ]
    },
    {
     "name": "stderr",
     "output_type": "stream",
     "text": [
      "c:\\Users\\Tahsin\\Desktop\\Uni\\COSC\\Directed Studies\\TextToSQL\\experiments\\C3\\..\\..\\functions\\sqldatabase_langchain_utils.py:98: SAWarning: Cannot correctly sort tables; there are unresolvable cycles between tables \"mondial_gpt.lake, mondial_gpt.river\", which is usually caused by mutually dependent foreign key constraints.  Foreign key constraints involving these tables will not be considered; this warning may raise an error in a future release.\n",
      "  return self.db._metadata.sorted_tables\n"
     ]
    },
    {
     "name": "stdout",
     "output_type": "stream",
     "text": [
      "list error\n",
      "list error\n",
      "list error\n",
      "list error\n",
      "list error\n",
      "list error\n",
      "list error\n",
      "list error\n",
      "list error\n"
     ]
    },
    {
     "name": "stderr",
     "output_type": "stream",
     "text": [
      "c:\\Users\\Tahsin\\Desktop\\Uni\\COSC\\Directed Studies\\TextToSQL\\experiments\\C3\\..\\..\\functions\\sqldatabase_langchain_utils.py:98: SAWarning: Cannot correctly sort tables; there are unresolvable cycles between tables \"mondial_gpt.lake, mondial_gpt.river\", which is usually caused by mutually dependent foreign key constraints.  Foreign key constraints involving these tables will not be considered; this warning may raise an error in a future release.\n",
      "  return self.db._metadata.sorted_tables\n"
     ]
    },
    {
     "name": "stdout",
     "output_type": "stream",
     "text": [
      "Column recall attempt: 1\n",
      "\n",
      "### Complete oracle SQL query only and with no explanation, and do not select extra columns that are not explicitly requested in the query. \n",
      "### Oracle SQL tables, with their properties: \n",
      "#\n",
      "# continent (name, area)\n",
      "# desert (name, area, coordinates)\n",
      "# geo_desert (desert, country, province)\n",
      "# geo_desert.desert=desert.name\n",
      "# geo_desert.country=country.code\n",
      "# geo_desert.province=province.name\n",
      "\n",
      "#\n",
      "### List, for all continents, the amount of deserts on each.\n",
      "SELECT\n",
      "45 List, for all continents, the amount of deserts on each. SELECT c.name AS continent, COUNT(gd.desert) AS desert_count FROM continent c LEFT JOIN geo_desert gd ON c.name = gd.desert GROUP BY c.name; 75.24115061759949\n",
      "-----\n"
     ]
    },
    {
     "name": "stderr",
     "output_type": "stream",
     "text": [
      "c:\\Users\\Tahsin\\Desktop\\Uni\\COSC\\Directed Studies\\TextToSQL\\experiments\\C3\\..\\..\\functions\\sqldatabase_langchain_utils.py:98: SAWarning: Cannot correctly sort tables; there are unresolvable cycles between tables \"mondial_gpt.lake, mondial_gpt.river\", which is usually caused by mutually dependent foreign key constraints.  Foreign key constraints involving these tables will not be considered; this warning may raise an error in a future release.\n",
      "  return self.db._metadata.sorted_tables\n"
     ]
    },
    {
     "name": "stdout",
     "output_type": "stream",
     "text": [
      "list error\n",
      "list error\n",
      "list error\n",
      "list error\n",
      "list error\n",
      "list error\n",
      "list error\n",
      "list error\n",
      "list error\n",
      "list error\n",
      "list error\n",
      "list error\n",
      "list error\n",
      "list error\n",
      "list error\n",
      "list error\n",
      "list error\n",
      "list error\n",
      "list error\n",
      "list error\n",
      "list error\n",
      "list error\n",
      "list error\n",
      "list error\n",
      "list error\n",
      "list error\n",
      "list error\n",
      "list error\n",
      "list error\n",
      "list error\n",
      "list error\n",
      "list error\n",
      "list error\n",
      "list error\n",
      "list error\n",
      "list error\n",
      "list error\n",
      "list error\n",
      "list error\n",
      "list error\n",
      "list error\n",
      "list error\n",
      "list error\n",
      "list error\n",
      "list error\n",
      "list error\n",
      "list error\n",
      "list error\n",
      "list error\n",
      "list error\n",
      "list error\n",
      "list error\n",
      "list error\n",
      "list error\n",
      "list error\n",
      "list error\n",
      "list error\n",
      "list error\n",
      "list error\n",
      "list error\n",
      "list error\n",
      "list error\n",
      "list error\n",
      "list error\n",
      "list error\n",
      "list error\n",
      "list error\n",
      "list error\n",
      "list error\n",
      "list error\n",
      "list error\n",
      "list error\n",
      "list error\n",
      "list error\n",
      "list error\n",
      "list error\n",
      "list error\n",
      "list error\n",
      "list error\n",
      "list error\n",
      "list error\n",
      "list error\n",
      "list error\n",
      "list error\n",
      "list error\n",
      "list error\n",
      "list error\n",
      "list error\n",
      "list error\n",
      "list error\n",
      "list error\n",
      "list error\n"
     ]
    },
    {
     "name": "stderr",
     "output_type": "stream",
     "text": [
      "c:\\Users\\Tahsin\\Desktop\\Uni\\COSC\\Directed Studies\\TextToSQL\\experiments\\C3\\..\\..\\functions\\sqldatabase_langchain_utils.py:98: SAWarning: Cannot correctly sort tables; there are unresolvable cycles between tables \"mondial_gpt.lake, mondial_gpt.river\", which is usually caused by mutually dependent foreign key constraints.  Foreign key constraints involving these tables will not be considered; this warning may raise an error in a future release.\n",
      "  return self.db._metadata.sorted_tables\n"
     ]
    },
    {
     "name": "stdout",
     "output_type": "stream",
     "text": [
      "Column recall attempt: 1\n",
      "\n",
      "### Complete oracle SQL query only and with no explanation, and do not select extra columns that are not explicitly requested in the query. \n",
      "### Oracle SQL tables, with their properties: \n",
      "#\n",
      "# island (name, area, elevation, coordinates, islands)\n",
      "# mountain (name, elevation, type, coordinates, mountains)\n",
      "# sea (name, area, depth)\n",
      "# river (sea, name, lake, source, river)\n",
      "# river.lake=lake.name\n",
      "# river.sea=sea.name\n",
      "# river.lake=lake.name\n",
      "# river.sea=sea.name\n",
      "\n",
      "#\n",
      "### What are the neighboring seas of the Banda Sea?\n",
      "SELECT\n",
      "46 What are the neighboring seas of the Banda Sea? SELECT ```sql SELECT sea FROM river WHERE sea IN ( SELECT sea FROM river WHERE river = 'Banda Sea' ) AND sea != 'Banda Sea'; ``` 2028.7035639286041\n",
      "-----\n"
     ]
    },
    {
     "name": "stderr",
     "output_type": "stream",
     "text": [
      "c:\\Users\\Tahsin\\Desktop\\Uni\\COSC\\Directed Studies\\TextToSQL\\experiments\\C3\\..\\..\\functions\\sqldatabase_langchain_utils.py:98: SAWarning: Cannot correctly sort tables; there are unresolvable cycles between tables \"mondial_gpt.lake, mondial_gpt.river\", which is usually caused by mutually dependent foreign key constraints.  Foreign key constraints involving these tables will not be considered; this warning may raise an error in a future release.\n",
      "  return self.db._metadata.sorted_tables\n"
     ]
    },
    {
     "name": "stdout",
     "output_type": "stream",
     "text": [
      "list error\n",
      "list error\n",
      "list error\n",
      "list error\n",
      "list error\n",
      "list error\n",
      "list error\n",
      "list error\n",
      "list error\n",
      "list error\n",
      "list error\n",
      "list error\n",
      "list error\n",
      "list error\n",
      "list error\n",
      "list error\n",
      "list error\n",
      "list error\n",
      "list error\n",
      "list error\n",
      "list error\n",
      "list error\n",
      "list error\n",
      "list error\n",
      "list error\n",
      "list error\n"
     ]
    },
    {
     "name": "stderr",
     "output_type": "stream",
     "text": [
      "c:\\Users\\Tahsin\\Desktop\\Uni\\COSC\\Directed Studies\\TextToSQL\\experiments\\C3\\..\\..\\functions\\sqldatabase_langchain_utils.py:98: SAWarning: Cannot correctly sort tables; there are unresolvable cycles between tables \"mondial_gpt.lake, mondial_gpt.river\", which is usually caused by mutually dependent foreign key constraints.  Foreign key constraints involving these tables will not be considered; this warning may raise an error in a future release.\n",
      "  return self.db._metadata.sorted_tables\n"
     ]
    },
    {
     "name": "stdout",
     "output_type": "stream",
     "text": [
      "Column recall attempt: 1\n",
      "\n",
      "### Complete oracle SQL query only and with no explanation, and do not select extra columns that are not explicitly requested in the query. \n",
      "### Oracle SQL tables, with their properties: \n",
      "#\n",
      "# country (name, capital, code, province)\n",
      "# province (country, name, population, capital, area)\n",
      "# city (country, province, name, population)\n",
      "# citylocalname (city, country, province, localname)\n",
      "# province.country=country.code\n",
      "# province.country=country.code\n",
      "# city.country=country.code\n",
      "# city.province=province.name\n",
      "# city.country=country.code\n",
      "# city.province=province.name\n",
      "# citylocalname.city=city.name\n",
      "# citylocalname.country=city.country\n",
      "# citylocalname.province=city.province\n",
      "\n",
      "#\n",
      "### List all the capitals of European countries.\n",
      "SELECT\n",
      "47 List all the capitals of European countries. SELECT capital FROM country WHERE continent = 'Europe'; 371.05399918556213\n",
      "-----\n"
     ]
    },
    {
     "name": "stderr",
     "output_type": "stream",
     "text": [
      "c:\\Users\\Tahsin\\Desktop\\Uni\\COSC\\Directed Studies\\TextToSQL\\experiments\\C3\\..\\..\\functions\\sqldatabase_langchain_utils.py:98: SAWarning: Cannot correctly sort tables; there are unresolvable cycles between tables \"mondial_gpt.lake, mondial_gpt.river\", which is usually caused by mutually dependent foreign key constraints.  Foreign key constraints involving these tables will not be considered; this warning may raise an error in a future release.\n",
      "  return self.db._metadata.sorted_tables\n"
     ]
    },
    {
     "name": "stdout",
     "output_type": "stream",
     "text": [
      "list error\n",
      "list error\n",
      "list error\n"
     ]
    },
    {
     "name": "stderr",
     "output_type": "stream",
     "text": [
      "c:\\Users\\Tahsin\\Desktop\\Uni\\COSC\\Directed Studies\\TextToSQL\\experiments\\C3\\..\\..\\functions\\sqldatabase_langchain_utils.py:98: SAWarning: Cannot correctly sort tables; there are unresolvable cycles between tables \"mondial_gpt.lake, mondial_gpt.river\", which is usually caused by mutually dependent foreign key constraints.  Foreign key constraints involving these tables will not be considered; this warning may raise an error in a future release.\n",
      "  return self.db._metadata.sorted_tables\n"
     ]
    },
    {
     "name": "stdout",
     "output_type": "stream",
     "text": [
      "Column recall attempt: 1\n",
      "\n",
      "### Complete oracle SQL query only and with no explanation, and do not select extra columns that are not explicitly requested in the query. \n",
      "### Oracle SQL tables, with their properties: \n",
      "#\n",
      "# country (code, name, capital, population, province)\n",
      "# language (country, name, percentage)\n",
      "# city (country, name, population, province)\n",
      "# language.country=country.code\n",
      "# city.country=country.code\n",
      "# city.province=province.name\n",
      "# city.country=country.code\n",
      "# city.province=province.name\n",
      "\n",
      "#\n",
      "### What percentage of people speak French in Andorra?\n",
      "SELECT\n",
      "48 What percentage of people speak French in Andorra? SELECT percentage FROM language WHERE country = 'AND' AND name = 'French'; 35.88099908828735\n",
      "-----\n"
     ]
    },
    {
     "name": "stderr",
     "output_type": "stream",
     "text": [
      "c:\\Users\\Tahsin\\Desktop\\Uni\\COSC\\Directed Studies\\TextToSQL\\experiments\\C3\\..\\..\\functions\\sqldatabase_langchain_utils.py:98: SAWarning: Cannot correctly sort tables; there are unresolvable cycles between tables \"mondial_gpt.lake, mondial_gpt.river\", which is usually caused by mutually dependent foreign key constraints.  Foreign key constraints involving these tables will not be considered; this warning may raise an error in a future release.\n",
      "  return self.db._metadata.sorted_tables\n",
      "c:\\Users\\Tahsin\\Desktop\\Uni\\COSC\\Directed Studies\\TextToSQL\\experiments\\C3\\..\\..\\functions\\sqldatabase_langchain_utils.py:98: SAWarning: Cannot correctly sort tables; there are unresolvable cycles between tables \"mondial_gpt.lake, mondial_gpt.river\", which is usually caused by mutually dependent foreign key constraints.  Foreign key constraints involving these tables will not be considered; this warning may raise an error in a future release.\n",
      "  return self.db._metadata.sorted_tables\n"
     ]
    },
    {
     "name": "stdout",
     "output_type": "stream",
     "text": [
      "Column recall attempt: 1\n",
      "\n",
      "### Complete oracle SQL query only and with no explanation, and do not select extra columns that are not explicitly requested in the query. \n",
      "### Oracle SQL tables, with their properties: \n",
      "#\n",
      "# river (name, length, sea, lake, source)\n",
      "# riverthrough (river, lake)\n",
      "# geo_river (river, country, province)\n",
      "# located (river, city, province, country)\n",
      "# river.lake=lake.name\n",
      "# river.sea=sea.name\n",
      "# river.lake=lake.name\n",
      "# river.sea=sea.name\n",
      "# riverthrough.river=river.name\n",
      "# riverthrough.lake=lake.name\n",
      "# geo_river.river=river.name\n",
      "# geo_river.country=province.country\n",
      "# geo_river.province=province.name\n",
      "# located.city=city.name\n",
      "# located.province=province.name\n",
      "# located.country=city.country\n",
      "# located.river=river.name\n",
      "# located.lake=lake.name\n",
      "# located.sea=sea.name\n",
      "\n",
      "#\n",
      "### Which rivers are longer than 1000 kilometers?\n",
      "SELECT\n",
      "49 Which rivers are longer than 1000 kilometers? SELECT ```sql SELECT name FROM river WHERE length > 1000; ``` 10.858001470565796\n",
      "-----\n"
     ]
    },
    {
     "name": "stderr",
     "output_type": "stream",
     "text": [
      "c:\\Users\\Tahsin\\Desktop\\Uni\\COSC\\Directed Studies\\TextToSQL\\experiments\\C3\\..\\..\\functions\\sqldatabase_langchain_utils.py:98: SAWarning: Cannot correctly sort tables; there are unresolvable cycles between tables \"mondial_gpt.lake, mondial_gpt.river\", which is usually caused by mutually dependent foreign key constraints.  Foreign key constraints involving these tables will not be considered; this warning may raise an error in a future release.\n",
      "  return self.db._metadata.sorted_tables\n",
      "c:\\Users\\Tahsin\\Desktop\\Uni\\COSC\\Directed Studies\\TextToSQL\\experiments\\C3\\..\\..\\functions\\sqldatabase_langchain_utils.py:98: SAWarning: Cannot correctly sort tables; there are unresolvable cycles between tables \"mondial_gpt.lake, mondial_gpt.river\", which is usually caused by mutually dependent foreign key constraints.  Foreign key constraints involving these tables will not be considered; this warning may raise an error in a future release.\n",
      "  return self.db._metadata.sorted_tables\n"
     ]
    },
    {
     "name": "stdout",
     "output_type": "stream",
     "text": [
      "Column recall attempt: 1\n",
      "\n",
      "### Complete oracle SQL query only and with no explanation, and do not select extra columns that are not explicitly requested in the query. \n",
      "### Oracle SQL tables, with their properties: \n",
      "#\n",
      "# country (code, population, name, area, capital)\n",
      "# countrypops (country, population, year)\n",
      "# population (country, population_growth, infant_mortality)\n",
      "# province (country, population, area, name, capital)\n",
      "# countrypops.country=country.code\n",
      "# population.country=country.code\n",
      "# province.country=country.code\n",
      "# province.country=country.code\n",
      "\n",
      "#\n",
      "### Which country had the lowest population growth?\n",
      "SELECT\n",
      "50 Which country had the lowest population growth? SELECT ```sql SELECT country FROM population ORDER BY population_growth FETCH FIRST 1 ROWS ONLY; ``` 9.44700002670288\n",
      "-----\n"
     ]
    },
    {
     "name": "stderr",
     "output_type": "stream",
     "text": [
      "c:\\Users\\Tahsin\\Desktop\\Uni\\COSC\\Directed Studies\\TextToSQL\\experiments\\C3\\..\\..\\functions\\sqldatabase_langchain_utils.py:98: SAWarning: Cannot correctly sort tables; there are unresolvable cycles between tables \"mondial_gpt.lake, mondial_gpt.river\", which is usually caused by mutually dependent foreign key constraints.  Foreign key constraints involving these tables will not be considered; this warning may raise an error in a future release.\n",
      "  return self.db._metadata.sorted_tables\n"
     ]
    },
    {
     "name": "stdout",
     "output_type": "stream",
     "text": [
      "list error\n",
      "list error\n",
      "list error\n",
      "list error\n"
     ]
    },
    {
     "name": "stderr",
     "output_type": "stream",
     "text": [
      "c:\\Users\\Tahsin\\Desktop\\Uni\\COSC\\Directed Studies\\TextToSQL\\experiments\\C3\\..\\..\\functions\\sqldatabase_langchain_utils.py:98: SAWarning: Cannot correctly sort tables; there are unresolvable cycles between tables \"mondial_gpt.lake, mondial_gpt.river\", which is usually caused by mutually dependent foreign key constraints.  Foreign key constraints involving these tables will not be considered; this warning may raise an error in a future release.\n",
      "  return self.db._metadata.sorted_tables\n"
     ]
    },
    {
     "name": "stdout",
     "output_type": "stream",
     "text": [
      "Column recall attempt: 1\n",
      "\n",
      "### Complete oracle SQL query only and with no explanation, and do not select extra columns that are not explicitly requested in the query. \n",
      "### Oracle SQL tables, with their properties: \n",
      "#\n",
      "# country (code, name, capital, province)\n",
      "# province (country, name, population, area, capital)\n",
      "# city (country, name, province, population)\n",
      "# located (city, province, country, river)\n",
      "# province.country=country.code\n",
      "# province.country=country.code\n",
      "# city.country=country.code\n",
      "# city.province=province.name\n",
      "# city.country=country.code\n",
      "# city.province=province.name\n",
      "# located.city=city.name\n",
      "# located.province=province.name\n",
      "# located.country=city.country\n",
      "# located.river=river.name\n",
      "# located.lake=lake.name\n",
      "# located.sea=sea.name\n",
      "\n",
      "#\n",
      "### List the name of capital cities for which we do not have data about the city in located\n",
      "SELECT\n",
      "51 List the name of capital cities for which we do not have data about the city in located SELECT ```sql SELECT capital FROM country WHERE capital NOT IN (SELECT city FROM located); ``` 64.23400092124939\n",
      "-----\n"
     ]
    },
    {
     "name": "stderr",
     "output_type": "stream",
     "text": [
      "c:\\Users\\Tahsin\\Desktop\\Uni\\COSC\\Directed Studies\\TextToSQL\\experiments\\C3\\..\\..\\functions\\sqldatabase_langchain_utils.py:98: SAWarning: Cannot correctly sort tables; there are unresolvable cycles between tables \"mondial_gpt.lake, mondial_gpt.river\", which is usually caused by mutually dependent foreign key constraints.  Foreign key constraints involving these tables will not be considered; this warning may raise an error in a future release.\n",
      "  return self.db._metadata.sorted_tables\n"
     ]
    },
    {
     "name": "stdout",
     "output_type": "stream",
     "text": [
      "list error\n"
     ]
    },
    {
     "name": "stderr",
     "output_type": "stream",
     "text": [
      "c:\\Users\\Tahsin\\Desktop\\Uni\\COSC\\Directed Studies\\TextToSQL\\experiments\\C3\\..\\..\\functions\\sqldatabase_langchain_utils.py:98: SAWarning: Cannot correctly sort tables; there are unresolvable cycles between tables \"mondial_gpt.lake, mondial_gpt.river\", which is usually caused by mutually dependent foreign key constraints.  Foreign key constraints involving these tables will not be considered; this warning may raise an error in a future release.\n",
      "  return self.db._metadata.sorted_tables\n"
     ]
    },
    {
     "name": "stdout",
     "output_type": "stream",
     "text": [
      "Column recall attempt: 1\n",
      "\n",
      "### Complete oracle SQL query only and with no explanation, and do not select extra columns that are not explicitly requested in the query. \n",
      "### Oracle SQL tables, with their properties: \n",
      "#\n",
      "# country (name, code, capital, province)\n",
      "# province (name, country, population, area, capital)\n",
      "# city (name, country, province, population)\n",
      "# citylocalname (city, country, province, localname)\n",
      "# province.country=country.code\n",
      "# province.country=country.code\n",
      "# city.country=country.code\n",
      "# city.province=province.name\n",
      "# city.country=country.code\n",
      "# city.province=province.name\n",
      "# citylocalname.city=city.name\n",
      "# citylocalname.country=city.country\n",
      "# citylocalname.province=city.province\n",
      "\n",
      "#\n",
      "### What is the capital of the provice Andalucía?\n",
      "SELECT\n",
      "52 What is the capital of the provice Andalucía? SELECT ```sql capital FROM province WHERE name = 'Andalucía'; ``` 17.099001169204712\n",
      "-----\n"
     ]
    },
    {
     "name": "stderr",
     "output_type": "stream",
     "text": [
      "c:\\Users\\Tahsin\\Desktop\\Uni\\COSC\\Directed Studies\\TextToSQL\\experiments\\C3\\..\\..\\functions\\sqldatabase_langchain_utils.py:98: SAWarning: Cannot correctly sort tables; there are unresolvable cycles between tables \"mondial_gpt.lake, mondial_gpt.river\", which is usually caused by mutually dependent foreign key constraints.  Foreign key constraints involving these tables will not be considered; this warning may raise an error in a future release.\n",
      "  return self.db._metadata.sorted_tables\n",
      "c:\\Users\\Tahsin\\Desktop\\Uni\\COSC\\Directed Studies\\TextToSQL\\experiments\\C3\\..\\..\\functions\\sqldatabase_langchain_utils.py:98: SAWarning: Cannot correctly sort tables; there are unresolvable cycles between tables \"mondial_gpt.lake, mondial_gpt.river\", which is usually caused by mutually dependent foreign key constraints.  Foreign key constraints involving these tables will not be considered; this warning may raise an error in a future release.\n",
      "  return self.db._metadata.sorted_tables\n"
     ]
    },
    {
     "name": "stdout",
     "output_type": "stream",
     "text": [
      "Column recall attempt: 1\n",
      "\n",
      "### Complete oracle SQL query only and with no explanation, and do not select extra columns that are not explicitly requested in the query. \n",
      "### Oracle SQL tables, with their properties: \n",
      "#\n",
      "# organization (abbreviation, name, city, country)\n",
      "# ismember (country, organization, type)\n",
      "# organization.city=city.name\n",
      "# organization.country=country.code\n",
      "# organization.province=city.province\n",
      "# organization.city=city.name\n",
      "# organization.country=province.country\n",
      "# organization.province=city.province\n",
      "# ismember.country=country.code\n",
      "# ismember.organization=organization.abbreviation\n",
      "\n",
      "#\n",
      "### What is the abbreviation for the organization whose name is \"General Confederation of Trade Unions\"?\n",
      "SELECT\n",
      "53 What is the abbreviation for the organization whose name is \"General Confederation of Trade Unions\"? SELECT ```sql SELECT abbreviation FROM organization WHERE name = 'General Confederation of Trade Unions'; ``` 8.424998760223389\n",
      "-----\n"
     ]
    },
    {
     "name": "stderr",
     "output_type": "stream",
     "text": [
      "c:\\Users\\Tahsin\\Desktop\\Uni\\COSC\\Directed Studies\\TextToSQL\\experiments\\C3\\..\\..\\functions\\sqldatabase_langchain_utils.py:98: SAWarning: Cannot correctly sort tables; there are unresolvable cycles between tables \"mondial_gpt.lake, mondial_gpt.river\", which is usually caused by mutually dependent foreign key constraints.  Foreign key constraints involving these tables will not be considered; this warning may raise an error in a future release.\n",
      "  return self.db._metadata.sorted_tables\n",
      "c:\\Users\\Tahsin\\Desktop\\Uni\\COSC\\Directed Studies\\TextToSQL\\experiments\\C3\\..\\..\\functions\\sqldatabase_langchain_utils.py:98: SAWarning: Cannot correctly sort tables; there are unresolvable cycles between tables \"mondial_gpt.lake, mondial_gpt.river\", which is usually caused by mutually dependent foreign key constraints.  Foreign key constraints involving these tables will not be considered; this warning may raise an error in a future release.\n",
      "  return self.db._metadata.sorted_tables\n"
     ]
    },
    {
     "name": "stdout",
     "output_type": "stream",
     "text": [
      "Column recall attempt: 1\n",
      "\n",
      "### Complete oracle SQL query only and with no explanation, and do not select extra columns that are not explicitly requested in the query. \n",
      "### Oracle SQL tables, with their properties: \n",
      "#\n",
      "# city (country, province, name, population)\n",
      "# citylocalname (city, country, province, localname)\n",
      "# cityothername (city, country, province, othername)\n",
      "# organization (abbreviation, city, country, name, province)\n",
      "# city.country=country.code\n",
      "# city.province=province.name\n",
      "# city.country=country.code\n",
      "# city.province=province.name\n",
      "# citylocalname.city=city.name\n",
      "# citylocalname.country=city.country\n",
      "# citylocalname.province=city.province\n",
      "# cityothername.city=city.name\n",
      "# cityothername.country=city.country\n",
      "# cityothername.province=province.name\n",
      "# organization.city=city.name\n",
      "# organization.country=country.code\n",
      "# organization.province=city.province\n",
      "# organization.city=city.name\n",
      "# organization.country=province.country\n",
      "# organization.province=city.province\n",
      "\n",
      "#\n",
      "### In which city is the organization with the abbreviation \"UPU\" ?\n",
      "SELECT\n",
      "54 In which city is the organization with the abbreviation \"UPU\" ? SELECT ```sql city.name FROM organization JOIN city ON organization.city = city.name WHERE organization.abbreviation = 'UPU'; ``` 12.82699990272522\n",
      "-----\n"
     ]
    },
    {
     "name": "stderr",
     "output_type": "stream",
     "text": [
      "c:\\Users\\Tahsin\\Desktop\\Uni\\COSC\\Directed Studies\\TextToSQL\\experiments\\C3\\..\\..\\functions\\sqldatabase_langchain_utils.py:98: SAWarning: Cannot correctly sort tables; there are unresolvable cycles between tables \"mondial_gpt.lake, mondial_gpt.river\", which is usually caused by mutually dependent foreign key constraints.  Foreign key constraints involving these tables will not be considered; this warning may raise an error in a future release.\n",
      "  return self.db._metadata.sorted_tables\n"
     ]
    },
    {
     "name": "stdout",
     "output_type": "stream",
     "text": [
      "list error\n",
      "list error\n",
      "list error\n",
      "list error\n",
      "list error\n",
      "list error\n",
      "list error\n",
      "list error\n",
      "list error\n",
      "list error\n",
      "list error\n",
      "list error\n",
      "list error\n",
      "list error\n",
      "list error\n",
      "list error\n",
      "list error\n",
      "list error\n",
      "list error\n",
      "list error\n",
      "list error\n",
      "list error\n",
      "list error\n",
      "list error\n",
      "list error\n",
      "list error\n",
      "list error\n",
      "list error\n",
      "list error\n",
      "list error\n",
      "list error\n",
      "list error\n",
      "list error\n",
      "list error\n",
      "list error\n",
      "list error\n",
      "list error\n",
      "list error\n",
      "list error\n",
      "list error\n",
      "list error\n",
      "list error\n",
      "list error\n",
      "list error\n",
      "list error\n",
      "list error\n",
      "list error\n",
      "list error\n",
      "list error\n",
      "list error\n",
      "list error\n",
      "list error\n",
      "list error\n",
      "list error\n",
      "list error\n",
      "list error\n",
      "list error\n",
      "list error\n",
      "list error\n",
      "list error\n",
      "list error\n",
      "list error\n",
      "list error\n",
      "list error\n",
      "list error\n",
      "list error\n",
      "list error\n",
      "list error\n",
      "list error\n",
      "list error\n",
      "list error\n",
      "list error\n",
      "list error\n",
      "list error\n",
      "list error\n",
      "list error\n",
      "list error\n",
      "list error\n",
      "list error\n",
      "list error\n",
      "list error\n",
      "list error\n",
      "list error\n",
      "list error\n",
      "list error\n",
      "list error\n",
      "list error\n",
      "list error\n",
      "list error\n",
      "list error\n",
      "list error\n",
      "list error\n",
      "list error\n",
      "list error\n",
      "list error\n"
     ]
    },
    {
     "name": "stderr",
     "output_type": "stream",
     "text": [
      "c:\\Users\\Tahsin\\Desktop\\Uni\\COSC\\Directed Studies\\TextToSQL\\experiments\\C3\\..\\..\\functions\\sqldatabase_langchain_utils.py:98: SAWarning: Cannot correctly sort tables; there are unresolvable cycles between tables \"mondial_gpt.lake, mondial_gpt.river\", which is usually caused by mutually dependent foreign key constraints.  Foreign key constraints involving these tables will not be considered; this warning may raise an error in a future release.\n",
      "  return self.db._metadata.sorted_tables\n"
     ]
    },
    {
     "name": "stdout",
     "output_type": "stream",
     "text": [
      "Column recall attempt: 1\n",
      "\n",
      "### Complete oracle SQL query only and with no explanation, and do not select extra columns that are not explicitly requested in the query. \n",
      "### Oracle SQL tables, with their properties: \n",
      "#\n",
      "# country (name, code, capital, province, population)\n",
      "# organization (abbreviation, name, country, city, province)\n",
      "# ismember (country, organization, type)\n",
      "# organization.city=city.name\n",
      "# organization.country=country.code\n",
      "# organization.province=city.province\n",
      "# organization.city=city.name\n",
      "# organization.country=province.country\n",
      "# organization.province=city.province\n",
      "# ismember.country=country.code\n",
      "# ismember.organization=organization.abbreviation\n",
      "\n",
      "#\n",
      "### List the names of countries which are members of only one organization\n",
      "SELECT\n",
      "55 List the names of countries which are members of only one organization SELECT ```sql SELECT country.name FROM country JOIN ismember ON country.code = ismember.country GROUP BY country.name HAVING COUNT(DISTINCT ismember.organization) = 1; ``` 918.7134997844696\n",
      "-----\n"
     ]
    },
    {
     "name": "stderr",
     "output_type": "stream",
     "text": [
      "c:\\Users\\Tahsin\\Desktop\\Uni\\COSC\\Directed Studies\\TextToSQL\\experiments\\C3\\..\\..\\functions\\sqldatabase_langchain_utils.py:98: SAWarning: Cannot correctly sort tables; there are unresolvable cycles between tables \"mondial_gpt.lake, mondial_gpt.river\", which is usually caused by mutually dependent foreign key constraints.  Foreign key constraints involving these tables will not be considered; this warning may raise an error in a future release.\n",
      "  return self.db._metadata.sorted_tables\n"
     ]
    },
    {
     "name": "stdout",
     "output_type": "stream",
     "text": [
      "list error\n",
      "list error\n",
      "list error\n",
      "list error\n",
      "list error\n",
      "list error\n",
      "list error\n",
      "list error\n",
      "list error\n",
      "list error\n",
      "list error\n"
     ]
    },
    {
     "name": "stderr",
     "output_type": "stream",
     "text": [
      "c:\\Users\\Tahsin\\Desktop\\Uni\\COSC\\Directed Studies\\TextToSQL\\experiments\\C3\\..\\..\\functions\\sqldatabase_langchain_utils.py:98: SAWarning: Cannot correctly sort tables; there are unresolvable cycles between tables \"mondial_gpt.lake, mondial_gpt.river\", which is usually caused by mutually dependent foreign key constraints.  Foreign key constraints involving these tables will not be considered; this warning may raise an error in a future release.\n",
      "  return self.db._metadata.sorted_tables\n"
     ]
    },
    {
     "name": "stdout",
     "output_type": "stream",
     "text": [
      "Column recall attempt: 1\n",
      "\n",
      "### Complete oracle SQL query only and with no explanation, and do not select extra columns that are not explicitly requested in the query. \n",
      "### Oracle SQL tables, with their properties: \n",
      "#\n",
      "# country (name, code, capital, province, population)\n",
      "# organization (abbreviation, name, country, city, established)\n",
      "# ismember (country, organization, type)\n",
      "# organization.city=city.name\n",
      "# organization.country=country.code\n",
      "# organization.province=city.province\n",
      "# organization.city=city.name\n",
      "# organization.country=province.country\n",
      "# organization.province=city.province\n",
      "# ismember.country=country.code\n",
      "# ismember.organization=organization.abbreviation\n",
      "\n",
      "#\n",
      "### List the name of countries which are not a member of NATO.\n",
      "SELECT\n",
      "56 List the name of countries which are not a member of NATO. SELECT ```sql SELECT name FROM country WHERE code NOT IN (SELECT country FROM ismember WHERE type = 'NATO'); ``` 123.03549909591675\n",
      "-----\n"
     ]
    },
    {
     "name": "stderr",
     "output_type": "stream",
     "text": [
      "c:\\Users\\Tahsin\\Desktop\\Uni\\COSC\\Directed Studies\\TextToSQL\\experiments\\C3\\..\\..\\functions\\sqldatabase_langchain_utils.py:98: SAWarning: Cannot correctly sort tables; there are unresolvable cycles between tables \"mondial_gpt.lake, mondial_gpt.river\", which is usually caused by mutually dependent foreign key constraints.  Foreign key constraints involving these tables will not be considered; this warning may raise an error in a future release.\n",
      "  return self.db._metadata.sorted_tables\n"
     ]
    },
    {
     "name": "stdout",
     "output_type": "stream",
     "text": [
      "list error\n",
      "list error\n",
      "list error\n",
      "list error\n",
      "list error\n",
      "list error\n",
      "list error\n",
      "list error\n",
      "list error\n",
      "list error\n",
      "list error\n",
      "list error\n",
      "list error\n",
      "list error\n",
      "list error\n",
      "list error\n",
      "list error\n",
      "list error\n",
      "list error\n",
      "list error\n",
      "list error\n",
      "list error\n",
      "list error\n",
      "list error\n",
      "list error\n",
      "list error\n",
      "list error\n",
      "list error\n",
      "list error\n",
      "list error\n",
      "list error\n",
      "list error\n",
      "list error\n",
      "list error\n",
      "list error\n",
      "list error\n",
      "list error\n",
      "list error\n",
      "list error\n",
      "list error\n",
      "list error\n",
      "list error\n",
      "list error\n",
      "list error\n",
      "list error\n",
      "list error\n",
      "list error\n",
      "list error\n",
      "list error\n",
      "list error\n",
      "list error\n",
      "list error\n",
      "list error\n",
      "list error\n",
      "list error\n",
      "list error\n",
      "list error\n",
      "list error\n",
      "list error\n",
      "list error\n",
      "list error\n",
      "list error\n",
      "list error\n",
      "list error\n",
      "list error\n",
      "list error\n",
      "list error\n",
      "list error\n",
      "list error\n",
      "list error\n",
      "list error\n",
      "list error\n",
      "list error\n",
      "list error\n",
      "list error\n",
      "list error\n",
      "list error\n",
      "list error\n",
      "list error\n",
      "list error\n",
      "list error\n",
      "list error\n",
      "list error\n",
      "list error\n",
      "list error\n"
     ]
    },
    {
     "name": "stderr",
     "output_type": "stream",
     "text": [
      "c:\\Users\\Tahsin\\Desktop\\Uni\\COSC\\Directed Studies\\TextToSQL\\experiments\\C3\\..\\..\\functions\\sqldatabase_langchain_utils.py:98: SAWarning: Cannot correctly sort tables; there are unresolvable cycles between tables \"mondial_gpt.lake, mondial_gpt.river\", which is usually caused by mutually dependent foreign key constraints.  Foreign key constraints involving these tables will not be considered; this warning may raise an error in a future release.\n",
      "  return self.db._metadata.sorted_tables\n"
     ]
    },
    {
     "name": "stdout",
     "output_type": "stream",
     "text": [
      "Column recall attempt: 1\n",
      "\n",
      "### Complete oracle SQL query only and with no explanation, and do not select extra columns that are not explicitly requested in the query. \n",
      "### Oracle SQL tables, with their properties: \n",
      "#\n",
      "# country (name, code, capital, province, population)\n",
      "# organization (abbreviation, name, city, country)\n",
      "# ismember (country, organization, type)\n",
      "# organization.city=city.name\n",
      "# organization.country=country.code\n",
      "# organization.province=city.province\n",
      "# organization.city=city.name\n",
      "# organization.country=province.country\n",
      "# organization.province=city.province\n",
      "# ismember.country=country.code\n",
      "# ismember.organization=organization.abbreviation\n",
      "\n",
      "#\n",
      "### List the name of countries which are a member of NATO.\n",
      "SELECT\n",
      "57 List the name of countries which are a member of NATO. SELECT ```sql SELECT country.name FROM country JOIN ismember ON country.code = ismember.country JOIN organization ON ismember.organization = organization.abbreviation WHERE organization.name = 'NATO'; ``` 805.7669997215271\n",
      "-----\n"
     ]
    },
    {
     "name": "stderr",
     "output_type": "stream",
     "text": [
      "c:\\Users\\Tahsin\\Desktop\\Uni\\COSC\\Directed Studies\\TextToSQL\\experiments\\C3\\..\\..\\functions\\sqldatabase_langchain_utils.py:98: SAWarning: Cannot correctly sort tables; there are unresolvable cycles between tables \"mondial_gpt.lake, mondial_gpt.river\", which is usually caused by mutually dependent foreign key constraints.  Foreign key constraints involving these tables will not be considered; this warning may raise an error in a future release.\n",
      "  return self.db._metadata.sorted_tables\n"
     ]
    },
    {
     "name": "stdout",
     "output_type": "stream",
     "text": [
      "list error\n",
      "list error\n",
      "list error\n",
      "list error\n",
      "list error\n",
      "list error\n",
      "list error\n",
      "list error\n",
      "list error\n",
      "list error\n",
      "list error\n",
      "list error\n",
      "list error\n",
      "list error\n",
      "list error\n",
      "list error\n",
      "list error\n",
      "list error\n",
      "list error\n",
      "list error\n",
      "list error\n",
      "list error\n",
      "list error\n",
      "list error\n",
      "list error\n",
      "list error\n",
      "list error\n"
     ]
    },
    {
     "name": "stderr",
     "output_type": "stream",
     "text": [
      "c:\\Users\\Tahsin\\Desktop\\Uni\\COSC\\Directed Studies\\TextToSQL\\experiments\\C3\\..\\..\\functions\\sqldatabase_langchain_utils.py:98: SAWarning: Cannot correctly sort tables; there are unresolvable cycles between tables \"mondial_gpt.lake, mondial_gpt.river\", which is usually caused by mutually dependent foreign key constraints.  Foreign key constraints involving these tables will not be considered; this warning may raise an error in a future release.\n",
      "  return self.db._metadata.sorted_tables\n"
     ]
    },
    {
     "name": "stdout",
     "output_type": "stream",
     "text": [
      "Column recall attempt: 1\n",
      "\n",
      "### Complete oracle SQL query only and with no explanation, and do not select extra columns that are not explicitly requested in the query. \n",
      "### Oracle SQL tables, with their properties: \n",
      "#\n",
      "# river (length, name, lake, sea, source)\n",
      "# riveronisland (river, island)\n",
      "# riverthrough (river, lake)\n",
      "# river.lake=lake.name\n",
      "# river.sea=sea.name\n",
      "# river.lake=lake.name\n",
      "# river.sea=sea.name\n",
      "# riveronisland.river=river.name\n",
      "# riverthrough.river=river.name\n",
      "# riverthrough.lake=lake.name\n",
      "\n",
      "#\n",
      "### List the rivers with length less than 50\n",
      "SELECT\n",
      "58 List the rivers with length less than 50 SELECT ```sql SELECT name FROM river WHERE length < 50; ``` 256.23349928855896\n",
      "-----\n"
     ]
    },
    {
     "name": "stderr",
     "output_type": "stream",
     "text": [
      "c:\\Users\\Tahsin\\Desktop\\Uni\\COSC\\Directed Studies\\TextToSQL\\experiments\\C3\\..\\..\\functions\\sqldatabase_langchain_utils.py:98: SAWarning: Cannot correctly sort tables; there are unresolvable cycles between tables \"mondial_gpt.lake, mondial_gpt.river\", which is usually caused by mutually dependent foreign key constraints.  Foreign key constraints involving these tables will not be considered; this warning may raise an error in a future release.\n",
      "  return self.db._metadata.sorted_tables\n"
     ]
    },
    {
     "name": "stdout",
     "output_type": "stream",
     "text": [
      "list error\n",
      "list error\n",
      "list error\n",
      "list error\n",
      "list error\n",
      "list error\n",
      "list error\n",
      "list error\n",
      "list error\n",
      "list error\n",
      "list error\n",
      "list error\n",
      "list error\n",
      "list error\n"
     ]
    },
    {
     "name": "stderr",
     "output_type": "stream",
     "text": [
      "c:\\Users\\Tahsin\\Desktop\\Uni\\COSC\\Directed Studies\\TextToSQL\\experiments\\C3\\..\\..\\functions\\sqldatabase_langchain_utils.py:98: SAWarning: Cannot correctly sort tables; there are unresolvable cycles between tables \"mondial_gpt.lake, mondial_gpt.river\", which is usually caused by mutually dependent foreign key constraints.  Foreign key constraints involving these tables will not be considered; this warning may raise an error in a future release.\n",
      "  return self.db._metadata.sorted_tables\n"
     ]
    },
    {
     "name": "stdout",
     "output_type": "stream",
     "text": [
      "Column recall attempt: 1\n",
      "\n",
      "### Complete oracle SQL query only and with no explanation, and do not select extra columns that are not explicitly requested in the query. \n",
      "### Oracle SQL tables, with their properties: \n",
      "#\n",
      "# country (code, name, capital, province)\n",
      "# lake (name, area, elevation, river, type)\n",
      "# province (name, country, population, area)\n",
      "# lake.river=river.name\n",
      "# lake.river=river.name\n",
      "# province.country=country.code\n",
      "# province.country=country.code\n",
      "\n",
      "#\n",
      "### What are the area, elevation and type of lakes in country Italy?\n",
      "SELECT\n",
      "59 What are the area, elevation and type of lakes in country Italy? SELECT area, elevation, type FROM lake WHERE lake.country = 'Italy'; 143.28899908065796\n",
      "-----\n"
     ]
    },
    {
     "name": "stderr",
     "output_type": "stream",
     "text": [
      "c:\\Users\\Tahsin\\Desktop\\Uni\\COSC\\Directed Studies\\TextToSQL\\experiments\\C3\\..\\..\\functions\\sqldatabase_langchain_utils.py:98: SAWarning: Cannot correctly sort tables; there are unresolvable cycles between tables \"mondial_gpt.lake, mondial_gpt.river\", which is usually caused by mutually dependent foreign key constraints.  Foreign key constraints involving these tables will not be considered; this warning may raise an error in a future release.\n",
      "  return self.db._metadata.sorted_tables\n",
      "c:\\Users\\Tahsin\\Desktop\\Uni\\COSC\\Directed Studies\\TextToSQL\\experiments\\C3\\..\\..\\functions\\sqldatabase_langchain_utils.py:98: SAWarning: Cannot correctly sort tables; there are unresolvable cycles between tables \"mondial_gpt.lake, mondial_gpt.river\", which is usually caused by mutually dependent foreign key constraints.  Foreign key constraints involving these tables will not be considered; this warning may raise an error in a future release.\n",
      "  return self.db._metadata.sorted_tables\n"
     ]
    },
    {
     "name": "stdout",
     "output_type": "stream",
     "text": [
      "Column recall attempt: 1\n",
      "\n",
      "### Complete oracle SQL query only and with no explanation, and do not select extra columns that are not explicitly requested in the query. \n",
      "### Oracle SQL tables, with their properties: \n",
      "#\n",
      "# politics (country, independence, wasdependent, dependent)\n",
      "# city (name, country, province, population)\n",
      "# organization (city, name, country, abbreviation)\n",
      "# politics.country=country.code\n",
      "# city.country=country.code\n",
      "# city.province=province.name\n",
      "# city.country=country.code\n",
      "# city.province=province.name\n",
      "# organization.city=city.name\n",
      "# organization.country=country.code\n",
      "# organization.province=city.province\n",
      "# organization.city=city.name\n",
      "# organization.country=province.country\n",
      "# organization.province=city.province\n",
      "\n",
      "#\n",
      "###  List the names of capital cities which are the base for organizations in alphabetical order\n",
      "SELECT\n",
      "60  List the names of capital cities which are the base for organizations in alphabetical order SELECT ```sql SELECT DISTINCT city.name FROM city JOIN organization ON city.name = organization.city ORDER BY city.name; ``` 13.738000869750977\n",
      "-----\n"
     ]
    },
    {
     "name": "stderr",
     "output_type": "stream",
     "text": [
      "c:\\Users\\Tahsin\\Desktop\\Uni\\COSC\\Directed Studies\\TextToSQL\\experiments\\C3\\..\\..\\functions\\sqldatabase_langchain_utils.py:98: SAWarning: Cannot correctly sort tables; there are unresolvable cycles between tables \"mondial_gpt.lake, mondial_gpt.river\", which is usually caused by mutually dependent foreign key constraints.  Foreign key constraints involving these tables will not be considered; this warning may raise an error in a future release.\n",
      "  return self.db._metadata.sorted_tables\n"
     ]
    },
    {
     "name": "stdout",
     "output_type": "stream",
     "text": [
      "list error\n",
      "list error\n",
      "list error\n"
     ]
    },
    {
     "name": "stderr",
     "output_type": "stream",
     "text": [
      "c:\\Users\\Tahsin\\Desktop\\Uni\\COSC\\Directed Studies\\TextToSQL\\experiments\\C3\\..\\..\\functions\\sqldatabase_langchain_utils.py:98: SAWarning: Cannot correctly sort tables; there are unresolvable cycles between tables \"mondial_gpt.lake, mondial_gpt.river\", which is usually caused by mutually dependent foreign key constraints.  Foreign key constraints involving these tables will not be considered; this warning may raise an error in a future release.\n",
      "  return self.db._metadata.sorted_tables\n"
     ]
    },
    {
     "name": "stdout",
     "output_type": "stream",
     "text": [
      "Column recall attempt: 1\n",
      "\n",
      "### Complete oracle SQL query only and with no explanation, and do not select extra columns that are not explicitly requested in the query. \n",
      "### Oracle SQL tables, with their properties: \n",
      "#\n",
      "# country (name, code, area, population, capital)\n",
      "# organization (name, country, abbreviation, city)\n",
      "# ismember (organization, type, country)\n",
      "# organization.city=city.name\n",
      "# organization.country=country.code\n",
      "# organization.province=city.province\n",
      "# organization.city=city.name\n",
      "# organization.country=province.country\n",
      "# organization.province=city.province\n",
      "# ismember.country=country.code\n",
      "# ismember.organization=organization.abbreviation\n",
      "\n",
      "#\n",
      "### List the name of organizations that do not have countries with an area smaller than 4000 and of the member type\n",
      "SELECT\n",
      "61 List the name of organizations that do not have countries with an area smaller than 4000 and of the member type SELECT ```sql SELECT name FROM organization WHERE abbreviation NOT IN ( SELECT organization FROM ismember WHERE type = 'member' ) AND country NOT IN ( SELECT code FROM country WHERE area < 4000 ); ``` 30.83899974822998\n",
      "-----\n"
     ]
    },
    {
     "name": "stderr",
     "output_type": "stream",
     "text": [
      "c:\\Users\\Tahsin\\Desktop\\Uni\\COSC\\Directed Studies\\TextToSQL\\experiments\\C3\\..\\..\\functions\\sqldatabase_langchain_utils.py:98: SAWarning: Cannot correctly sort tables; there are unresolvable cycles between tables \"mondial_gpt.lake, mondial_gpt.river\", which is usually caused by mutually dependent foreign key constraints.  Foreign key constraints involving these tables will not be considered; this warning may raise an error in a future release.\n",
      "  return self.db._metadata.sorted_tables\n"
     ]
    },
    {
     "name": "stdout",
     "output_type": "stream",
     "text": [
      "list error\n",
      "list error\n",
      "list error\n"
     ]
    },
    {
     "name": "stderr",
     "output_type": "stream",
     "text": [
      "c:\\Users\\Tahsin\\Desktop\\Uni\\COSC\\Directed Studies\\TextToSQL\\experiments\\C3\\..\\..\\functions\\sqldatabase_langchain_utils.py:98: SAWarning: Cannot correctly sort tables; there are unresolvable cycles between tables \"mondial_gpt.lake, mondial_gpt.river\", which is usually caused by mutually dependent foreign key constraints.  Foreign key constraints involving these tables will not be considered; this warning may raise an error in a future release.\n",
      "  return self.db._metadata.sorted_tables\n"
     ]
    },
    {
     "name": "stdout",
     "output_type": "stream",
     "text": [
      "Column recall attempt: 1\n",
      "\n",
      "### Complete oracle SQL query only and with no explanation, and do not select extra columns that are not explicitly requested in the query. \n",
      "### Oracle SQL tables, with their properties: \n",
      "#\n",
      "# country (name, code, area, population)\n",
      "# organization (name, city, country, abbreviation, established)\n",
      "# organization.city=city.name\n",
      "# organization.country=country.code\n",
      "# organization.province=city.province\n",
      "# organization.city=city.name\n",
      "# organization.country=province.country\n",
      "# organization.province=city.province\n",
      "\n",
      "#\n",
      "### List the name of organizations that do not have countries with  an area greater than 10000 and population smaller than 3000 and of the member type\n",
      "SELECT\n",
      "62 List the name of organizations that do not have countries with  an area greater than 10000 and population smaller than 3000 and of the member type SELECT ```sql SELECT name FROM organization WHERE abbreviation = 'member' AND country NOT IN ( SELECT code FROM country WHERE area > 10000 AND population < 3000 ); ``` 31.663498640060425\n",
      "-----\n"
     ]
    },
    {
     "name": "stderr",
     "output_type": "stream",
     "text": [
      "c:\\Users\\Tahsin\\Desktop\\Uni\\COSC\\Directed Studies\\TextToSQL\\experiments\\C3\\..\\..\\functions\\sqldatabase_langchain_utils.py:98: SAWarning: Cannot correctly sort tables; there are unresolvable cycles between tables \"mondial_gpt.lake, mondial_gpt.river\", which is usually caused by mutually dependent foreign key constraints.  Foreign key constraints involving these tables will not be considered; this warning may raise an error in a future release.\n",
      "  return self.db._metadata.sorted_tables\n",
      "c:\\Users\\Tahsin\\Desktop\\Uni\\COSC\\Directed Studies\\TextToSQL\\experiments\\C3\\..\\..\\functions\\sqldatabase_langchain_utils.py:98: SAWarning: Cannot correctly sort tables; there are unresolvable cycles between tables \"mondial_gpt.lake, mondial_gpt.river\", which is usually caused by mutually dependent foreign key constraints.  Foreign key constraints involving these tables will not be considered; this warning may raise an error in a future release.\n",
      "  return self.db._metadata.sorted_tables\n"
     ]
    },
    {
     "name": "stdout",
     "output_type": "stream",
     "text": [
      "Column recall attempt: 1\n",
      "\n",
      "### Complete oracle SQL query only and with no explanation, and do not select extra columns that are not explicitly requested in the query. \n",
      "### Oracle SQL tables, with their properties: \n",
      "#\n",
      "# country (code, name, province, capital, population)\n",
      "# sea (name, area, depth)\n",
      "# economy (country, gdp, agriculture, inflation, service)\n",
      "# geo_sea (sea, country, province)\n",
      "# economy.country=country.code\n",
      "# geo_sea.sea=sea.name\n",
      "# geo_sea.country=country.code\n",
      "# geo_sea.province=province.name\n",
      "\n",
      "#\n",
      "### Show the inflation rate of countries that are washed by the Arabian Sea\n",
      "SELECT\n",
      "63 Show the inflation rate of countries that are washed by the Arabian Sea SELECT ```sql SELECT inflation FROM economy WHERE country IN (SELECT country FROM geo_sea WHERE sea = 'Arabian Sea'); ``` 10.463500499725342\n",
      "-----\n"
     ]
    },
    {
     "name": "stderr",
     "output_type": "stream",
     "text": [
      "c:\\Users\\Tahsin\\Desktop\\Uni\\COSC\\Directed Studies\\TextToSQL\\experiments\\C3\\..\\..\\functions\\sqldatabase_langchain_utils.py:98: SAWarning: Cannot correctly sort tables; there are unresolvable cycles between tables \"mondial_gpt.lake, mondial_gpt.river\", which is usually caused by mutually dependent foreign key constraints.  Foreign key constraints involving these tables will not be considered; this warning may raise an error in a future release.\n",
      "  return self.db._metadata.sorted_tables\n"
     ]
    },
    {
     "name": "stdout",
     "output_type": "stream",
     "text": [
      "list error\n",
      "list error\n",
      "list error\n"
     ]
    },
    {
     "name": "stderr",
     "output_type": "stream",
     "text": [
      "c:\\Users\\Tahsin\\Desktop\\Uni\\COSC\\Directed Studies\\TextToSQL\\experiments\\C3\\..\\..\\functions\\sqldatabase_langchain_utils.py:98: SAWarning: Cannot correctly sort tables; there are unresolvable cycles between tables \"mondial_gpt.lake, mondial_gpt.river\", which is usually caused by mutually dependent foreign key constraints.  Foreign key constraints involving these tables will not be considered; this warning may raise an error in a future release.\n",
      "  return self.db._metadata.sorted_tables\n"
     ]
    },
    {
     "name": "stdout",
     "output_type": "stream",
     "text": [
      "Column recall attempt: 1\n",
      "\n",
      "### Complete oracle SQL query only and with no explanation, and do not select extra columns that are not explicitly requested in the query. \n",
      "### Oracle SQL tables, with their properties: \n",
      "#\n",
      "# continent (name, area)\n",
      "# country (name, code, capital, province, area)\n",
      "# province (name, country, capital, population, area)\n",
      "# city (country, province, name, population)\n",
      "# province.country=country.code\n",
      "# province.country=country.code\n",
      "# city.country=country.code\n",
      "# city.province=province.name\n",
      "# city.country=country.code\n",
      "# city.province=province.name\n",
      "\n",
      "#\n",
      "### List all the capitals of the countries that belong to the continent Africa?\n",
      "SELECT\n",
      "64 List all the capitals of the countries that belong to the continent Africa? SELECT ```sql SELECT capital FROM country WHERE country.code IN (SELECT code FROM continent WHERE name = 'Africa'); ``` 40.973501205444336\n",
      "-----\n"
     ]
    },
    {
     "name": "stderr",
     "output_type": "stream",
     "text": [
      "c:\\Users\\Tahsin\\Desktop\\Uni\\COSC\\Directed Studies\\TextToSQL\\experiments\\C3\\..\\..\\functions\\sqldatabase_langchain_utils.py:98: SAWarning: Cannot correctly sort tables; there are unresolvable cycles between tables \"mondial_gpt.lake, mondial_gpt.river\", which is usually caused by mutually dependent foreign key constraints.  Foreign key constraints involving these tables will not be considered; this warning may raise an error in a future release.\n",
      "  return self.db._metadata.sorted_tables\n",
      "c:\\Users\\Tahsin\\Desktop\\Uni\\COSC\\Directed Studies\\TextToSQL\\experiments\\C3\\..\\..\\functions\\sqldatabase_langchain_utils.py:98: SAWarning: Cannot correctly sort tables; there are unresolvable cycles between tables \"mondial_gpt.lake, mondial_gpt.river\", which is usually caused by mutually dependent foreign key constraints.  Foreign key constraints involving these tables will not be considered; this warning may raise an error in a future release.\n",
      "  return self.db._metadata.sorted_tables\n"
     ]
    },
    {
     "name": "stdout",
     "output_type": "stream",
     "text": [
      "Column recall attempt: 1\n",
      "\n",
      "### Complete oracle SQL query only and with no explanation, and do not select extra columns that are not explicitly requested in the query. \n",
      "### Oracle SQL tables, with their properties: \n",
      "#\n",
      "# country (code, name, province, capital, population)\n",
      "# sea (name, area, depth)\n",
      "# economy (country, gdp, agriculture, inflation, service)\n",
      "# economy.country=country.code\n",
      "\n",
      "#\n",
      "### Show the inflation rate of the countries bathed by the Arabian Sea and there is no inflation with null value\n",
      "SELECT\n",
      "65 Show the inflation rate of the countries bathed by the Arabian Sea and there is no inflation with null value SELECT e.inflation FROM economy e JOIN country c ON e.country = c.code JOIN sea s ON c.name = s.name WHERE s.name = 'Arabian Sea' AND e.inflation IS NOT NULL; 10.0024995803833\n",
      "-----\n"
     ]
    },
    {
     "name": "stderr",
     "output_type": "stream",
     "text": [
      "c:\\Users\\Tahsin\\Desktop\\Uni\\COSC\\Directed Studies\\TextToSQL\\experiments\\C3\\..\\..\\functions\\sqldatabase_langchain_utils.py:98: SAWarning: Cannot correctly sort tables; there are unresolvable cycles between tables \"mondial_gpt.lake, mondial_gpt.river\", which is usually caused by mutually dependent foreign key constraints.  Foreign key constraints involving these tables will not be considered; this warning may raise an error in a future release.\n",
      "  return self.db._metadata.sorted_tables\n",
      "c:\\Users\\Tahsin\\Desktop\\Uni\\COSC\\Directed Studies\\TextToSQL\\experiments\\C3\\..\\..\\functions\\sqldatabase_langchain_utils.py:98: SAWarning: Cannot correctly sort tables; there are unresolvable cycles between tables \"mondial_gpt.lake, mondial_gpt.river\", which is usually caused by mutually dependent foreign key constraints.  Foreign key constraints involving these tables will not be considered; this warning may raise an error in a future release.\n",
      "  return self.db._metadata.sorted_tables\n"
     ]
    },
    {
     "name": "stdout",
     "output_type": "stream",
     "text": [
      "Column recall attempt: 1\n",
      "\n",
      "### Complete oracle SQL query only and with no explanation, and do not select extra columns that are not explicitly requested in the query. \n",
      "### Oracle SQL tables, with their properties: \n",
      "#\n",
      "# continent (name, area)\n",
      "# country (name, code, capital, population, province)\n",
      "# encompasses (country, continent, percentage)\n",
      "# province (name, country, population, area)\n",
      "# encompasses.country=country.code\n",
      "# encompasses.continent=continent.name\n",
      "# province.country=country.code\n",
      "# province.country=country.code\n",
      "\n",
      "#\n",
      "### How many countries are in Africa?\n",
      "SELECT\n",
      "66 How many countries are in Africa? SELECT COUNT(*) FROM country WHERE code IN (SELECT country FROM encompasses WHERE continent = 'Africa'); 13.369499683380127\n",
      "-----\n"
     ]
    },
    {
     "name": "stderr",
     "output_type": "stream",
     "text": [
      "c:\\Users\\Tahsin\\Desktop\\Uni\\COSC\\Directed Studies\\TextToSQL\\experiments\\C3\\..\\..\\functions\\sqldatabase_langchain_utils.py:98: SAWarning: Cannot correctly sort tables; there are unresolvable cycles between tables \"mondial_gpt.lake, mondial_gpt.river\", which is usually caused by mutually dependent foreign key constraints.  Foreign key constraints involving these tables will not be considered; this warning may raise an error in a future release.\n",
      "  return self.db._metadata.sorted_tables\n"
     ]
    },
    {
     "name": "stdout",
     "output_type": "stream",
     "text": [
      "list error\n",
      "list error\n",
      "list error\n",
      "list error\n",
      "list error\n",
      "list error\n",
      "list error\n",
      "list error\n",
      "list error\n",
      "list error\n",
      "list error\n",
      "list error\n",
      "list error\n",
      "list error\n",
      "list error\n",
      "list error\n",
      "list error\n",
      "list error\n",
      "list error\n",
      "list error\n",
      "list error\n",
      "list error\n",
      "list error\n",
      "list error\n",
      "list error\n",
      "list error\n",
      "list error\n",
      "list error\n",
      "list error\n",
      "list error\n",
      "list error\n",
      "list error\n",
      "list error\n",
      "list error\n",
      "list error\n",
      "list error\n",
      "list error\n",
      "list error\n",
      "list error\n",
      "list error\n",
      "list error\n",
      "list error\n",
      "list error\n",
      "list error\n",
      "list error\n",
      "list error\n",
      "list error\n",
      "list error\n",
      "list error\n",
      "list error\n",
      "list error\n",
      "list error\n",
      "list error\n",
      "list error\n",
      "list error\n",
      "list error\n",
      "list error\n",
      "list error\n",
      "list error\n",
      "list error\n",
      "list error\n",
      "list error\n",
      "list error\n",
      "list error\n",
      "list error\n",
      "list error\n",
      "list error\n",
      "list error\n",
      "list error\n",
      "list error\n",
      "list error\n",
      "list error\n",
      "list error\n",
      "list error\n",
      "list error\n",
      "list error\n",
      "list error\n",
      "list error\n",
      "list error\n",
      "list error\n",
      "list error\n",
      "list error\n",
      "list error\n",
      "list error\n",
      "list error\n",
      "list error\n",
      "list error\n",
      "list error\n",
      "list error\n",
      "list error\n",
      "list error\n",
      "list error\n",
      "list error\n",
      "list error\n",
      "list error\n",
      "list error\n",
      "list error\n",
      "list error\n",
      "list error\n",
      "list error\n",
      "list error\n",
      "list error\n",
      "list error\n",
      "list error\n",
      "list error\n",
      "list error\n",
      "list error\n",
      "list error\n",
      "list error\n",
      "list error\n",
      "list error\n",
      "list error\n",
      "list error\n",
      "list error\n",
      "list error\n",
      "list error\n",
      "list error\n",
      "list error\n",
      "list error\n",
      "list error\n",
      "list error\n",
      "list error\n",
      "list error\n",
      "list error\n",
      "list error\n",
      "list error\n",
      "list error\n",
      "list error\n",
      "list error\n",
      "list error\n",
      "list error\n",
      "list error\n",
      "list error\n",
      "list error\n",
      "list error\n",
      "list error\n"
     ]
    },
    {
     "name": "stderr",
     "output_type": "stream",
     "text": [
      "c:\\Users\\Tahsin\\Desktop\\Uni\\COSC\\Directed Studies\\TextToSQL\\experiments\\C3\\..\\..\\functions\\sqldatabase_langchain_utils.py:98: SAWarning: Cannot correctly sort tables; there are unresolvable cycles between tables \"mondial_gpt.lake, mondial_gpt.river\", which is usually caused by mutually dependent foreign key constraints.  Foreign key constraints involving these tables will not be considered; this warning may raise an error in a future release.\n",
      "  return self.db._metadata.sorted_tables\n"
     ]
    },
    {
     "name": "stdout",
     "output_type": "stream",
     "text": [
      "Column recall attempt: 1\n",
      "\n",
      "### Complete oracle SQL query only and with no explanation, and do not select extra columns that are not explicitly requested in the query. \n",
      "### Oracle SQL tables, with their properties: \n",
      "#\n",
      "# country (name, code, capital, province, population)\n",
      "# organization (abbreviation, name, city, country, province)\n",
      "# ismember (country, organization, type)\n",
      "# organization.city=city.name\n",
      "# organization.country=country.code\n",
      "# organization.province=city.province\n",
      "# organization.city=city.name\n",
      "# organization.country=province.country\n",
      "# organization.province=city.province\n",
      "# ismember.country=country.code\n",
      "# ismember.organization=organization.abbreviation\n",
      "\n",
      "#\n",
      "### List the name of countries that are not members of NATO and UNESCO\n",
      "SELECT\n",
      "67 List the name of countries that are not members of NATO and UNESCO SELECT ```sql SELECT name FROM country WHERE code NOT IN (SELECT country FROM ismember WHERE type = 'NATO') INTERSECT SELECT name FROM country WHERE code NOT IN (SELECT country FROM ismember WHERE type = 'UNESCO'); ``` 1381.3322174549103\n",
      "-----\n"
     ]
    },
    {
     "name": "stderr",
     "output_type": "stream",
     "text": [
      "c:\\Users\\Tahsin\\Desktop\\Uni\\COSC\\Directed Studies\\TextToSQL\\experiments\\C3\\..\\..\\functions\\sqldatabase_langchain_utils.py:98: SAWarning: Cannot correctly sort tables; there are unresolvable cycles between tables \"mondial_gpt.lake, mondial_gpt.river\", which is usually caused by mutually dependent foreign key constraints.  Foreign key constraints involving these tables will not be considered; this warning may raise an error in a future release.\n",
      "  return self.db._metadata.sorted_tables\n"
     ]
    },
    {
     "name": "stdout",
     "output_type": "stream",
     "text": [
      "list error\n"
     ]
    },
    {
     "name": "stderr",
     "output_type": "stream",
     "text": [
      "c:\\Users\\Tahsin\\Desktop\\Uni\\COSC\\Directed Studies\\TextToSQL\\experiments\\C3\\..\\..\\functions\\sqldatabase_langchain_utils.py:98: SAWarning: Cannot correctly sort tables; there are unresolvable cycles between tables \"mondial_gpt.lake, mondial_gpt.river\", which is usually caused by mutually dependent foreign key constraints.  Foreign key constraints involving these tables will not be considered; this warning may raise an error in a future release.\n",
      "  return self.db._metadata.sorted_tables\n"
     ]
    },
    {
     "name": "stdout",
     "output_type": "stream",
     "text": [
      "Column recall attempt: 1\n",
      "\n",
      "### Complete oracle SQL query only and with no explanation, and do not select extra columns that are not explicitly requested in the query. \n",
      "### Oracle SQL tables, with their properties: \n",
      "#\n",
      "# continent (name, area)\n",
      "# country (name, code, capital, province, area)\n",
      "# encompasses (country, continent, percentage)\n",
      "# province (name, country, area, population)\n",
      "# encompasses.country=country.code\n",
      "# encompasses.continent=continent.name\n",
      "# province.country=country.code\n",
      "# province.country=country.code\n",
      "\n",
      "#\n",
      "### What is the area of the continent Europe?\n",
      "SELECT\n",
      "68 What is the area of the continent Europe? SELECT area FROM continent WHERE name = 'Europe'; 21.35453963279724\n",
      "-----\n"
     ]
    },
    {
     "name": "stderr",
     "output_type": "stream",
     "text": [
      "c:\\Users\\Tahsin\\Desktop\\Uni\\COSC\\Directed Studies\\TextToSQL\\experiments\\C3\\..\\..\\functions\\sqldatabase_langchain_utils.py:98: SAWarning: Cannot correctly sort tables; there are unresolvable cycles between tables \"mondial_gpt.lake, mondial_gpt.river\", which is usually caused by mutually dependent foreign key constraints.  Foreign key constraints involving these tables will not be considered; this warning may raise an error in a future release.\n",
      "  return self.db._metadata.sorted_tables\n"
     ]
    },
    {
     "name": "stdout",
     "output_type": "stream",
     "text": [
      "list error\n",
      "list error\n",
      "list error\n",
      "list error\n",
      "list error\n",
      "list error\n"
     ]
    },
    {
     "name": "stderr",
     "output_type": "stream",
     "text": [
      "c:\\Users\\Tahsin\\Desktop\\Uni\\COSC\\Directed Studies\\TextToSQL\\experiments\\C3\\..\\..\\functions\\sqldatabase_langchain_utils.py:98: SAWarning: Cannot correctly sort tables; there are unresolvable cycles between tables \"mondial_gpt.lake, mondial_gpt.river\", which is usually caused by mutually dependent foreign key constraints.  Foreign key constraints involving these tables will not be considered; this warning may raise an error in a future release.\n",
      "  return self.db._metadata.sorted_tables\n"
     ]
    },
    {
     "name": "stdout",
     "output_type": "stream",
     "text": [
      "Column recall attempt: 1\n",
      "\n",
      "### Complete oracle SQL query only and with no explanation, and do not select extra columns that are not explicitly requested in the query. \n",
      "### Oracle SQL tables, with their properties: \n",
      "#\n",
      "# continent (name, area)\n",
      "# country (name, code, area, capital, population)\n",
      "# province (name, country, population, area)\n",
      "# city (name, country, province, population)\n",
      "# province.country=country.code\n",
      "# province.country=country.code\n",
      "# city.country=country.code\n",
      "# city.province=province.name\n",
      "# city.country=country.code\n",
      "# city.province=province.name\n",
      "\n",
      "#\n",
      "### What is the area of continent America?\n",
      "SELECT\n",
      "69 What is the area of continent America? SELECT area FROM continent WHERE name = 'America'; 68.1214599609375\n",
      "-----\n"
     ]
    },
    {
     "name": "stderr",
     "output_type": "stream",
     "text": [
      "c:\\Users\\Tahsin\\Desktop\\Uni\\COSC\\Directed Studies\\TextToSQL\\experiments\\C3\\..\\..\\functions\\sqldatabase_langchain_utils.py:98: SAWarning: Cannot correctly sort tables; there are unresolvable cycles between tables \"mondial_gpt.lake, mondial_gpt.river\", which is usually caused by mutually dependent foreign key constraints.  Foreign key constraints involving these tables will not be considered; this warning may raise an error in a future release.\n",
      "  return self.db._metadata.sorted_tables\n",
      "c:\\Users\\Tahsin\\Desktop\\Uni\\COSC\\Directed Studies\\TextToSQL\\experiments\\C3\\..\\..\\functions\\sqldatabase_langchain_utils.py:98: SAWarning: Cannot correctly sort tables; there are unresolvable cycles between tables \"mondial_gpt.lake, mondial_gpt.river\", which is usually caused by mutually dependent foreign key constraints.  Foreign key constraints involving these tables will not be considered; this warning may raise an error in a future release.\n",
      "  return self.db._metadata.sorted_tables\n"
     ]
    },
    {
     "name": "stdout",
     "output_type": "stream",
     "text": [
      "Column recall attempt: 1\n",
      "\n",
      "### Complete oracle SQL query only and with no explanation, and do not select extra columns that are not explicitly requested in the query. \n",
      "### Oracle SQL tables, with their properties: \n",
      "#\n",
      "# continent (name, area)\n",
      "# country (name, code, capital, province, area)\n",
      "# province (name, country, population, area)\n",
      "# city (name, country, province, population)\n",
      "# province.country=country.code\n",
      "# province.country=country.code\n",
      "# city.country=country.code\n",
      "# city.province=province.name\n",
      "# city.country=country.code\n",
      "# city.province=province.name\n",
      "\n",
      "#\n",
      "### What is the area of continent Asia?\n",
      "SELECT\n",
      "70 What is the area of continent Asia? SELECT area FROM continent WHERE name = 'Asia'; 11.123543739318848\n",
      "-----\n"
     ]
    },
    {
     "name": "stderr",
     "output_type": "stream",
     "text": [
      "c:\\Users\\Tahsin\\Desktop\\Uni\\COSC\\Directed Studies\\TextToSQL\\experiments\\C3\\..\\..\\functions\\sqldatabase_langchain_utils.py:98: SAWarning: Cannot correctly sort tables; there are unresolvable cycles between tables \"mondial_gpt.lake, mondial_gpt.river\", which is usually caused by mutually dependent foreign key constraints.  Foreign key constraints involving these tables will not be considered; this warning may raise an error in a future release.\n",
      "  return self.db._metadata.sorted_tables\n"
     ]
    },
    {
     "name": "stdout",
     "output_type": "stream",
     "text": [
      "list error\n"
     ]
    },
    {
     "name": "stderr",
     "output_type": "stream",
     "text": [
      "c:\\Users\\Tahsin\\Desktop\\Uni\\COSC\\Directed Studies\\TextToSQL\\experiments\\C3\\..\\..\\functions\\sqldatabase_langchain_utils.py:98: SAWarning: Cannot correctly sort tables; there are unresolvable cycles between tables \"mondial_gpt.lake, mondial_gpt.river\", which is usually caused by mutually dependent foreign key constraints.  Foreign key constraints involving these tables will not be considered; this warning may raise an error in a future release.\n",
      "  return self.db._metadata.sorted_tables\n"
     ]
    },
    {
     "name": "stdout",
     "output_type": "stream",
     "text": [
      "Column recall attempt: 1\n",
      "\n",
      "### Complete oracle SQL query only and with no explanation, and do not select extra columns that are not explicitly requested in the query. \n",
      "### Oracle SQL tables, with their properties: \n",
      "#\n",
      "# continent (name, area)\n",
      "# country (name, code, area, capital, population)\n",
      "# province (area, name, country, population)\n",
      "# province.country=country.code\n",
      "# province.country=country.code\n",
      "\n",
      "#\n",
      "### What is the area of Africa?\n",
      "SELECT\n",
      "71 What is the area of Africa? SELECT area FROM continent WHERE name = 'Africa'; 14.632397174835205\n",
      "-----\n"
     ]
    },
    {
     "name": "stderr",
     "output_type": "stream",
     "text": [
      "c:\\Users\\Tahsin\\Desktop\\Uni\\COSC\\Directed Studies\\TextToSQL\\experiments\\C3\\..\\..\\functions\\sqldatabase_langchain_utils.py:98: SAWarning: Cannot correctly sort tables; there are unresolvable cycles between tables \"mondial_gpt.lake, mondial_gpt.river\", which is usually caused by mutually dependent foreign key constraints.  Foreign key constraints involving these tables will not be considered; this warning may raise an error in a future release.\n",
      "  return self.db._metadata.sorted_tables\n"
     ]
    },
    {
     "name": "stdout",
     "output_type": "stream",
     "text": [
      "list error\n"
     ]
    },
    {
     "name": "stderr",
     "output_type": "stream",
     "text": [
      "c:\\Users\\Tahsin\\Desktop\\Uni\\COSC\\Directed Studies\\TextToSQL\\experiments\\C3\\..\\..\\functions\\sqldatabase_langchain_utils.py:98: SAWarning: Cannot correctly sort tables; there are unresolvable cycles between tables \"mondial_gpt.lake, mondial_gpt.river\", which is usually caused by mutually dependent foreign key constraints.  Foreign key constraints involving these tables will not be considered; this warning may raise an error in a future release.\n",
      "  return self.db._metadata.sorted_tables\n"
     ]
    },
    {
     "name": "stdout",
     "output_type": "stream",
     "text": [
      "Column recall attempt: 1\n",
      "\n",
      "### Complete oracle SQL query only and with no explanation, and do not select extra columns that are not explicitly requested in the query. \n",
      "### Oracle SQL tables, with their properties: \n",
      "#\n",
      "# continent (name, area)\n",
      "# country (name, code, population, province, capital)\n",
      "# encompasses (country, continent, percentage)\n",
      "# province (name, country, population, area)\n",
      "# encompasses.country=country.code\n",
      "# encompasses.continent=continent.name\n",
      "# province.country=country.code\n",
      "# province.country=country.code\n",
      "\n",
      "#\n",
      "### How many countries are in America?\n",
      "SELECT\n",
      "72 How many countries are in America? SELECT COUNT(*) FROM country WHERE country.continent = 'America'; 21.07245135307312\n",
      "-----\n"
     ]
    },
    {
     "name": "stderr",
     "output_type": "stream",
     "text": [
      "c:\\Users\\Tahsin\\Desktop\\Uni\\COSC\\Directed Studies\\TextToSQL\\experiments\\C3\\..\\..\\functions\\sqldatabase_langchain_utils.py:98: SAWarning: Cannot correctly sort tables; there are unresolvable cycles between tables \"mondial_gpt.lake, mondial_gpt.river\", which is usually caused by mutually dependent foreign key constraints.  Foreign key constraints involving these tables will not be considered; this warning may raise an error in a future release.\n",
      "  return self.db._metadata.sorted_tables\n",
      "c:\\Users\\Tahsin\\Desktop\\Uni\\COSC\\Directed Studies\\TextToSQL\\experiments\\C3\\..\\..\\functions\\sqldatabase_langchain_utils.py:98: SAWarning: Cannot correctly sort tables; there are unresolvable cycles between tables \"mondial_gpt.lake, mondial_gpt.river\", which is usually caused by mutually dependent foreign key constraints.  Foreign key constraints involving these tables will not be considered; this warning may raise an error in a future release.\n",
      "  return self.db._metadata.sorted_tables\n"
     ]
    },
    {
     "name": "stdout",
     "output_type": "stream",
     "text": [
      "Column recall attempt: 1\n",
      "\n",
      "### Complete oracle SQL query only and with no explanation, and do not select extra columns that are not explicitly requested in the query. \n",
      "### Oracle SQL tables, with their properties: \n",
      "#\n",
      "# continent (name, area)\n",
      "# country (code, area, name, capital, population)\n",
      "# encompasses (country, continent, percentage)\n",
      "# province (country, area, name, population)\n",
      "# encompasses.country=country.code\n",
      "# encompasses.continent=continent.name\n",
      "# province.country=country.code\n",
      "# province.country=country.code\n",
      "\n",
      "#\n",
      "### What area is the largest continent?\n",
      "SELECT\n",
      "73 What area is the largest continent? SELECT name FROM continent ORDER BY area DESC FETCH FIRST 1 ROWS ONLY; 8.130764722824097\n",
      "-----\n"
     ]
    },
    {
     "name": "stderr",
     "output_type": "stream",
     "text": [
      "c:\\Users\\Tahsin\\Desktop\\Uni\\COSC\\Directed Studies\\TextToSQL\\experiments\\C3\\..\\..\\functions\\sqldatabase_langchain_utils.py:98: SAWarning: Cannot correctly sort tables; there are unresolvable cycles between tables \"mondial_gpt.lake, mondial_gpt.river\", which is usually caused by mutually dependent foreign key constraints.  Foreign key constraints involving these tables will not be considered; this warning may raise an error in a future release.\n",
      "  return self.db._metadata.sorted_tables\n"
     ]
    },
    {
     "name": "stdout",
     "output_type": "stream",
     "text": [
      "list error\n",
      "list error\n"
     ]
    },
    {
     "name": "stderr",
     "output_type": "stream",
     "text": [
      "c:\\Users\\Tahsin\\Desktop\\Uni\\COSC\\Directed Studies\\TextToSQL\\experiments\\C3\\..\\..\\functions\\sqldatabase_langchain_utils.py:98: SAWarning: Cannot correctly sort tables; there are unresolvable cycles between tables \"mondial_gpt.lake, mondial_gpt.river\", which is usually caused by mutually dependent foreign key constraints.  Foreign key constraints involving these tables will not be considered; this warning may raise an error in a future release.\n",
      "  return self.db._metadata.sorted_tables\n"
     ]
    },
    {
     "name": "stdout",
     "output_type": "stream",
     "text": [
      "Column recall attempt: 1\n",
      "\n",
      "### Complete oracle SQL query only and with no explanation, and do not select extra columns that are not explicitly requested in the query. \n",
      "### Oracle SQL tables, with their properties: \n",
      "#\n",
      "# continent (name, area)\n",
      "# country (code, name, area, population, capital)\n",
      "# encompasses (country, continent, percentage)\n",
      "# encompasses.country=country.code\n",
      "# encompasses.continent=continent.name\n",
      "\n",
      "#\n",
      "### List the countries that belong to the continent with the largest area\n",
      "SELECT\n",
      "74 List the countries that belong to the continent with the largest area SELECT ```sql SELECT country.name FROM country WHERE country.code IN ( SELECT encompasses.country FROM encompasses WHERE encompasses.continent = ( SELECT continent.name FROM continent ORDER BY continent.area DESC FETCH FIRST 1 ROWS ONLY ) ); ``` 23.944143056869507\n",
      "-----\n"
     ]
    },
    {
     "name": "stderr",
     "output_type": "stream",
     "text": [
      "c:\\Users\\Tahsin\\Desktop\\Uni\\COSC\\Directed Studies\\TextToSQL\\experiments\\C3\\..\\..\\functions\\sqldatabase_langchain_utils.py:98: SAWarning: Cannot correctly sort tables; there are unresolvable cycles between tables \"mondial_gpt.lake, mondial_gpt.river\", which is usually caused by mutually dependent foreign key constraints.  Foreign key constraints involving these tables will not be considered; this warning may raise an error in a future release.\n",
      "  return self.db._metadata.sorted_tables\n"
     ]
    },
    {
     "name": "stdout",
     "output_type": "stream",
     "text": [
      "list error\n",
      "list error\n"
     ]
    },
    {
     "name": "stderr",
     "output_type": "stream",
     "text": [
      "c:\\Users\\Tahsin\\Desktop\\Uni\\COSC\\Directed Studies\\TextToSQL\\experiments\\C3\\..\\..\\functions\\sqldatabase_langchain_utils.py:98: SAWarning: Cannot correctly sort tables; there are unresolvable cycles between tables \"mondial_gpt.lake, mondial_gpt.river\", which is usually caused by mutually dependent foreign key constraints.  Foreign key constraints involving these tables will not be considered; this warning may raise an error in a future release.\n",
      "  return self.db._metadata.sorted_tables\n"
     ]
    },
    {
     "name": "stdout",
     "output_type": "stream",
     "text": [
      "Column recall attempt: 1\n",
      "\n",
      "### Complete oracle SQL query only and with no explanation, and do not select extra columns that are not explicitly requested in the query. \n",
      "### Oracle SQL tables, with their properties: \n",
      "#\n",
      "# continent (name, area)\n",
      "# country (code, name, area, population, capital)\n",
      "# language (country, name, percentage)\n",
      "# language.country=country.code\n",
      "\n",
      "#\n",
      "### List the countries that belong to the continent with the largest area and whose language is English\n",
      "SELECT\n",
      "75 List the countries that belong to the continent with the largest area and whose language is English SELECT ```sql SELECT country.name FROM country JOIN continent ON country.continent = continent.name JOIN language ON country.code = language.country WHERE continent.area = (SELECT MAX(area) FROM continent) AND language.name = 'English'; ``` 23.619739294052124\n",
      "-----\n"
     ]
    },
    {
     "name": "stderr",
     "output_type": "stream",
     "text": [
      "c:\\Users\\Tahsin\\Desktop\\Uni\\COSC\\Directed Studies\\TextToSQL\\experiments\\C3\\..\\..\\functions\\sqldatabase_langchain_utils.py:98: SAWarning: Cannot correctly sort tables; there are unresolvable cycles between tables \"mondial_gpt.lake, mondial_gpt.river\", which is usually caused by mutually dependent foreign key constraints.  Foreign key constraints involving these tables will not be considered; this warning may raise an error in a future release.\n",
      "  return self.db._metadata.sorted_tables\n"
     ]
    },
    {
     "name": "stdout",
     "output_type": "stream",
     "text": [
      "list error\n",
      "list error\n",
      "list error\n",
      "list error\n"
     ]
    },
    {
     "name": "stderr",
     "output_type": "stream",
     "text": [
      "c:\\Users\\Tahsin\\Desktop\\Uni\\COSC\\Directed Studies\\TextToSQL\\experiments\\C3\\..\\..\\functions\\sqldatabase_langchain_utils.py:98: SAWarning: Cannot correctly sort tables; there are unresolvable cycles between tables \"mondial_gpt.lake, mondial_gpt.river\", which is usually caused by mutually dependent foreign key constraints.  Foreign key constraints involving these tables will not be considered; this warning may raise an error in a future release.\n",
      "  return self.db._metadata.sorted_tables\n"
     ]
    },
    {
     "name": "stdout",
     "output_type": "stream",
     "text": [
      "Column recall attempt: 1\n",
      "\n",
      "### Complete oracle SQL query only and with no explanation, and do not select extra columns that are not explicitly requested in the query. \n",
      "### Oracle SQL tables, with their properties: \n",
      "#\n",
      "# country (name, code, capital, province, population)\n",
      "# city (name, country, population, province)\n",
      "# citypops (city, country, province, year, population)\n",
      "# city.country=country.code\n",
      "# city.province=province.name\n",
      "# city.country=country.code\n",
      "# city.province=province.name\n",
      "# citypops.city=city.name\n",
      "# citypops.country=city.country\n",
      "# citypops.province=province.name\n",
      "\n",
      "#\n",
      "### List the names of cities, along with the name of their country for cities with a population greater than 5 million.  Display the results in descending order by population.\n",
      "SELECT\n",
      "76 List the names of cities, along with the name of their country for cities with a population greater than 5 million.  Display the results in descending order by population. SELECT city.name, country.name FROM city JOIN country ON city.country = country.code WHERE city.population > 5000000 ORDER BY city.population DESC; 50.20949935913086\n",
      "-----\n"
     ]
    },
    {
     "name": "stderr",
     "output_type": "stream",
     "text": [
      "c:\\Users\\Tahsin\\Desktop\\Uni\\COSC\\Directed Studies\\TextToSQL\\experiments\\C3\\..\\..\\functions\\sqldatabase_langchain_utils.py:98: SAWarning: Cannot correctly sort tables; there are unresolvable cycles between tables \"mondial_gpt.lake, mondial_gpt.river\", which is usually caused by mutually dependent foreign key constraints.  Foreign key constraints involving these tables will not be considered; this warning may raise an error in a future release.\n",
      "  return self.db._metadata.sorted_tables\n"
     ]
    },
    {
     "name": "stdout",
     "output_type": "stream",
     "text": [
      "list error\n",
      "list error\n"
     ]
    },
    {
     "name": "stderr",
     "output_type": "stream",
     "text": [
      "c:\\Users\\Tahsin\\Desktop\\Uni\\COSC\\Directed Studies\\TextToSQL\\experiments\\C3\\..\\..\\functions\\sqldatabase_langchain_utils.py:98: SAWarning: Cannot correctly sort tables; there are unresolvable cycles between tables \"mondial_gpt.lake, mondial_gpt.river\", which is usually caused by mutually dependent foreign key constraints.  Foreign key constraints involving these tables will not be considered; this warning may raise an error in a future release.\n",
      "  return self.db._metadata.sorted_tables\n"
     ]
    },
    {
     "name": "stdout",
     "output_type": "stream",
     "text": [
      "Column recall attempt: 1\n",
      "\n",
      "### Complete oracle SQL query only and with no explanation, and do not select extra columns that are not explicitly requested in the query. \n",
      "### Oracle SQL tables, with their properties: \n",
      "#\n",
      "# desert (name, area, coordinates)\n",
      "# province (name, country, population, area)\n",
      "# geo_desert (desert, country, province)\n",
      "# province.country=country.code\n",
      "# province.country=country.code\n",
      "# geo_desert.desert=desert.name\n",
      "# geo_desert.country=country.code\n",
      "# geo_desert.province=province.name\n",
      "\n",
      "#\n",
      "### Show the name of the deserts in the province of Algeria\n",
      "SELECT\n",
      "77 Show the name of the deserts in the province of Algeria SELECT ```sql SELECT desert.name FROM desert JOIN geo_desert ON desert.name = geo_desert.desert JOIN province ON geo_desert.province = province.name JOIN country ON province.country = country.code WHERE country.name = 'Algeria'; ``` 24.286191701889038\n",
      "-----\n"
     ]
    },
    {
     "name": "stderr",
     "output_type": "stream",
     "text": [
      "c:\\Users\\Tahsin\\Desktop\\Uni\\COSC\\Directed Studies\\TextToSQL\\experiments\\C3\\..\\..\\functions\\sqldatabase_langchain_utils.py:98: SAWarning: Cannot correctly sort tables; there are unresolvable cycles between tables \"mondial_gpt.lake, mondial_gpt.river\", which is usually caused by mutually dependent foreign key constraints.  Foreign key constraints involving these tables will not be considered; this warning may raise an error in a future release.\n",
      "  return self.db._metadata.sorted_tables\n",
      "c:\\Users\\Tahsin\\Desktop\\Uni\\COSC\\Directed Studies\\TextToSQL\\experiments\\C3\\..\\..\\functions\\sqldatabase_langchain_utils.py:98: SAWarning: Cannot correctly sort tables; there are unresolvable cycles between tables \"mondial_gpt.lake, mondial_gpt.river\", which is usually caused by mutually dependent foreign key constraints.  Foreign key constraints involving these tables will not be considered; this warning may raise an error in a future release.\n",
      "  return self.db._metadata.sorted_tables\n"
     ]
    },
    {
     "name": "stdout",
     "output_type": "stream",
     "text": [
      "Column recall attempt: 1\n",
      "\n",
      "### Complete oracle SQL query only and with no explanation, and do not select extra columns that are not explicitly requested in the query. \n",
      "### Oracle SQL tables, with their properties: \n",
      "#\n",
      "# desert (name, area, coordinates)\n",
      "# province (name, area, country, population, capital)\n",
      "# geo_desert (desert, country, province)\n",
      "# province.country=country.code\n",
      "# province.country=country.code\n",
      "# geo_desert.desert=desert.name\n",
      "# geo_desert.country=country.code\n",
      "# geo_desert.province=province.name\n",
      "\n",
      "#\n",
      "### Show the name and area of the deserts in the province of California\n",
      "SELECT\n",
      "78 Show the name and area of the deserts in the province of California SELECT SELECT d.name, d.area FROM desert d JOIN geo_desert gd ON d.name = gd.desert JOIN province p ON gd.province = p.name WHERE p.name = 'California'; 9.988268613815308\n",
      "-----\n"
     ]
    },
    {
     "name": "stderr",
     "output_type": "stream",
     "text": [
      "c:\\Users\\Tahsin\\Desktop\\Uni\\COSC\\Directed Studies\\TextToSQL\\experiments\\C3\\..\\..\\functions\\sqldatabase_langchain_utils.py:98: SAWarning: Cannot correctly sort tables; there are unresolvable cycles between tables \"mondial_gpt.lake, mondial_gpt.river\", which is usually caused by mutually dependent foreign key constraints.  Foreign key constraints involving these tables will not be considered; this warning may raise an error in a future release.\n",
      "  return self.db._metadata.sorted_tables\n"
     ]
    },
    {
     "name": "stdout",
     "output_type": "stream",
     "text": [
      "list error\n",
      "list error\n",
      "list error\n"
     ]
    },
    {
     "name": "stderr",
     "output_type": "stream",
     "text": [
      "c:\\Users\\Tahsin\\Desktop\\Uni\\COSC\\Directed Studies\\TextToSQL\\experiments\\C3\\..\\..\\functions\\sqldatabase_langchain_utils.py:98: SAWarning: Cannot correctly sort tables; there are unresolvable cycles between tables \"mondial_gpt.lake, mondial_gpt.river\", which is usually caused by mutually dependent foreign key constraints.  Foreign key constraints involving these tables will not be considered; this warning may raise an error in a future release.\n",
      "  return self.db._metadata.sorted_tables\n"
     ]
    },
    {
     "name": "stdout",
     "output_type": "stream",
     "text": [
      "Column recall attempt: 1\n",
      "\n",
      "### Complete oracle SQL query only and with no explanation, and do not select extra columns that are not explicitly requested in the query. \n",
      "### Oracle SQL tables, with their properties: \n",
      "#\n",
      "# country (name, code, capital, province)\n",
      "# countryothername (country, othername)\n",
      "# ethnicgroup (country, name, percentage)\n",
      "# language (name, percentage, country)\n",
      "# countryothername.country=country.code\n",
      "# ethnicgroup.country=country.code\n",
      "# language.country=country.code\n",
      "\n",
      "#\n",
      "### List the country names and percentage of use of language where  French are used as languages.\n",
      "SELECT\n",
      "79 List the country names and percentage of use of language where  French are used as languages. SELECT name, percentage FROM language WHERE name = 'French'; 42.446776390075684\n",
      "-----\n"
     ]
    },
    {
     "name": "stderr",
     "output_type": "stream",
     "text": [
      "c:\\Users\\Tahsin\\Desktop\\Uni\\COSC\\Directed Studies\\TextToSQL\\experiments\\C3\\..\\..\\functions\\sqldatabase_langchain_utils.py:98: SAWarning: Cannot correctly sort tables; there are unresolvable cycles between tables \"mondial_gpt.lake, mondial_gpt.river\", which is usually caused by mutually dependent foreign key constraints.  Foreign key constraints involving these tables will not be considered; this warning may raise an error in a future release.\n",
      "  return self.db._metadata.sorted_tables\n",
      "c:\\Users\\Tahsin\\Desktop\\Uni\\COSC\\Directed Studies\\TextToSQL\\experiments\\C3\\..\\..\\functions\\sqldatabase_langchain_utils.py:98: SAWarning: Cannot correctly sort tables; there are unresolvable cycles between tables \"mondial_gpt.lake, mondial_gpt.river\", which is usually caused by mutually dependent foreign key constraints.  Foreign key constraints involving these tables will not be considered; this warning may raise an error in a future release.\n",
      "  return self.db._metadata.sorted_tables\n"
     ]
    },
    {
     "name": "stdout",
     "output_type": "stream",
     "text": [
      "Column recall attempt: 1\n",
      "\n",
      "### Complete oracle SQL query only and with no explanation, and do not select extra columns that are not explicitly requested in the query. \n",
      "### Oracle SQL tables, with their properties: \n",
      "#\n",
      "# country (code, name, capital, province, population)\n",
      "# language (country, name, percentage)\n",
      "# city (name, country, province, population)\n",
      "# citylocalname (city, country, province, localname)\n",
      "# language.country=country.code\n",
      "# city.country=country.code\n",
      "# city.province=province.name\n",
      "# city.country=country.code\n",
      "# city.province=province.name\n",
      "# citylocalname.city=city.name\n",
      "# citylocalname.country=city.country\n",
      "# citylocalname.province=city.province\n",
      "\n",
      "#\n",
      "### What are the cities where �Portuguese� is spoken?\n",
      "SELECT\n",
      "80 What are the cities where �Portuguese� is spoken? SELECT ```sql SELECT city.name FROM city WHERE city.country IN (SELECT country FROM language WHERE name = 'Portuguese'); ``` 12.966909885406494\n",
      "-----\n"
     ]
    },
    {
     "name": "stderr",
     "output_type": "stream",
     "text": [
      "c:\\Users\\Tahsin\\Desktop\\Uni\\COSC\\Directed Studies\\TextToSQL\\experiments\\C3\\..\\..\\functions\\sqldatabase_langchain_utils.py:98: SAWarning: Cannot correctly sort tables; there are unresolvable cycles between tables \"mondial_gpt.lake, mondial_gpt.river\", which is usually caused by mutually dependent foreign key constraints.  Foreign key constraints involving these tables will not be considered; this warning may raise an error in a future release.\n",
      "  return self.db._metadata.sorted_tables\n"
     ]
    },
    {
     "name": "stdout",
     "output_type": "stream",
     "text": [
      "list error\n"
     ]
    },
    {
     "name": "stderr",
     "output_type": "stream",
     "text": [
      "c:\\Users\\Tahsin\\Desktop\\Uni\\COSC\\Directed Studies\\TextToSQL\\experiments\\C3\\..\\..\\functions\\sqldatabase_langchain_utils.py:98: SAWarning: Cannot correctly sort tables; there are unresolvable cycles between tables \"mondial_gpt.lake, mondial_gpt.river\", which is usually caused by mutually dependent foreign key constraints.  Foreign key constraints involving these tables will not be considered; this warning may raise an error in a future release.\n",
      "  return self.db._metadata.sorted_tables\n"
     ]
    },
    {
     "name": "stdout",
     "output_type": "stream",
     "text": [
      "Column recall attempt: 1\n",
      "\n",
      "### Complete oracle SQL query only and with no explanation, and do not select extra columns that are not explicitly requested in the query. \n",
      "### Oracle SQL tables, with their properties: \n",
      "#\n",
      "# country (code, name, capital, area, province)\n",
      "# province (name, area, country, population, capital)\n",
      "# city (country, province, population, name, latitude)\n",
      "# provpops (province, country, year, population)\n",
      "# province.country=country.code\n",
      "# province.country=country.code\n",
      "# city.country=country.code\n",
      "# city.province=province.name\n",
      "# provpops.province=province.name\n",
      "# provpops.country=province.country\n",
      "# city.country=country.code\n",
      "# city.province=province.name\n",
      "\n",
      "#\n",
      "### What is the total area of the provinces in Canada?\n",
      "SELECT\n",
      "81 What is the total area of the provinces in Canada? SELECT SUM(area) FROM province WHERE country = 'CA'; 17.510244607925415\n",
      "-----\n"
     ]
    },
    {
     "name": "stderr",
     "output_type": "stream",
     "text": [
      "c:\\Users\\Tahsin\\Desktop\\Uni\\COSC\\Directed Studies\\TextToSQL\\experiments\\C3\\..\\..\\functions\\sqldatabase_langchain_utils.py:98: SAWarning: Cannot correctly sort tables; there are unresolvable cycles between tables \"mondial_gpt.lake, mondial_gpt.river\", which is usually caused by mutually dependent foreign key constraints.  Foreign key constraints involving these tables will not be considered; this warning may raise an error in a future release.\n",
      "  return self.db._metadata.sorted_tables\n"
     ]
    },
    {
     "name": "stdout",
     "output_type": "stream",
     "text": [
      "list error\n"
     ]
    },
    {
     "name": "stderr",
     "output_type": "stream",
     "text": [
      "c:\\Users\\Tahsin\\Desktop\\Uni\\COSC\\Directed Studies\\TextToSQL\\experiments\\C3\\..\\..\\functions\\sqldatabase_langchain_utils.py:98: SAWarning: Cannot correctly sort tables; there are unresolvable cycles between tables \"mondial_gpt.lake, mondial_gpt.river\", which is usually caused by mutually dependent foreign key constraints.  Foreign key constraints involving these tables will not be considered; this warning may raise an error in a future release.\n",
      "  return self.db._metadata.sorted_tables\n"
     ]
    },
    {
     "name": "stdout",
     "output_type": "stream",
     "text": [
      "Column recall attempt: 1\n",
      "\n",
      "### Complete oracle SQL query only and with no explanation, and do not select extra columns that are not explicitly requested in the query. \n",
      "### Oracle SQL tables, with their properties: \n",
      "#\n",
      "# river (name, length, river, source, sourceelevation)\n",
      "# riveronisland (river, island)\n",
      "# riverthrough (river, lake)\n",
      "# located (river, city, province, country)\n",
      "# river.lake=lake.name\n",
      "# river.sea=sea.name\n",
      "# river.lake=lake.name\n",
      "# river.sea=sea.name\n",
      "# riveronisland.river=river.name\n",
      "# riverthrough.river=river.name\n",
      "# riverthrough.lake=lake.name\n",
      "# located.city=city.name\n",
      "# located.province=province.name\n",
      "# located.country=city.country\n",
      "# located.river=river.name\n",
      "# located.lake=lake.name\n",
      "# located.sea=sea.name\n",
      "\n",
      "#\n",
      "### What is the length of the Tigris River?\n",
      "SELECT\n",
      "82 What is the length of the Tigris River? SELECT ```sql SELECT length FROM river WHERE name = 'Tigris'; ``` 50.04470467567444\n",
      "-----\n"
     ]
    },
    {
     "name": "stderr",
     "output_type": "stream",
     "text": [
      "c:\\Users\\Tahsin\\Desktop\\Uni\\COSC\\Directed Studies\\TextToSQL\\experiments\\C3\\..\\..\\functions\\sqldatabase_langchain_utils.py:98: SAWarning: Cannot correctly sort tables; there are unresolvable cycles between tables \"mondial_gpt.lake, mondial_gpt.river\", which is usually caused by mutually dependent foreign key constraints.  Foreign key constraints involving these tables will not be considered; this warning may raise an error in a future release.\n",
      "  return self.db._metadata.sorted_tables\n"
     ]
    },
    {
     "name": "stdout",
     "output_type": "stream",
     "text": [
      "list error\n"
     ]
    },
    {
     "name": "stderr",
     "output_type": "stream",
     "text": [
      "c:\\Users\\Tahsin\\Desktop\\Uni\\COSC\\Directed Studies\\TextToSQL\\experiments\\C3\\..\\..\\functions\\sqldatabase_langchain_utils.py:98: SAWarning: Cannot correctly sort tables; there are unresolvable cycles between tables \"mondial_gpt.lake, mondial_gpt.river\", which is usually caused by mutually dependent foreign key constraints.  Foreign key constraints involving these tables will not be considered; this warning may raise an error in a future release.\n",
      "  return self.db._metadata.sorted_tables\n"
     ]
    },
    {
     "name": "stdout",
     "output_type": "stream",
     "text": [
      "Column recall attempt: 1\n",
      "\n",
      "### Complete oracle SQL query only and with no explanation, and do not select extra columns that are not explicitly requested in the query. \n",
      "### Oracle SQL tables, with their properties: \n",
      "#\n",
      "# province (name, country, population, area, capprov)\n",
      "# city (country, province, name, population, elevation)\n",
      "# airport (country, city, iatacode, name, elevation)\n",
      "# province.country=country.code\n",
      "# province.country=country.code\n",
      "# city.country=country.code\n",
      "# city.province=province.name\n",
      "# city.country=country.code\n",
      "# city.province=province.name\n",
      "# airport.country=city.country\n",
      "# airport.city=city.name\n",
      "# airport.province=province.name\n",
      "\n",
      "#\n",
      "### List the Airports with elevation more than 1000\n",
      "SELECT\n",
      "83 List the Airports with elevation more than 1000 SELECT ```sql SELECT name FROM airport WHERE elevation > 1000; ``` 25.540263175964355\n",
      "-----\n"
     ]
    },
    {
     "name": "stderr",
     "output_type": "stream",
     "text": [
      "c:\\Users\\Tahsin\\Desktop\\Uni\\COSC\\Directed Studies\\TextToSQL\\experiments\\C3\\..\\..\\functions\\sqldatabase_langchain_utils.py:98: SAWarning: Cannot correctly sort tables; there are unresolvable cycles between tables \"mondial_gpt.lake, mondial_gpt.river\", which is usually caused by mutually dependent foreign key constraints.  Foreign key constraints involving these tables will not be considered; this warning may raise an error in a future release.\n",
      "  return self.db._metadata.sorted_tables\n",
      "c:\\Users\\Tahsin\\Desktop\\Uni\\COSC\\Directed Studies\\TextToSQL\\experiments\\C3\\..\\..\\functions\\sqldatabase_langchain_utils.py:98: SAWarning: Cannot correctly sort tables; there are unresolvable cycles between tables \"mondial_gpt.lake, mondial_gpt.river\", which is usually caused by mutually dependent foreign key constraints.  Foreign key constraints involving these tables will not be considered; this warning may raise an error in a future release.\n",
      "  return self.db._metadata.sorted_tables\n"
     ]
    },
    {
     "name": "stdout",
     "output_type": "stream",
     "text": [
      "Column recall attempt: 1\n",
      "\n",
      "### Complete oracle SQL query only and with no explanation, and do not select extra columns that are not explicitly requested in the query. \n",
      "### Oracle SQL tables, with their properties: \n",
      "#\n",
      "# country (name, code, capital, province, population)\n",
      "# province (country, name, population, area)\n",
      "# city (country, name, province, population, elevation)\n",
      "# airport (country, city, iatacode, name, elevation)\n",
      "# province.country=country.code\n",
      "# province.country=country.code\n",
      "# city.country=country.code\n",
      "# city.province=province.name\n",
      "# city.country=country.code\n",
      "# city.province=province.name\n",
      "# airport.country=city.country\n",
      "# airport.city=city.name\n",
      "# airport.province=province.name\n",
      "\n",
      "#\n",
      "### List airports in the United States with an elevation below 200 feet\n",
      "SELECT\n",
      "84 List airports in the United States with an elevation below 200 feet SELECT ```sql SELECT name FROM airport WHERE country = 'US' AND elevation < 200; ``` 10.282664775848389\n",
      "-----\n"
     ]
    },
    {
     "name": "stderr",
     "output_type": "stream",
     "text": [
      "c:\\Users\\Tahsin\\Desktop\\Uni\\COSC\\Directed Studies\\TextToSQL\\experiments\\C3\\..\\..\\functions\\sqldatabase_langchain_utils.py:98: SAWarning: Cannot correctly sort tables; there are unresolvable cycles between tables \"mondial_gpt.lake, mondial_gpt.river\", which is usually caused by mutually dependent foreign key constraints.  Foreign key constraints involving these tables will not be considered; this warning may raise an error in a future release.\n",
      "  return self.db._metadata.sorted_tables\n"
     ]
    },
    {
     "name": "stdout",
     "output_type": "stream",
     "text": [
      "list error\n",
      "list error\n",
      "list error\n",
      "list error\n",
      "list error\n",
      "list error\n",
      "list error\n",
      "list error\n",
      "list error\n",
      "list error\n",
      "list error\n",
      "list error\n",
      "list error\n"
     ]
    },
    {
     "name": "stderr",
     "output_type": "stream",
     "text": [
      "c:\\Users\\Tahsin\\Desktop\\Uni\\COSC\\Directed Studies\\TextToSQL\\experiments\\C3\\..\\..\\functions\\sqldatabase_langchain_utils.py:98: SAWarning: Cannot correctly sort tables; there are unresolvable cycles between tables \"mondial_gpt.lake, mondial_gpt.river\", which is usually caused by mutually dependent foreign key constraints.  Foreign key constraints involving these tables will not be considered; this warning may raise an error in a future release.\n",
      "  return self.db._metadata.sorted_tables\n"
     ]
    },
    {
     "name": "stdout",
     "output_type": "stream",
     "text": [
      "Column recall attempt: 1\n",
      "\n",
      "### Complete oracle SQL query only and with no explanation, and do not select extra columns that are not explicitly requested in the query. \n",
      "### Oracle SQL tables, with their properties: \n",
      "#\n",
      "# mountain (elevation, name, type, coordinates)\n",
      "# mountainonisland (mountain, island)\n",
      "# geo_mountain (mountain, country, province)\n",
      "# mountainonisland.mountain=mountain.name\n",
      "# geo_mountain.mountain=mountain.name\n",
      "# geo_mountain.country=province.country\n",
      "# geo_mountain.province=province.name\n",
      "\n",
      "#\n",
      "### What are the mountains with altitudes above 8000 meters?\n",
      "SELECT\n",
      "85 What are the mountains with altitudes above 8000 meters? SELECT ```sql SELECT name FROM mountain WHERE elevation > 8000; ``` 158.04638743400574\n",
      "-----\n"
     ]
    },
    {
     "name": "stderr",
     "output_type": "stream",
     "text": [
      "c:\\Users\\Tahsin\\Desktop\\Uni\\COSC\\Directed Studies\\TextToSQL\\experiments\\C3\\..\\..\\functions\\sqldatabase_langchain_utils.py:98: SAWarning: Cannot correctly sort tables; there are unresolvable cycles between tables \"mondial_gpt.lake, mondial_gpt.river\", which is usually caused by mutually dependent foreign key constraints.  Foreign key constraints involving these tables will not be considered; this warning may raise an error in a future release.\n",
      "  return self.db._metadata.sorted_tables\n"
     ]
    },
    {
     "name": "stdout",
     "output_type": "stream",
     "text": [
      "list error\n",
      "list error\n"
     ]
    },
    {
     "name": "stderr",
     "output_type": "stream",
     "text": [
      "c:\\Users\\Tahsin\\Desktop\\Uni\\COSC\\Directed Studies\\TextToSQL\\experiments\\C3\\..\\..\\functions\\sqldatabase_langchain_utils.py:98: SAWarning: Cannot correctly sort tables; there are unresolvable cycles between tables \"mondial_gpt.lake, mondial_gpt.river\", which is usually caused by mutually dependent foreign key constraints.  Foreign key constraints involving these tables will not be considered; this warning may raise an error in a future release.\n",
      "  return self.db._metadata.sorted_tables\n"
     ]
    },
    {
     "name": "stdout",
     "output_type": "stream",
     "text": [
      "Column recall attempt: 1\n",
      "\n",
      "### Complete oracle SQL query only and with no explanation, and do not select extra columns that are not explicitly requested in the query. \n",
      "### Oracle SQL tables, with their properties: \n",
      "#\n",
      "# country (name, code, capital, province, area)\n",
      "# city (name, country, population, province)\n",
      "# airport (name, city, country, iatacode, province)\n",
      "# city.country=country.code\n",
      "# city.province=province.name\n",
      "# city.country=country.code\n",
      "# city.province=province.name\n",
      "# airport.country=city.country\n",
      "# airport.city=city.name\n",
      "# airport.province=province.name\n",
      "\n",
      "#\n",
      "### What are the 3 airports with the largest name?\n",
      "SELECT\n",
      "86 What are the 3 airports with the largest name? SELECT ```sql SELECT name FROM airport ORDER BY LENGTH(name) DESC FETCH FIRST 3 ROWS ONLY; ``` 29.022914171218872\n",
      "-----\n"
     ]
    },
    {
     "name": "stderr",
     "output_type": "stream",
     "text": [
      "c:\\Users\\Tahsin\\Desktop\\Uni\\COSC\\Directed Studies\\TextToSQL\\experiments\\C3\\..\\..\\functions\\sqldatabase_langchain_utils.py:98: SAWarning: Cannot correctly sort tables; there are unresolvable cycles between tables \"mondial_gpt.lake, mondial_gpt.river\", which is usually caused by mutually dependent foreign key constraints.  Foreign key constraints involving these tables will not be considered; this warning may raise an error in a future release.\n",
      "  return self.db._metadata.sorted_tables\n",
      "c:\\Users\\Tahsin\\Desktop\\Uni\\COSC\\Directed Studies\\TextToSQL\\experiments\\C3\\..\\..\\functions\\sqldatabase_langchain_utils.py:98: SAWarning: Cannot correctly sort tables; there are unresolvable cycles between tables \"mondial_gpt.lake, mondial_gpt.river\", which is usually caused by mutually dependent foreign key constraints.  Foreign key constraints involving these tables will not be considered; this warning may raise an error in a future release.\n",
      "  return self.db._metadata.sorted_tables\n"
     ]
    },
    {
     "name": "stdout",
     "output_type": "stream",
     "text": [
      "Column recall attempt: 1\n",
      "\n",
      "### Complete oracle SQL query only and with no explanation, and do not select extra columns that are not explicitly requested in the query. \n",
      "### Oracle SQL tables, with their properties: \n",
      "#\n",
      "# lake (area, name, river, elevation, coordinates)\n",
      "# province (area, name, country, population)\n",
      "# city (population, name, country, province, latitude)\n",
      "# geo_lake (lake, country, province)\n",
      "# lake.river=river.name\n",
      "# lake.river=river.name\n",
      "# province.country=country.code\n",
      "# province.country=country.code\n",
      "# city.country=country.code\n",
      "# city.province=province.name\n",
      "# geo_lake.lake=lake.name\n",
      "# geo_lake.country=country.code\n",
      "# geo_lake.province=province.name\n",
      "# city.country=country.code\n",
      "# city.province=province.name\n",
      "\n",
      "#\n",
      "### List lakes with an area of less than 5000 square kilometers.\n",
      "SELECT\n",
      "87 List lakes with an area of less than 5000 square kilometers. SELECT ```sql SELECT name FROM lake WHERE area < 5000; ``` 8.589562177658081\n",
      "-----\n"
     ]
    },
    {
     "name": "stderr",
     "output_type": "stream",
     "text": [
      "c:\\Users\\Tahsin\\Desktop\\Uni\\COSC\\Directed Studies\\TextToSQL\\experiments\\C3\\..\\..\\functions\\sqldatabase_langchain_utils.py:98: SAWarning: Cannot correctly sort tables; there are unresolvable cycles between tables \"mondial_gpt.lake, mondial_gpt.river\", which is usually caused by mutually dependent foreign key constraints.  Foreign key constraints involving these tables will not be considered; this warning may raise an error in a future release.\n",
      "  return self.db._metadata.sorted_tables\n"
     ]
    },
    {
     "name": "stdout",
     "output_type": "stream",
     "text": [
      "list error\n",
      "list error\n"
     ]
    },
    {
     "name": "stderr",
     "output_type": "stream",
     "text": [
      "c:\\Users\\Tahsin\\Desktop\\Uni\\COSC\\Directed Studies\\TextToSQL\\experiments\\C3\\..\\..\\functions\\sqldatabase_langchain_utils.py:98: SAWarning: Cannot correctly sort tables; there are unresolvable cycles between tables \"mondial_gpt.lake, mondial_gpt.river\", which is usually caused by mutually dependent foreign key constraints.  Foreign key constraints involving these tables will not be considered; this warning may raise an error in a future release.\n",
      "  return self.db._metadata.sorted_tables\n"
     ]
    },
    {
     "name": "stdout",
     "output_type": "stream",
     "text": [
      "Column recall attempt: 1\n",
      "\n",
      "### Complete oracle SQL query only and with no explanation, and do not select extra columns that are not explicitly requested in the query. \n",
      "### Oracle SQL tables, with their properties: \n",
      "#\n",
      "# sea (depth, area, name)\n",
      "# geo_sea (sea, country, province)\n",
      "# geo_sea.sea=sea.name\n",
      "# geo_sea.country=country.code\n",
      "# geo_sea.province=province.name\n",
      "\n",
      "#\n",
      "### What is the total area of the seas with a depth greater than 1000 meters?\n",
      "SELECT\n",
      "88 What is the total area of the seas with a depth greater than 1000 meters? SELECT SUM(area) FROM sea WHERE depth > 1000; 72.87279486656189\n",
      "-----\n"
     ]
    },
    {
     "name": "stderr",
     "output_type": "stream",
     "text": [
      "c:\\Users\\Tahsin\\Desktop\\Uni\\COSC\\Directed Studies\\TextToSQL\\experiments\\C3\\..\\..\\functions\\sqldatabase_langchain_utils.py:98: SAWarning: Cannot correctly sort tables; there are unresolvable cycles between tables \"mondial_gpt.lake, mondial_gpt.river\", which is usually caused by mutually dependent foreign key constraints.  Foreign key constraints involving these tables will not be considered; this warning may raise an error in a future release.\n",
      "  return self.db._metadata.sorted_tables\n",
      "c:\\Users\\Tahsin\\Desktop\\Uni\\COSC\\Directed Studies\\TextToSQL\\experiments\\C3\\..\\..\\functions\\sqldatabase_langchain_utils.py:98: SAWarning: Cannot correctly sort tables; there are unresolvable cycles between tables \"mondial_gpt.lake, mondial_gpt.river\", which is usually caused by mutually dependent foreign key constraints.  Foreign key constraints involving these tables will not be considered; this warning may raise an error in a future release.\n",
      "  return self.db._metadata.sorted_tables\n"
     ]
    },
    {
     "name": "stdout",
     "output_type": "stream",
     "text": [
      "Column recall attempt: 1\n",
      "\n",
      "### Complete oracle SQL query only and with no explanation, and do not select extra columns that are not explicitly requested in the query. \n",
      "### Oracle SQL tables, with their properties: \n",
      "#\n",
      "# country (name, population, code, capital)\n",
      "# countrylocalname (country, localname)\n",
      "# countryothername (country, othername)\n",
      "# countrypops (country, year, population)\n",
      "# countrylocalname.country=country.code\n",
      "# countryothername.country=country.code\n",
      "# countrypops.country=country.code\n",
      "\n",
      "#\n",
      "### Find the countries whose name starts with the letter \"B\" and have a population greater than 10 million\n",
      "SELECT\n",
      "89 Find the countries whose name starts with the letter \"B\" and have a population greater than 10 million SELECT name FROM country WHERE name LIKE 'B%' AND population > 10000000; 7.92816424369812\n",
      "-----\n"
     ]
    },
    {
     "name": "stderr",
     "output_type": "stream",
     "text": [
      "c:\\Users\\Tahsin\\Desktop\\Uni\\COSC\\Directed Studies\\TextToSQL\\experiments\\C3\\..\\..\\functions\\sqldatabase_langchain_utils.py:98: SAWarning: Cannot correctly sort tables; there are unresolvable cycles between tables \"mondial_gpt.lake, mondial_gpt.river\", which is usually caused by mutually dependent foreign key constraints.  Foreign key constraints involving these tables will not be considered; this warning may raise an error in a future release.\n",
      "  return self.db._metadata.sorted_tables\n",
      "c:\\Users\\Tahsin\\Desktop\\Uni\\COSC\\Directed Studies\\TextToSQL\\experiments\\C3\\..\\..\\functions\\sqldatabase_langchain_utils.py:98: SAWarning: Cannot correctly sort tables; there are unresolvable cycles between tables \"mondial_gpt.lake, mondial_gpt.river\", which is usually caused by mutually dependent foreign key constraints.  Foreign key constraints involving these tables will not be considered; this warning may raise an error in a future release.\n",
      "  return self.db._metadata.sorted_tables\n"
     ]
    },
    {
     "name": "stdout",
     "output_type": "stream",
     "text": [
      "Column recall attempt: 1\n",
      "\n",
      "### Complete oracle SQL query only and with no explanation, and do not select extra columns that are not explicitly requested in the query. \n",
      "### Oracle SQL tables, with their properties: \n",
      "#\n",
      "# country (code, name, capital, province)\n",
      "# city (name, country, province, population)\n",
      "# citylocalname (city, country, province, localname)\n",
      "# cityothername (city, country, province, othername)\n",
      "# city.country=country.code\n",
      "# city.province=province.name\n",
      "# city.country=country.code\n",
      "# city.province=province.name\n",
      "# citylocalname.city=city.name\n",
      "# citylocalname.country=city.country\n",
      "# citylocalname.province=city.province\n",
      "# cityothername.city=city.name\n",
      "# cityothername.country=city.country\n",
      "# cityothername.province=province.name\n",
      "\n",
      "#\n",
      "### List cities with another name in Brazil\n",
      "SELECT\n",
      "90 List cities with another name in Brazil SELECT ```sql SELECT city.name FROM city WHERE city.country = 'BR' INTERSECT SELECT cityothername.city FROM cityothername WHERE cityothername.country = 'BR'; ``` 8.354681968688965\n",
      "-----\n"
     ]
    },
    {
     "name": "stderr",
     "output_type": "stream",
     "text": [
      "c:\\Users\\Tahsin\\Desktop\\Uni\\COSC\\Directed Studies\\TextToSQL\\experiments\\C3\\..\\..\\functions\\sqldatabase_langchain_utils.py:98: SAWarning: Cannot correctly sort tables; there are unresolvable cycles between tables \"mondial_gpt.lake, mondial_gpt.river\", which is usually caused by mutually dependent foreign key constraints.  Foreign key constraints involving these tables will not be considered; this warning may raise an error in a future release.\n",
      "  return self.db._metadata.sorted_tables\n",
      "c:\\Users\\Tahsin\\Desktop\\Uni\\COSC\\Directed Studies\\TextToSQL\\experiments\\C3\\..\\..\\functions\\sqldatabase_langchain_utils.py:98: SAWarning: Cannot correctly sort tables; there are unresolvable cycles between tables \"mondial_gpt.lake, mondial_gpt.river\", which is usually caused by mutually dependent foreign key constraints.  Foreign key constraints involving these tables will not be considered; this warning may raise an error in a future release.\n",
      "  return self.db._metadata.sorted_tables\n"
     ]
    },
    {
     "name": "stdout",
     "output_type": "stream",
     "text": [
      "Column recall attempt: 1\n",
      "\n",
      "### Complete oracle SQL query only and with no explanation, and do not select extra columns that are not explicitly requested in the query. \n",
      "### Oracle SQL tables, with their properties: \n",
      "#\n",
      "# country (code, name, capital, province, area)\n",
      "# province (name, country, population, area)\n",
      "# city (name, country, province, population, latitude)\n",
      "# citylocalname (city, country, province, localname)\n",
      "# province.country=country.code\n",
      "# province.country=country.code\n",
      "# city.country=country.code\n",
      "# city.province=province.name\n",
      "# city.country=country.code\n",
      "# city.province=province.name\n",
      "# citylocalname.city=city.name\n",
      "# citylocalname.country=city.country\n",
      "# citylocalname.province=city.province\n",
      "\n",
      "#\n",
      "### List all cities that are at a latitude greater than 45 degrees.\n",
      "SELECT\n",
      "91 List all cities that are at a latitude greater than 45 degrees. SELECT ```sql SELECT name FROM city WHERE latitude > 45; ``` 10.881407737731934\n",
      "-----\n"
     ]
    },
    {
     "name": "stderr",
     "output_type": "stream",
     "text": [
      "c:\\Users\\Tahsin\\Desktop\\Uni\\COSC\\Directed Studies\\TextToSQL\\experiments\\C3\\..\\..\\functions\\sqldatabase_langchain_utils.py:98: SAWarning: Cannot correctly sort tables; there are unresolvable cycles between tables \"mondial_gpt.lake, mondial_gpt.river\", which is usually caused by mutually dependent foreign key constraints.  Foreign key constraints involving these tables will not be considered; this warning may raise an error in a future release.\n",
      "  return self.db._metadata.sorted_tables\n",
      "c:\\Users\\Tahsin\\Desktop\\Uni\\COSC\\Directed Studies\\TextToSQL\\experiments\\C3\\..\\..\\functions\\sqldatabase_langchain_utils.py:98: SAWarning: Cannot correctly sort tables; there are unresolvable cycles between tables \"mondial_gpt.lake, mondial_gpt.river\", which is usually caused by mutually dependent foreign key constraints.  Foreign key constraints involving these tables will not be considered; this warning may raise an error in a future release.\n",
      "  return self.db._metadata.sorted_tables\n"
     ]
    },
    {
     "name": "stdout",
     "output_type": "stream",
     "text": [
      "Column recall attempt: 1\n",
      "\n",
      "### Complete oracle SQL query only and with no explanation, and do not select extra columns that are not explicitly requested in the query. \n",
      "### Oracle SQL tables, with their properties: \n",
      "#\n",
      "# country (code, name, area, population, capital)\n",
      "# city (name, country, province, population)\n",
      "# cityothername (city, country, province, othername)\n",
      "# city.country=country.code\n",
      "# city.province=province.name\n",
      "# city.country=country.code\n",
      "# city.province=province.name\n",
      "# cityothername.city=city.name\n",
      "# cityothername.country=city.country\n",
      "# cityothername.province=province.name\n",
      "\n",
      "#\n",
      "### Show the number of cities with another name in countries with an area greater than 30000\n",
      "SELECT\n",
      "92 Show the number of cities with another name in countries with an area greater than 30000 SELECT ```sql SELECT COUNT(DISTINCT city) FROM cityothername WHERE country IN (SELECT code FROM country WHERE area > 30000); ``` 14.776912689208984\n",
      "-----\n"
     ]
    },
    {
     "name": "stderr",
     "output_type": "stream",
     "text": [
      "c:\\Users\\Tahsin\\Desktop\\Uni\\COSC\\Directed Studies\\TextToSQL\\experiments\\C3\\..\\..\\functions\\sqldatabase_langchain_utils.py:98: SAWarning: Cannot correctly sort tables; there are unresolvable cycles between tables \"mondial_gpt.lake, mondial_gpt.river\", which is usually caused by mutually dependent foreign key constraints.  Foreign key constraints involving these tables will not be considered; this warning may raise an error in a future release.\n",
      "  return self.db._metadata.sorted_tables\n",
      "c:\\Users\\Tahsin\\Desktop\\Uni\\COSC\\Directed Studies\\TextToSQL\\experiments\\C3\\..\\..\\functions\\sqldatabase_langchain_utils.py:98: SAWarning: Cannot correctly sort tables; there are unresolvable cycles between tables \"mondial_gpt.lake, mondial_gpt.river\", which is usually caused by mutually dependent foreign key constraints.  Foreign key constraints involving these tables will not be considered; this warning may raise an error in a future release.\n",
      "  return self.db._metadata.sorted_tables\n"
     ]
    },
    {
     "name": "stdout",
     "output_type": "stream",
     "text": [
      "Column recall attempt: 1\n",
      "\n",
      "### Complete oracle SQL query only and with no explanation, and do not select extra columns that are not explicitly requested in the query. \n",
      "### Oracle SQL tables, with their properties: \n",
      "#\n",
      "# desert (area, name, coordinates)\n",
      "# geo_desert (desert, country, province)\n",
      "# geo_desert.desert=desert.name\n",
      "# geo_desert.country=country.code\n",
      "# geo_desert.province=province.name\n",
      "\n",
      "#\n",
      "### Show the deserts with area greater than 10000\n",
      "SELECT\n",
      "93 Show the deserts with area greater than 10000 SELECT ```sql SELECT name FROM desert WHERE area > 10000; ``` 7.706506967544556\n",
      "-----\n"
     ]
    },
    {
     "name": "stderr",
     "output_type": "stream",
     "text": [
      "c:\\Users\\Tahsin\\Desktop\\Uni\\COSC\\Directed Studies\\TextToSQL\\experiments\\C3\\..\\..\\functions\\sqldatabase_langchain_utils.py:98: SAWarning: Cannot correctly sort tables; there are unresolvable cycles between tables \"mondial_gpt.lake, mondial_gpt.river\", which is usually caused by mutually dependent foreign key constraints.  Foreign key constraints involving these tables will not be considered; this warning may raise an error in a future release.\n",
      "  return self.db._metadata.sorted_tables\n",
      "c:\\Users\\Tahsin\\Desktop\\Uni\\COSC\\Directed Studies\\TextToSQL\\experiments\\C3\\..\\..\\functions\\sqldatabase_langchain_utils.py:98: SAWarning: Cannot correctly sort tables; there are unresolvable cycles between tables \"mondial_gpt.lake, mondial_gpt.river\", which is usually caused by mutually dependent foreign key constraints.  Foreign key constraints involving these tables will not be considered; this warning may raise an error in a future release.\n",
      "  return self.db._metadata.sorted_tables\n"
     ]
    },
    {
     "name": "stdout",
     "output_type": "stream",
     "text": [
      "Column recall attempt: 1\n",
      "\n",
      "### Complete oracle SQL query only and with no explanation, and do not select extra columns that are not explicitly requested in the query. \n",
      "### Oracle SQL tables, with their properties: \n",
      "#\n",
      "# island (name, elevation, area, coordinates, islands)\n",
      "# lake (name, elevation, area, coordinates, river)\n",
      "# lakeonisland (lake, island)\n",
      "# lake.river=river.name\n",
      "# lake.river=river.name\n",
      "# lakeonisland.lake=lake.name\n",
      "\n",
      "#\n",
      "### List the islands that belong to a lake with an elevation greater than 100\n",
      "SELECT\n",
      "94 List the islands that belong to a lake with an elevation greater than 100 SELECT ```sql SELECT island.name FROM island JOIN lakeonisland ON island.name = lakeonisland.island JOIN lake ON lake.name = lakeonisland.lake WHERE lake.elevation > 100; ``` 9.721338987350464\n",
      "-----\n"
     ]
    },
    {
     "name": "stderr",
     "output_type": "stream",
     "text": [
      "c:\\Users\\Tahsin\\Desktop\\Uni\\COSC\\Directed Studies\\TextToSQL\\experiments\\C3\\..\\..\\functions\\sqldatabase_langchain_utils.py:98: SAWarning: Cannot correctly sort tables; there are unresolvable cycles between tables \"mondial_gpt.lake, mondial_gpt.river\", which is usually caused by mutually dependent foreign key constraints.  Foreign key constraints involving these tables will not be considered; this warning may raise an error in a future release.\n",
      "  return self.db._metadata.sorted_tables\n"
     ]
    },
    {
     "name": "stdout",
     "output_type": "stream",
     "text": [
      "list error\n",
      "list error\n",
      "list error\n",
      "list error\n",
      "list error\n"
     ]
    },
    {
     "name": "stderr",
     "output_type": "stream",
     "text": [
      "c:\\Users\\Tahsin\\Desktop\\Uni\\COSC\\Directed Studies\\TextToSQL\\experiments\\C3\\..\\..\\functions\\sqldatabase_langchain_utils.py:98: SAWarning: Cannot correctly sort tables; there are unresolvable cycles between tables \"mondial_gpt.lake, mondial_gpt.river\", which is usually caused by mutually dependent foreign key constraints.  Foreign key constraints involving these tables will not be considered; this warning may raise an error in a future release.\n",
      "  return self.db._metadata.sorted_tables\n"
     ]
    },
    {
     "name": "stdout",
     "output_type": "stream",
     "text": [
      "Column recall attempt: 1\n",
      "\n",
      "### Complete oracle SQL query only and with no explanation, and do not select extra columns that are not explicitly requested in the query. \n",
      "### Oracle SQL tables, with their properties: \n",
      "#\n",
      "# island (area, name, islands, coordinates, elevation)\n",
      "# mountain (name, elevation, coordinates, type, mountains)\n",
      "\n",
      "#\n",
      "### List all mountains located on islands with an area greater than 100,000 square kilometers\n",
      "SELECT\n",
      "95 List all mountains located on islands with an area greater than 100,000 square kilometers SELECT name FROM mountain WHERE name IN (SELECT name FROM island WHERE area > 100000); 53.569358348846436\n",
      "-----\n"
     ]
    },
    {
     "name": "stderr",
     "output_type": "stream",
     "text": [
      "c:\\Users\\Tahsin\\Desktop\\Uni\\COSC\\Directed Studies\\TextToSQL\\experiments\\C3\\..\\..\\functions\\sqldatabase_langchain_utils.py:98: SAWarning: Cannot correctly sort tables; there are unresolvable cycles between tables \"mondial_gpt.lake, mondial_gpt.river\", which is usually caused by mutually dependent foreign key constraints.  Foreign key constraints involving these tables will not be considered; this warning may raise an error in a future release.\n",
      "  return self.db._metadata.sorted_tables\n"
     ]
    },
    {
     "name": "stdout",
     "output_type": "stream",
     "text": [
      "list error\n",
      "list error\n"
     ]
    },
    {
     "name": "stderr",
     "output_type": "stream",
     "text": [
      "c:\\Users\\Tahsin\\Desktop\\Uni\\COSC\\Directed Studies\\TextToSQL\\experiments\\C3\\..\\..\\functions\\sqldatabase_langchain_utils.py:98: SAWarning: Cannot correctly sort tables; there are unresolvable cycles between tables \"mondial_gpt.lake, mondial_gpt.river\", which is usually caused by mutually dependent foreign key constraints.  Foreign key constraints involving these tables will not be considered; this warning may raise an error in a future release.\n",
      "  return self.db._metadata.sorted_tables\n"
     ]
    },
    {
     "name": "stdout",
     "output_type": "stream",
     "text": [
      "Column recall attempt: 1\n",
      "\n",
      "### Complete oracle SQL query only and with no explanation, and do not select extra columns that are not explicitly requested in the query. \n",
      "### Oracle SQL tables, with their properties: \n",
      "#\n",
      "# country (code, name, area, population, capital)\n",
      "# province (name, country, area, population)\n",
      "# province.country=country.code\n",
      "# province.country=country.code\n",
      "\n",
      "#\n",
      "### List the countries and the sum of their provincial areas.\n",
      "SELECT\n",
      "96 List the countries and the sum of their provincial areas. SELECT ```sql SELECT country.name, SUM(province.area) as total_provincial_area FROM country JOIN province ON province.country = country.code GROUP BY country.name; ``` 26.790727376937866\n",
      "-----\n"
     ]
    },
    {
     "name": "stderr",
     "output_type": "stream",
     "text": [
      "c:\\Users\\Tahsin\\Desktop\\Uni\\COSC\\Directed Studies\\TextToSQL\\experiments\\C3\\..\\..\\functions\\sqldatabase_langchain_utils.py:98: SAWarning: Cannot correctly sort tables; there are unresolvable cycles between tables \"mondial_gpt.lake, mondial_gpt.river\", which is usually caused by mutually dependent foreign key constraints.  Foreign key constraints involving these tables will not be considered; this warning may raise an error in a future release.\n",
      "  return self.db._metadata.sorted_tables\n",
      "c:\\Users\\Tahsin\\Desktop\\Uni\\COSC\\Directed Studies\\TextToSQL\\experiments\\C3\\..\\..\\functions\\sqldatabase_langchain_utils.py:98: SAWarning: Cannot correctly sort tables; there are unresolvable cycles between tables \"mondial_gpt.lake, mondial_gpt.river\", which is usually caused by mutually dependent foreign key constraints.  Foreign key constraints involving these tables will not be considered; this warning may raise an error in a future release.\n",
      "  return self.db._metadata.sorted_tables\n"
     ]
    },
    {
     "name": "stdout",
     "output_type": "stream",
     "text": [
      "Column recall attempt: 1\n",
      "\n",
      "### Complete oracle SQL query only and with no explanation, and do not select extra columns that are not explicitly requested in the query. \n",
      "### Oracle SQL tables, with their properties: \n",
      "#\n",
      "# country (name, code, capital, province, population)\n",
      "# province (name, country, population, area, capital)\n",
      "# city (name, country, population, province, elevation)\n",
      "# province.country=country.code\n",
      "# province.country=country.code\n",
      "# city.country=country.code\n",
      "# city.province=province.name\n",
      "# city.country=country.code\n",
      "# city.province=province.name\n",
      "\n",
      "#\n",
      "### Show the name of the countries, the average elevation and sum of the population of their cities\n",
      "SELECT\n",
      "97 Show the name of the countries, the average elevation and sum of the population of their cities SELECT ```sql SELECT country.name, AVG(city.elevation) as avg_elevation, SUM(city.population) as total_city_population FROM country JOIN city ON country.code = city.country GROUP BY country.name; ``` 8.986118078231812\n",
      "-----\n"
     ]
    },
    {
     "name": "stderr",
     "output_type": "stream",
     "text": [
      "c:\\Users\\Tahsin\\Desktop\\Uni\\COSC\\Directed Studies\\TextToSQL\\experiments\\C3\\..\\..\\functions\\sqldatabase_langchain_utils.py:98: SAWarning: Cannot correctly sort tables; there are unresolvable cycles between tables \"mondial_gpt.lake, mondial_gpt.river\", which is usually caused by mutually dependent foreign key constraints.  Foreign key constraints involving these tables will not be considered; this warning may raise an error in a future release.\n",
      "  return self.db._metadata.sorted_tables\n",
      "c:\\Users\\Tahsin\\Desktop\\Uni\\COSC\\Directed Studies\\TextToSQL\\experiments\\C3\\..\\..\\functions\\sqldatabase_langchain_utils.py:98: SAWarning: Cannot correctly sort tables; there are unresolvable cycles between tables \"mondial_gpt.lake, mondial_gpt.river\", which is usually caused by mutually dependent foreign key constraints.  Foreign key constraints involving these tables will not be considered; this warning may raise an error in a future release.\n",
      "  return self.db._metadata.sorted_tables\n"
     ]
    },
    {
     "name": "stdout",
     "output_type": "stream",
     "text": [
      "Column recall attempt: 1\n",
      "\n",
      "### Complete oracle SQL query only and with no explanation, and do not select extra columns that are not explicitly requested in the query. \n",
      "### Oracle SQL tables, with their properties: \n",
      "#\n",
      "# country (code, name, capital, province, population)\n",
      "# countrylocalname (country, localname)\n",
      "# countryothername (country, othername)\n",
      "# economy (country, gdp, agriculture, inflation, service)\n",
      "# countrylocalname.country=country.code\n",
      "# countryothername.country=country.code\n",
      "# economy.country=country.code\n",
      "\n",
      "#\n",
      "### What was Germany's inflation?\n",
      "SELECT\n",
      "98 What was Germany's inflation? SELECT ```sql SELECT inflation FROM economy WHERE country = 'Germany'; ``` 8.446097135543823\n",
      "-----\n"
     ]
    },
    {
     "name": "stderr",
     "output_type": "stream",
     "text": [
      "c:\\Users\\Tahsin\\Desktop\\Uni\\COSC\\Directed Studies\\TextToSQL\\experiments\\C3\\..\\..\\functions\\sqldatabase_langchain_utils.py:98: SAWarning: Cannot correctly sort tables; there are unresolvable cycles between tables \"mondial_gpt.lake, mondial_gpt.river\", which is usually caused by mutually dependent foreign key constraints.  Foreign key constraints involving these tables will not be considered; this warning may raise an error in a future release.\n",
      "  return self.db._metadata.sorted_tables\n",
      "c:\\Users\\Tahsin\\Desktop\\Uni\\COSC\\Directed Studies\\TextToSQL\\experiments\\C3\\..\\..\\functions\\sqldatabase_langchain_utils.py:98: SAWarning: Cannot correctly sort tables; there are unresolvable cycles between tables \"mondial_gpt.lake, mondial_gpt.river\", which is usually caused by mutually dependent foreign key constraints.  Foreign key constraints involving these tables will not be considered; this warning may raise an error in a future release.\n",
      "  return self.db._metadata.sorted_tables\n"
     ]
    },
    {
     "name": "stdout",
     "output_type": "stream",
     "text": [
      "Column recall attempt: 1\n",
      "\n",
      "### Complete oracle SQL query only and with no explanation, and do not select extra columns that are not explicitly requested in the query. \n",
      "### Oracle SQL tables, with their properties: \n",
      "#\n",
      "# country (code, name, capital, province)\n",
      "# politics (country, independence, wasdependent, dependent, government)\n",
      "# politics.country=country.code\n",
      "\n",
      "#\n",
      "### What type of government is Iran?\n",
      "SELECT\n",
      "99 What type of government is Iran? SELECT ```sql government FROM politics WHERE country = 'IRN'; ``` 10.009397029876709\n",
      "-----\n"
     ]
    },
    {
     "name": "stderr",
     "output_type": "stream",
     "text": [
      "c:\\Users\\Tahsin\\Desktop\\Uni\\COSC\\Directed Studies\\TextToSQL\\experiments\\C3\\..\\..\\functions\\sqldatabase_langchain_utils.py:98: SAWarning: Cannot correctly sort tables; there are unresolvable cycles between tables \"mondial_gpt.lake, mondial_gpt.river\", which is usually caused by mutually dependent foreign key constraints.  Foreign key constraints involving these tables will not be considered; this warning may raise an error in a future release.\n",
      "  return self.db._metadata.sorted_tables\n",
      "c:\\Users\\Tahsin\\Desktop\\Uni\\COSC\\Directed Studies\\TextToSQL\\experiments\\C3\\..\\..\\functions\\sqldatabase_langchain_utils.py:98: SAWarning: Cannot correctly sort tables; there are unresolvable cycles between tables \"mondial_gpt.lake, mondial_gpt.river\", which is usually caused by mutually dependent foreign key constraints.  Foreign key constraints involving these tables will not be considered; this warning may raise an error in a future release.\n",
      "  return self.db._metadata.sorted_tables\n"
     ]
    },
    {
     "name": "stdout",
     "output_type": "stream",
     "text": [
      "Column recall attempt: 1\n",
      "\n",
      "### Complete oracle SQL query only and with no explanation, and do not select extra columns that are not explicitly requested in the query. \n",
      "### Oracle SQL tables, with their properties: \n",
      "#\n",
      "# country (name, code, capital, province, area)\n",
      "# economy (country, gdp, agriculture, industry, service)\n",
      "# economy.country=country.code\n",
      "\n",
      "#\n",
      "### What is the percentage of industries in relation to Japan's economy?\n",
      "SELECT\n",
      "100 What is the percentage of industries in relation to Japan's economy? SELECT ```sql SELECT (industry / (agriculture + industry + service)) * 100 AS industry_percentage FROM economy WHERE country = 'JPN'; ``` 6.181938648223877\n",
      "-----\n"
     ]
    },
    {
     "ename": "",
     "evalue": "",
     "output_type": "error",
     "traceback": [
      "\u001b[1;31mThe Kernel crashed while executing code in the current cell or a previous cell. \n",
      "\u001b[1;31mPlease review the code in the cell(s) to identify a possible cause of the failure. \n",
      "\u001b[1;31mClick <a href='https://aka.ms/vscodeJupyterKernelCrash'>here</a> for more info. \n",
      "\u001b[1;31mView Jupyter <a href='command:jupyter.viewOutput'>log</a> for further details."
     ]
    }
   ],
   "source": [
    "tracking_token(reset=True)\n",
    "errors = []\n",
    "query_index = -1\n",
    "for instance in queries:\n",
    "    query_index +=1\n",
    "    try:\n",
    "        start_time = time.time()\n",
    "        sql = run_c3(instance[\"question\"], db, callback=tracking_token)\n",
    "        end_time = time.time()\n",
    "        instance[\"query_string\"] = sql\n",
    "        instance[\"token_usage\"] = convert_to_dict_tracking_token()\n",
    "        instance['time'] = end_time - start_time\n",
    "        save_queries(queries)\n",
    "        print(instance['id'], instance['question'], instance[\"query_string\"], instance['time'])\n",
    "        print(\"-----\")\n",
    "    except:\n",
    "        print(\"Error\")\n",
    "        errors.append(query_index)\n",
    "        pass\n",
    "    finally:\n",
    "        tracking_token(reset=True)\n",
    "\n",
    "\n"
   ]
  },
  {
   "cell_type": "code",
   "execution_count": null,
   "metadata": {},
   "outputs": [
    {
     "ename": "NameError",
     "evalue": "name 'errors' is not defined",
     "output_type": "error",
     "traceback": [
      "\u001b[1;31m---------------------------------------------------------------------------\u001b[0m",
      "\u001b[1;31mNameError\u001b[0m                                 Traceback (most recent call last)",
      "Cell \u001b[1;32mIn[1], line 1\u001b[0m\n\u001b[1;32m----> 1\u001b[0m \u001b[43merrors\u001b[49m\n",
      "\u001b[1;31mNameError\u001b[0m: name 'errors' is not defined"
     ]
    }
   ],
   "source": []
  },
  {
   "cell_type": "code",
   "execution_count": null,
   "metadata": {},
   "outputs": [],
   "source": [
    "errors"
   ]
  },
  {
   "cell_type": "markdown",
   "metadata": {},
   "source": [
    "#### Fixing query"
   ]
  },
  {
   "cell_type": "code",
   "execution_count": 12,
   "metadata": {},
   "outputs": [
    {
     "name": "stdout",
     "output_type": "stream",
     "text": [
      "Column recall attempt: 1\n",
      "\n",
      "### Complete oracle SQL query only and with no explanation, and do not select extra columns that are not explicitly requested in the query. \n",
      "### Oracle SQL tables, with their properties: \n",
      "#\n",
      "# country (name, code, capital, province)\n",
      "# sea (name, area, depth)\n",
      "# borders (country1, country2, length)\n",
      "# borders.country1=country.code\n",
      "# borders.country2=country.code\n",
      "\n",
      "#\n",
      "### How many countries that are close to the Mediterranean Sea?\n",
      "SELECT\n",
      "41 How many countries that are close to the Mediterranean Sea? SELECT COUNT(DISTINCT country.name) FROM country JOIN borders ON country.code = borders.country1 JOIN sea ON borders.country2 = sea.name WHERE sea.name = 'Mediterranean Sea'; 42.66082406044006\n"
     ]
    }
   ],
   "source": [
    "pos = 40\n",
    "instance = queries[pos]\n",
    "q = read_queries()\n",
    "start_time = time.time()\n",
    "sql = run_c3(instance[\"question\"], db, callback=tracking_token)\n",
    "end_time = time.time()\n",
    "instance[\"query_string\"] = sql\n",
    "instance[\"token_usage\"] = convert_to_dict_tracking_token()\n",
    "instance['time'] = end_time - start_time\n",
    "q[pos] = instance\n",
    "save_queries(q)\n",
    "print(instance['id'], instance['question'], instance[\"query_string\"], instance['time'])\n",
    "\n"
   ]
  },
  {
   "cell_type": "code",
   "execution_count": null,
   "metadata": {},
   "outputs": [],
   "source": [
    "to_fix = [59,62,72,85,99]\n",
    "for pos in to_fix:\n",
    "    instance = queries[pos]\n",
    "    q = read_queries()\n",
    "    start_time = time.time()\n",
    "    sql = run_c3(instance[\"question\"], db, callback=tracking_token)\n",
    "    end_time = time.time()\n",
    "    instance[\"query_string\"] = sql\n",
    "    instance[\"token_usage\"] = convert_to_dict_tracking_token()\n",
    "    instance['time'] = end_time - start_time\n",
    "    q[pos] = instance\n",
    "    save_queries(q)\n",
    "    print(instance['id'], instance['question'], instance[\"query_string\"], instance['time'])"
   ]
  },
  {
   "cell_type": "code",
   "execution_count": 15,
   "metadata": {},
   "outputs": [
    {
     "data": {
      "text/plain": [
       "[{'id': '1',\n",
       "  'question': 'What is the area of Thailand?',\n",
       "  'query_string': \"SELECT area FROM country WHERE name = 'Thailand';\",\n",
       "  'type': 'simple',\n",
       "  'token_usage': {'table_recall': {'total_tokens': 3784,\n",
       "    'total_cost': 0.0072075,\n",
       "    'prompt_tokens': 721,\n",
       "    'completion_tokens': 3063},\n",
       "   'column_recall': {'total_tokens': 5752,\n",
       "    'total_cost': 0.011373499999999998,\n",
       "    'prompt_tokens': 261,\n",
       "    'completion_tokens': 5491},\n",
       "   'sql_generation': {'total_tokens': 798,\n",
       "    'total_cost': 0.001329,\n",
       "    'prompt_tokens': 534,\n",
       "    'completion_tokens': 264}}},\n",
       " {'id': '2',\n",
       "  'question': 'What are the provinces with an area greater than 10000?',\n",
       "  'query_string': 'SELECT province.name FROM province WHERE province.area > 10000;',\n",
       "  'type': 'simple',\n",
       "  'token_usage': {'table_recall': {'total_tokens': 2289,\n",
       "    'total_cost': 0.0042144999999999995,\n",
       "    'prompt_tokens': 727,\n",
       "    'completion_tokens': 1562},\n",
       "   'column_recall': {'total_tokens': 4013,\n",
       "    'total_cost': 0.0079085,\n",
       "    'prompt_tokens': 235,\n",
       "    'completion_tokens': 3778},\n",
       "   'sql_generation': {'total_tokens': 796,\n",
       "    'total_cost': 0.0013340000000000001,\n",
       "    'prompt_tokens': 516,\n",
       "    'completion_tokens': 280}}},\n",
       " {'id': '3',\n",
       "  'question': 'What are the languages spoken in Poland?',\n",
       "  'query_string': \"SELECT language.name FROM language WHERE language.country = 'Poland';\",\n",
       "  'type': 'medium',\n",
       "  'token_usage': {'table_recall': {'total_tokens': 2909,\n",
       "    'total_cost': 0.005456999999999999,\n",
       "    'prompt_tokens': 722,\n",
       "    'completion_tokens': 2187},\n",
       "   'column_recall': {'total_tokens': 5012,\n",
       "    'total_cost': 0.009894,\n",
       "    'prompt_tokens': 260,\n",
       "    'completion_tokens': 4752},\n",
       "   'sql_generation': {'total_tokens': 894,\n",
       "    'total_cost': 0.0015165,\n",
       "    'prompt_tokens': 543,\n",
       "    'completion_tokens': 351}}},\n",
       " {'id': '4',\n",
       "  'question': 'How deep is Lake Kariba?',\n",
       "  'query_string': \"SELECT depth FROM lake WHERE name = 'Lake Kariba';\",\n",
       "  'type': 'simple',\n",
       "  'token_usage': {'table_recall': {'total_tokens': 4576,\n",
       "    'total_cost': 0.0087915,\n",
       "    'prompt_tokens': 721,\n",
       "    'completion_tokens': 3855},\n",
       "   'column_recall': {'total_tokens': 5496,\n",
       "    'total_cost': 0.0108415,\n",
       "    'prompt_tokens': 301,\n",
       "    'completion_tokens': 5195},\n",
       "   'sql_generation': {'total_tokens': 838,\n",
       "    'total_cost': 0.001386,\n",
       "    'prompt_tokens': 580,\n",
       "    'completion_tokens': 258}}},\n",
       " {'id': '5',\n",
       "  'question': 'What is the total of provinces of Netherlands?',\n",
       "  'query_string': \"SELECT COUNT(*) FROM province WHERE country = 'Netherlands';\",\n",
       "  'type': 'medium',\n",
       "  'token_usage': {'table_recall': {'total_tokens': 2092,\n",
       "    'total_cost': 0.0038225,\n",
       "    'prompt_tokens': 723,\n",
       "    'completion_tokens': 1369},\n",
       "   'column_recall': {'total_tokens': 4254,\n",
       "    'total_cost': 0.008392499999999999,\n",
       "    'prompt_tokens': 231,\n",
       "    'completion_tokens': 4023},\n",
       "   'sql_generation': {'total_tokens': 751,\n",
       "    'total_cost': 0.001248,\n",
       "    'prompt_tokens': 508,\n",
       "    'completion_tokens': 243}}},\n",
       " {'id': '6',\n",
       "  'question': 'What is the percentage of religious people are hindu in thailand?',\n",
       "  'query_string': \"SELECT religion.percentage FROM religion WHERE religion.name = 'hindu' AND religion.country = 'thailand';\",\n",
       "  'type': 'medium',\n",
       "  'token_usage': {'table_recall': {'total_tokens': 1991,\n",
       "    'total_cost': 0.003618,\n",
       "    'prompt_tokens': 728,\n",
       "    'completion_tokens': 1263},\n",
       "   'column_recall': {'total_tokens': 2949,\n",
       "    'total_cost': 0.005784000000000001,\n",
       "    'prompt_tokens': 228,\n",
       "    'completion_tokens': 2721},\n",
       "   'sql_generation': {'total_tokens': 1032,\n",
       "    'total_cost': 0.0018075,\n",
       "    'prompt_tokens': 513,\n",
       "    'completion_tokens': 519}}},\n",
       " {'id': '7',\n",
       "  'question': 'List the number of provinces each river flows through.',\n",
       "  'query_string': 'SELECT river, COUNT(DISTINCT province) AS num_provinces FROM river JOIN riverthrough ON river.river = riverthrough.river JOIN province ON riverthrough.lake = province.name GROUP BY river;',\n",
       "  'type': 'complex',\n",
       "  'token_usage': {'table_recall': {'total_tokens': 2291,\n",
       "    'total_cost': 0.00422,\n",
       "    'prompt_tokens': 724,\n",
       "    'completion_tokens': 1567},\n",
       "   'column_recall': {'total_tokens': 5330,\n",
       "    'total_cost': 0.010515,\n",
       "    'prompt_tokens': 290,\n",
       "    'completion_tokens': 5040},\n",
       "   'sql_generation': {'total_tokens': 1201,\n",
       "    'total_cost': 0.0021255000000000002,\n",
       "    'prompt_tokens': 553,\n",
       "    'completion_tokens': 648}}},\n",
       " {'id': '8',\n",
       "  'question': 'Find all countries that became independent between 8/1/1910 and 8/1/1950.',\n",
       "  'query_string': \"SELECT country.name FROM country JOIN politics ON country.code = politics.country WHERE politics.independence >= TO_DATE('8/1/1910', 'MM/DD/YYYY') AND politics.independence <= TO_DATE('8/1/1950', 'MM/DD/YYYY');\",\n",
       "  'type': 'medium',\n",
       "  'token_usage': {'table_recall': {'total_tokens': 2292,\n",
       "    'total_cost': 0.0042155,\n",
       "    'prompt_tokens': 737,\n",
       "    'completion_tokens': 1555},\n",
       "   'column_recall': {'total_tokens': 4114,\n",
       "    'total_cost': 0.008107,\n",
       "    'prompt_tokens': 242,\n",
       "    'completion_tokens': 3872},\n",
       "   'sql_generation': {'total_tokens': 1430,\n",
       "    'total_cost': 0.0025985,\n",
       "    'prompt_tokens': 523,\n",
       "    'completion_tokens': 907}}},\n",
       " {'id': '9',\n",
       "  'question': 'What are the cities of Cuba?',\n",
       "  'query_string': \"SELECT city.name FROM city WHERE city.country = 'Cuba';\",\n",
       "  'type': 'medium',\n",
       "  'token_usage': {'table_recall': {'total_tokens': 2393,\n",
       "    'total_cost': 0.0044255,\n",
       "    'prompt_tokens': 721,\n",
       "    'completion_tokens': 1672},\n",
       "   'column_recall': {'total_tokens': 6308,\n",
       "    'total_cost': 0.0124645,\n",
       "    'prompt_tokens': 303,\n",
       "    'completion_tokens': 6005},\n",
       "   'sql_generation': {'total_tokens': 870,\n",
       "    'total_cost': 0.001452,\n",
       "    'prompt_tokens': 576,\n",
       "    'completion_tokens': 294}}},\n",
       " {'id': '10',\n",
       "  'question': 'What is the capital of Georgia?',\n",
       "  'query_string': \"SELECT capital FROM country WHERE name = 'Georgia';\",\n",
       "  'type': 'simple',\n",
       "  'token_usage': {'table_recall': {'total_tokens': 2110,\n",
       "    'total_cost': 0.0038595,\n",
       "    'prompt_tokens': 721,\n",
       "    'completion_tokens': 1389},\n",
       "   'column_recall': {'total_tokens': 6014,\n",
       "    'total_cost': 0.011876500000000002,\n",
       "    'prompt_tokens': 303,\n",
       "    'completion_tokens': 5711},\n",
       "   'sql_generation': {'total_tokens': 824,\n",
       "    'total_cost': 0.00136,\n",
       "    'prompt_tokens': 576,\n",
       "    'completion_tokens': 248}}},\n",
       " {'id': '11',\n",
       "  'question': 'How many provinces have areas greater than 1000 in Niger?',\n",
       "  'query_string': \"SELECT COUNT(*) FROM province WHERE area > 1000 AND country = 'Niger';\",\n",
       "  'type': 'medium',\n",
       "  'token_usage': {'table_recall': {'total_tokens': 1839,\n",
       "    'total_cost': 0.0033145,\n",
       "    'prompt_tokens': 727,\n",
       "    'completion_tokens': 1112},\n",
       "   'column_recall': {'total_tokens': 3933,\n",
       "    'total_cost': 0.0077485,\n",
       "    'prompt_tokens': 235,\n",
       "    'completion_tokens': 3698},\n",
       "   'sql_generation': {'total_tokens': 919,\n",
       "    'total_cost': 0.001581,\n",
       "    'prompt_tokens': 514,\n",
       "    'completion_tokens': 405}}},\n",
       " {'id': '12',\n",
       "  'question': 'Tell me about the country with the area largest.',\n",
       "  'query_string': 'SELECT country.name FROM country WHERE country.area = (SELECT MAX(area) FROM country);',\n",
       "  'type': 'medium',\n",
       "  'token_usage': {'table_recall': {'total_tokens': 3827,\n",
       "    'total_cost': 0.007292000000000001,\n",
       "    'prompt_tokens': 724,\n",
       "    'completion_tokens': 3103},\n",
       "   'column_recall': {'total_tokens': 5424,\n",
       "    'total_cost': 0.01073,\n",
       "    'prompt_tokens': 236,\n",
       "    'completion_tokens': 5188},\n",
       "   'sql_generation': {'total_tokens': 878,\n",
       "    'total_cost': 0.001495,\n",
       "    'prompt_tokens': 522,\n",
       "    'completion_tokens': 356}}},\n",
       " {'id': '13',\n",
       "  'question': 'What is the host province and year of establishment of the organization \"International Energy Agency\"?',\n",
       "  'query_string': \"SELECT province.name, organization.established FROM organization JOIN province ON organization.province = province.name WHERE organization.name = 'International Energy Agency';\",\n",
       "  'type': 'simple',\n",
       "  'token_usage': {'table_recall': {'total_tokens': 1756,\n",
       "    'total_cost': 0.003146,\n",
       "    'prompt_tokens': 732,\n",
       "    'completion_tokens': 1024},\n",
       "   'column_recall': {'total_tokens': 4269,\n",
       "    'total_cost': 0.008407,\n",
       "    'prompt_tokens': 262,\n",
       "    'completion_tokens': 4007},\n",
       "   'sql_generation': {'total_tokens': 1145,\n",
       "    'total_cost': 0.0020175,\n",
       "    'prompt_tokens': 545,\n",
       "    'completion_tokens': 600}}},\n",
       " {'id': '14',\n",
       "  'question': 'Find the name of all mountains whose elevation is higher than 1000.',\n",
       "  'query_string': 'SELECT name FROM mountain WHERE elevation > 1000;',\n",
       "  'type': 'simple',\n",
       "  'token_usage': {'table_recall': {'total_tokens': 5533,\n",
       "    'total_cost': 0.010701500000000001,\n",
       "    'prompt_tokens': 729,\n",
       "    'completion_tokens': 4804},\n",
       "   'column_recall': {'total_tokens': 3365,\n",
       "    'total_cost': 0.0066105,\n",
       "    'prompt_tokens': 239,\n",
       "    'completion_tokens': 3126},\n",
       "   'sql_generation': {'total_tokens': 759,\n",
       "    'total_cost': 0.0012555,\n",
       "    'prompt_tokens': 525,\n",
       "    'completion_tokens': 234}}},\n",
       " {'id': '15',\n",
       "  'question': 'Tell me the economy of the Caribbean Sea.',\n",
       "  'query_string': \"SELECT economy.gdp FROM economy JOIN geo_sea ON economy.country = geo_sea.country JOIN sea ON geo_sea.sea = sea.name WHERE sea.name = 'Caribbean Sea';\",\n",
       "  'type': 'complex',\n",
       "  'token_usage': {'table_recall': {'total_tokens': 3020,\n",
       "    'total_cost': 0.0056784999999999995,\n",
       "    'prompt_tokens': 723,\n",
       "    'completion_tokens': 2297},\n",
       "   'column_recall': {'total_tokens': 6572,\n",
       "    'total_cost': 0.013003500000000001,\n",
       "    'prompt_tokens': 281,\n",
       "    'completion_tokens': 6291},\n",
       "   'sql_generation': {'total_tokens': 1476,\n",
       "    'total_cost': 0.002673,\n",
       "    'prompt_tokens': 558,\n",
       "    'completion_tokens': 918}}},\n",
       " {'id': '16',\n",
       "  'question': 'Shows me cities with longitude between 0 and 6.',\n",
       "  'query_string': 'SELECT city.name FROM city WHERE city.longitude BETWEEN 0 AND 6;',\n",
       "  'type': 'simple',\n",
       "  'token_usage': {'table_recall': {'total_tokens': 4733,\n",
       "    'total_cost': 0.009103,\n",
       "    'prompt_tokens': 726,\n",
       "    'completion_tokens': 4007},\n",
       "   'column_recall': {'total_tokens': 7562,\n",
       "    'total_cost': 0.0149275,\n",
       "    'prompt_tokens': 393,\n",
       "    'completion_tokens': 7169},\n",
       "   'sql_generation': {'total_tokens': 969,\n",
       "    'total_cost': 0.0016090000000000002,\n",
       "    'prompt_tokens': 658,\n",
       "    'completion_tokens': 311}}},\n",
       " {'id': '17',\n",
       "  'question': 'Select cities whose population is greater than 100000, altitude greater than 2500, and the country you belong to has population growth greater than 1.',\n",
       "  'query_string': 'SELECT city.name FROM city JOIN population ON city.country = population.country JOIN country ON city.country = country.code WHERE city.population > 100000 AND city.elevation > 2500 AND population.population_growth > 1;',\n",
       "  'type': 'complex',\n",
       "  'token_usage': {'table_recall': {'total_tokens': 1680,\n",
       "    'total_cost': 0.002987,\n",
       "    'prompt_tokens': 746,\n",
       "    'completion_tokens': 934},\n",
       "   'column_recall': {'total_tokens': 5650,\n",
       "    'total_cost': 0.0111475,\n",
       "    'prompt_tokens': 305,\n",
       "    'completion_tokens': 5345},\n",
       "   'sql_generation': {'total_tokens': 1610,\n",
       "    'total_cost': 0.0029300000000000003,\n",
       "    'prompt_tokens': 580,\n",
       "    'completion_tokens': 1030}}},\n",
       " {'id': '18',\n",
       "  'question': 'Show all the different types of government.',\n",
       "  'query_string': 'SELECT DISTINCT government FROM politics;',\n",
       "  'type': 'simple',\n",
       "  'token_usage': {'table_recall': {'total_tokens': 2653,\n",
       "    'total_cost': 0.004945,\n",
       "    'prompt_tokens': 722,\n",
       "    'completion_tokens': 1931},\n",
       "   'column_recall': {'total_tokens': 4380,\n",
       "    'total_cost': 0.0086385,\n",
       "    'prompt_tokens': 243,\n",
       "    'completion_tokens': 4137},\n",
       "   'sql_generation': {'total_tokens': 653,\n",
       "    'total_cost': 0.001043,\n",
       "    'prompt_tokens': 526,\n",
       "    'completion_tokens': 127}}},\n",
       " {'id': '19',\n",
       "  'question': 'List all provinces in Germany',\n",
       "  'query_string': \"SELECT province.name FROM province JOIN country ON province.country = country.code WHERE country.name = 'Germany';\",\n",
       "  'type': 'medium',\n",
       "  'token_usage': {'table_recall': {'total_tokens': 2986,\n",
       "    'total_cost': 0.005612000000000001,\n",
       "    'prompt_tokens': 720,\n",
       "    'completion_tokens': 2266},\n",
       "   'column_recall': {'total_tokens': 4087,\n",
       "    'total_cost': 0.00806,\n",
       "    'prompt_tokens': 228,\n",
       "    'completion_tokens': 3859},\n",
       "   'sql_generation': {'total_tokens': 931,\n",
       "    'total_cost': 0.0016085000000000001,\n",
       "    'prompt_tokens': 507,\n",
       "    'completion_tokens': 424}}},\n",
       " {'id': '20',\n",
       "  'question': 'What is the percentage of mulatto ethnicity in Brazil?',\n",
       "  'query_string': \"SELECT percentage FROM ethnicgroup WHERE country = 'BRA' AND name = 'Mulatto';\",\n",
       "  'type': 'medium',\n",
       "  'token_usage': {'table_recall': {'total_tokens': 3297,\n",
       "    'total_cost': 0.0062315,\n",
       "    'prompt_tokens': 725,\n",
       "    'completion_tokens': 2572},\n",
       "   'column_recall': {'total_tokens': 4063,\n",
       "    'total_cost': 0.0079935,\n",
       "    'prompt_tokens': 265,\n",
       "    'completion_tokens': 3798},\n",
       "   'sql_generation': {'total_tokens': 1086,\n",
       "    'total_cost': 0.0018970000000000002,\n",
       "    'prompt_tokens': 550,\n",
       "    'completion_tokens': 536}}},\n",
       " {'id': '21',\n",
       "  'question': 'How many cities have populations less than 1000?',\n",
       "  'query_string': 'SELECT COUNT(*) FROM city WHERE population < 1000;',\n",
       "  'type': 'simple',\n",
       "  'token_usage': {'table_recall': {'total_tokens': 1905,\n",
       "    'total_cost': 0.0034475,\n",
       "    'prompt_tokens': 725,\n",
       "    'completion_tokens': 1180},\n",
       "   'column_recall': {'total_tokens': 3459,\n",
       "    'total_cost': 0.0067835000000000005,\n",
       "    'prompt_tokens': 269,\n",
       "    'completion_tokens': 3190},\n",
       "   'sql_generation': {'total_tokens': 774,\n",
       "    'total_cost': 0.001274,\n",
       "    'prompt_tokens': 548,\n",
       "    'completion_tokens': 226}}},\n",
       " {'id': '22',\n",
       "  'question': 'What is the average elevation of airports in America?',\n",
       "  'query_string': \"SELECT AVG(elevation) FROM airport WHERE country = 'America';\",\n",
       "  'type': 'complex',\n",
       "  'token_usage': {'table_recall': {'total_tokens': 2292,\n",
       "    'total_cost': 0.004222,\n",
       "    'prompt_tokens': 724,\n",
       "    'completion_tokens': 1568},\n",
       "   'column_recall': {'total_tokens': 8428,\n",
       "    'total_cost': 0.0166955,\n",
       "    'prompt_tokens': 321,\n",
       "    'completion_tokens': 8107},\n",
       "   'sql_generation': {'total_tokens': 850,\n",
       "    'total_cost': 0.001409,\n",
       "    'prompt_tokens': 582,\n",
       "    'completion_tokens': 268}}},\n",
       " {'id': '23',\n",
       "  'question': 'How many countries are adjacent to (or ecompassed by) the the Caribbean Sea?',\n",
       "  'query_string': \"SELECT COUNT(DISTINCT country) FROM borders WHERE country1 IN (SELECT code FROM country WHERE province = 'Caribbean Sea') OR country2 IN (SELECT code FROM country WHERE province = 'Caribbean Sea') OR country IN (SELECT country FROM encompasses WHERE continent = 'Caribbean Sea');\",\n",
       "  'type': 'medium',\n",
       "  'token_usage': {'table_recall': {'total_tokens': 2649,\n",
       "    'total_cost': 0.004932000000000001,\n",
       "    'prompt_tokens': 732,\n",
       "    'completion_tokens': 1917},\n",
       "   'column_recall': {'total_tokens': 5776,\n",
       "    'total_cost': 0.011413999999999999,\n",
       "    'prompt_tokens': 276,\n",
       "    'completion_tokens': 5500},\n",
       "   'sql_generation': {'total_tokens': 1851,\n",
       "    'total_cost': 0.0034225,\n",
       "    'prompt_tokens': 559,\n",
       "    'completion_tokens': 1292}}},\n",
       " {'id': '24',\n",
       "  'question': 'How much area do the countries that are adjacent to (or encompassed by) the Caribbean Sea cover in total?',\n",
       "  'query_string': \"SELECT SUM(country.area) FROM country JOIN borders ON country.code = borders.country1 JOIN sea ON sea.name = 'Caribbean Sea' WHERE borders.country2 = sea.name UNION SELECT SUM(country.area) FROM country JOIN encompasses ON country.code = encompasses.country JOIN sea ON sea.name = 'Caribbean Sea' WHERE encompasses.continent = sea.name;\",\n",
       "  'type': 'complex',\n",
       "  'token_usage': {'table_recall': {'total_tokens': 3518,\n",
       "    'total_cost': 0.0066675,\n",
       "    'prompt_tokens': 737,\n",
       "    'completion_tokens': 2781},\n",
       "   'column_recall': {'total_tokens': 4931,\n",
       "    'total_cost': 0.009721500000000001,\n",
       "    'prompt_tokens': 281,\n",
       "    'completion_tokens': 4650},\n",
       "   'sql_generation': {'total_tokens': 2098,\n",
       "    'total_cost': 0.003913,\n",
       "    'prompt_tokens': 566,\n",
       "    'completion_tokens': 1532}}},\n",
       " {'id': '25',\n",
       "  'question': 'For all countries, give the sum of the population of all its neighbors',\n",
       "  'query_string': 'SELECT SUM(c.population) FROM country c JOIN borders b ON c.code = b.country1 GROUP BY c.code;',\n",
       "  'type': 'complex',\n",
       "  'token_usage': {'table_recall': {'total_tokens': 2564,\n",
       "    'total_cost': 0.0047635,\n",
       "    'prompt_tokens': 729,\n",
       "    'completion_tokens': 1835},\n",
       "   'column_recall': {'total_tokens': 3533,\n",
       "    'total_cost': 0.006946000000000001,\n",
       "    'prompt_tokens': 240,\n",
       "    'completion_tokens': 3293},\n",
       "   'sql_generation': {'total_tokens': 1170,\n",
       "    'total_cost': 0.0020775000000000004,\n",
       "    'prompt_tokens': 525,\n",
       "    'completion_tokens': 645}}},\n",
       " {'id': '26',\n",
       "  'question': 'What mountains are on the island of Borneo?',\n",
       "  'query_string': \"SELECT mountain.name FROM mountainonisland JOIN mountain ON mountainonisland.mountain = mountain.name JOIN island ON mountainonisland.island = island.name WHERE island.name = 'Borneo';\",\n",
       "  'type': 'simple',\n",
       "  'token_usage': {'table_recall': {'total_tokens': 3139,\n",
       "    'total_cost': 0.005915500000000001,\n",
       "    'prompt_tokens': 725,\n",
       "    'completion_tokens': 2414},\n",
       "   'column_recall': {'total_tokens': 5194,\n",
       "    'total_cost': 0.0102615,\n",
       "    'prompt_tokens': 253,\n",
       "    'completion_tokens': 4941},\n",
       "   'sql_generation': {'total_tokens': 1371,\n",
       "    'total_cost': 0.002473,\n",
       "    'prompt_tokens': 538,\n",
       "    'completion_tokens': 833}}},\n",
       " {'id': '27',\n",
       "  'question': 'Provide the name and total population of the country with the smallest area.',\n",
       "  'query_string': 'SELECT name, population FROM country WHERE area = (SELECT MIN(area) FROM country);',\n",
       "  'type': 'simple',\n",
       "  'token_usage': {'table_recall': {'total_tokens': 1932,\n",
       "    'total_cost': 0.0035,\n",
       "    'prompt_tokens': 728,\n",
       "    'completion_tokens': 1204},\n",
       "   'column_recall': {'total_tokens': 2687,\n",
       "    'total_cost': 0.005266,\n",
       "    'prompt_tokens': 216,\n",
       "    'completion_tokens': 2471},\n",
       "   'sql_generation': {'total_tokens': 943,\n",
       "    'total_cost': 0.001634,\n",
       "    'prompt_tokens': 504,\n",
       "    'completion_tokens': 439}}},\n",
       " {'id': '28',\n",
       "  'question': 'The codes of all countries for which at least one river that originates in this country has its estuary in a neighboring country.',\n",
       "  'query_string': 'SELECT country.code FROM country INNER JOIN river ON country.code = river.source INNER JOIN borders ON country.code = borders.country1 AND river.estuary = borders.country2;',\n",
       "  'type': 'complex',\n",
       "  'token_usage': {'table_recall': {'total_tokens': 2889,\n",
       "    'total_cost': 0.0054085,\n",
       "    'prompt_tokens': 739,\n",
       "    'completion_tokens': 2150},\n",
       "   'column_recall': {'total_tokens': 5121,\n",
       "    'total_cost': 0.0100935,\n",
       "    'prompt_tokens': 297,\n",
       "    'completion_tokens': 4824},\n",
       "   'sql_generation': {'total_tokens': 1447,\n",
       "    'total_cost': 0.0026125000000000002,\n",
       "    'prompt_tokens': 563,\n",
       "    'completion_tokens': 884}}},\n",
       " {'id': '29',\n",
       "  'question': 'The codes of all countries where at least one mountain is located in each of their provinces',\n",
       "  'query_string': 'SELECT country.code FROM country WHERE EXISTS ( SELECT province.name FROM province WHERE province.country = country.code GROUP BY province.name HAVING COUNT(DISTINCT province.capital) = COUNT(DISTINCT province.name) )',\n",
       "  'type': 'complex',\n",
       "  'token_usage': {'table_recall': {'total_tokens': 3629,\n",
       "    'total_cost': 0.006892,\n",
       "    'prompt_tokens': 732,\n",
       "    'completion_tokens': 2897},\n",
       "   'column_recall': {'total_tokens': 5066,\n",
       "    'total_cost': 0.009989999999999999,\n",
       "    'prompt_tokens': 284,\n",
       "    'completion_tokens': 4782},\n",
       "   'sql_generation': {'total_tokens': 2219,\n",
       "    'total_cost': 0.0041565,\n",
       "    'prompt_tokens': 563,\n",
       "    'completion_tokens': 1656}}},\n",
       " {'id': '30',\n",
       "  'question': 'The code and total border lengths of all countries with at least one border.',\n",
       "  'query_string': 'SELECT country.code, SUM(borders.length) FROM country JOIN borders ON borders.country1 = country.code OR borders.country2 = country.code GROUP BY country.code;',\n",
       "  'type': 'complex',\n",
       "  'token_usage': {'table_recall': {'total_tokens': 2239,\n",
       "    'total_cost': 0.0041135,\n",
       "    'prompt_tokens': 729,\n",
       "    'completion_tokens': 1510},\n",
       "   'column_recall': {'total_tokens': 3718,\n",
       "    'total_cost': 0.0073160000000000005,\n",
       "    'prompt_tokens': 240,\n",
       "    'completion_tokens': 3478},\n",
       "   'sql_generation': {'total_tokens': 1252,\n",
       "    'total_cost': 0.0022425,\n",
       "    'prompt_tokens': 523,\n",
       "    'completion_tokens': 729}}},\n",
       " {'id': '31',\n",
       "  'question': 'The names and codes of all countries in which at least one river originates.',\n",
       "  'query_string': 'SELECT country.name, country.code FROM country INNER JOIN river ON country.code = river.source;',\n",
       "  'type': 'medium',\n",
       "  'token_usage': {'table_recall': {'total_tokens': 2997,\n",
       "    'total_cost': 0.0056295,\n",
       "    'prompt_tokens': 729,\n",
       "    'completion_tokens': 2268},\n",
       "   'column_recall': {'total_tokens': 4824,\n",
       "    'total_cost': 0.009505000000000001,\n",
       "    'prompt_tokens': 286,\n",
       "    'completion_tokens': 4538},\n",
       "   'sql_generation': {'total_tokens': 945,\n",
       "    'total_cost': 0.0016145,\n",
       "    'prompt_tokens': 551,\n",
       "    'completion_tokens': 394}}},\n",
       " {'id': '32',\n",
       "  'question': 'What is the area and country of the Chatanga River?',\n",
       "  'query_string': \"SELECT area, country FROM river WHERE name = 'Chatanga River';\",\n",
       "  'type': 'complex',\n",
       "  'token_usage': {'table_recall': {'total_tokens': 3232,\n",
       "    'total_cost': 0.006101,\n",
       "    'prompt_tokens': 726,\n",
       "    'completion_tokens': 2506},\n",
       "   'column_recall': {'total_tokens': 5604,\n",
       "    'total_cost': 0.0110795,\n",
       "    'prompt_tokens': 257,\n",
       "    'completion_tokens': 5347},\n",
       "   'sql_generation': {'total_tokens': 859,\n",
       "    'total_cost': 0.001456,\n",
       "    'prompt_tokens': 524,\n",
       "    'completion_tokens': 335}}},\n",
       " {'id': '33',\n",
       "  'question': 'Shows me Airports with elevation more than 3000',\n",
       "  'query_string': 'SELECT airport.name FROM airport WHERE airport.elevation > 3000;',\n",
       "  'type': 'simple',\n",
       "  'token_usage': {'table_recall': {'total_tokens': 6507,\n",
       "    'total_cost': 0.012650999999999999,\n",
       "    'prompt_tokens': 726,\n",
       "    'completion_tokens': 5781},\n",
       "   'column_recall': {'total_tokens': 6798,\n",
       "    'total_cost': 0.0134345,\n",
       "    'prompt_tokens': 323,\n",
       "    'completion_tokens': 6475},\n",
       "   'sql_generation': {'total_tokens': 878,\n",
       "    'total_cost': 0.001465,\n",
       "    'prompt_tokens': 582,\n",
       "    'completion_tokens': 296}}},\n",
       " {'id': '34',\n",
       "  'question': 'What are the religions practiced in Mexico?',\n",
       "  'query_string': \"SELECT religion.name FROM religion WHERE religion.country = 'Mexico';\",\n",
       "  'type': 'medium',\n",
       "  'token_usage': {'table_recall': {'total_tokens': 4756,\n",
       "    'total_cost': 0.009151000000000001,\n",
       "    'prompt_tokens': 722,\n",
       "    'completion_tokens': 4034},\n",
       "   'column_recall': {'total_tokens': 4954,\n",
       "    'total_cost': 0.009778,\n",
       "    'prompt_tokens': 260,\n",
       "    'completion_tokens': 4694},\n",
       "   'sql_generation': {'total_tokens': 835,\n",
       "    'total_cost': 0.0013975,\n",
       "    'prompt_tokens': 545,\n",
       "    'completion_tokens': 290}}},\n",
       " {'id': '35',\n",
       "  'question': 'Show all rivers that do not flow into the sea.',\n",
       "  'query_string': 'SELECT river.name FROM river LEFT JOIN riverthrough ON river.name = riverthrough.river WHERE riverthrough.river IS NULL;',\n",
       "  'type': 'simple',\n",
       "  'token_usage': {'table_recall': {'total_tokens': 4759,\n",
       "    'total_cost': 0.0091555,\n",
       "    'prompt_tokens': 725,\n",
       "    'completion_tokens': 4034},\n",
       "   'column_recall': {'total_tokens': 5647,\n",
       "    'total_cost': 0.011141499999999999,\n",
       "    'prompt_tokens': 305,\n",
       "    'completion_tokens': 5342},\n",
       "   'sql_generation': {'total_tokens': 1000,\n",
       "    'total_cost': 0.0017130000000000001,\n",
       "    'prompt_tokens': 574,\n",
       "    'completion_tokens': 426}}},\n",
       " {'id': '36',\n",
       "  'question': 'List African countries by number of neighbors.',\n",
       "  'query_string': 'SELECT country.name, COUNT(borders.country2) AS num_neighbors FROM country JOIN borders ON borders.country1 = country.code GROUP BY country.name ORDER BY num_neighbors DESC;',\n",
       "  'type': 'complex',\n",
       "  'token_usage': {'table_recall': {'total_tokens': 2686,\n",
       "    'total_cost': 0.005011,\n",
       "    'prompt_tokens': 722,\n",
       "    'completion_tokens': 1964},\n",
       "   'column_recall': {'total_tokens': 3876,\n",
       "    'total_cost': 0.0076355,\n",
       "    'prompt_tokens': 233,\n",
       "    'completion_tokens': 3643},\n",
       "   'sql_generation': {'total_tokens': 1250,\n",
       "    'total_cost': 0.002241,\n",
       "    'prompt_tokens': 518,\n",
       "    'completion_tokens': 732}}},\n",
       " {'id': '37',\n",
       "  'question': 'What is the average infant mortality rate for each continent?',\n",
       "  'query_string': 'SELECT continent, AVG(infant_mortality) AS average_infant_mortality FROM population JOIN country ON population.country = country.code JOIN continent ON country.continent = continent.name GROUP BY continent;',\n",
       "  'type': 'complex',\n",
       "  'token_usage': {'table_recall': {'total_tokens': 2479,\n",
       "    'total_cost': 0.004595500000000001,\n",
       "    'prompt_tokens': 725,\n",
       "    'completion_tokens': 1754},\n",
       "   'column_recall': {'total_tokens': 3908,\n",
       "    'total_cost': 0.0076985000000000005,\n",
       "    'prompt_tokens': 235,\n",
       "    'completion_tokens': 3673},\n",
       "   'sql_generation': {'total_tokens': 1335,\n",
       "    'total_cost': 0.00241,\n",
       "    'prompt_tokens': 520,\n",
       "    'completion_tokens': 815}}},\n",
       " {'id': '38',\n",
       "  'question': 'What is the average mortality rate of the countries in America without considering Brazil?',\n",
       "  'query_string': \"SELECT AVG(infant_mortality) FROM population WHERE country IN ( SELECT code FROM country WHERE continent = 'America' AND code != 'BRA' );\",\n",
       "  'type': 'complex',\n",
       "  'token_usage': {'table_recall': {'total_tokens': 3101,\n",
       "    'total_cost': 0.0058375,\n",
       "    'prompt_tokens': 729,\n",
       "    'completion_tokens': 2372},\n",
       "   'column_recall': {'total_tokens': 4044,\n",
       "    'total_cost': 0.0079565,\n",
       "    'prompt_tokens': 263,\n",
       "    'completion_tokens': 3781},\n",
       "   'sql_generation': {'total_tokens': 1347,\n",
       "    'total_cost': 0.0024200000000000003,\n",
       "    'prompt_tokens': 548,\n",
       "    'completion_tokens': 799}}},\n",
       " {'id': '39',\n",
       "  'question': 'List seas with area greater than 8000 and depth less than 100.',\n",
       "  'query_string': 'SELECT sea.name FROM sea WHERE sea.area > 8000 AND sea.depth < 100;',\n",
       "  'type': 'simple',\n",
       "  'token_usage': {'table_recall': {'total_tokens': 3116,\n",
       "    'total_cost': 0.005867000000000001,\n",
       "    'prompt_tokens': 730,\n",
       "    'completion_tokens': 2386},\n",
       "   'column_recall': {'total_tokens': 2673,\n",
       "    'total_cost': 0.005222,\n",
       "    'prompt_tokens': 248,\n",
       "    'completion_tokens': 2425},\n",
       "   'sql_generation': {'total_tokens': 931,\n",
       "    'total_cost': 0.0015945,\n",
       "    'prompt_tokens': 535,\n",
       "    'completion_tokens': 396}}},\n",
       " {'id': '40',\n",
       "  'question': 'How many mountains are there in Asia?',\n",
       "  'query_string': \"SELECT COUNT(*) FROM mountain m JOIN encompasses e ON m.name = e.mountain JOIN continent c ON e.continent = c.name WHERE c.name = 'Asia';\",\n",
       "  'type': 'complex',\n",
       "  'token_usage': {'table_recall': {'total_tokens': 2897,\n",
       "    'total_cost': 0.0054329999999999995,\n",
       "    'prompt_tokens': 722,\n",
       "    'completion_tokens': 2175},\n",
       "   'column_recall': {'total_tokens': 4531,\n",
       "    'total_cost': 0.008937,\n",
       "    'prompt_tokens': 250,\n",
       "    'completion_tokens': 4281},\n",
       "   'sql_generation': {'total_tokens': 1085,\n",
       "    'total_cost': 0.0019045,\n",
       "    'prompt_tokens': 531,\n",
       "    'completion_tokens': 554}}},\n",
       " {'id': '41',\n",
       "  'question': 'What are the countries that are close to the Mediterranean Sea?',\n",
       "  'query_string': \"SELECT country.name FROM country JOIN borders ON borders.country1 = country.code JOIN sea ON sea.name = 'Mediterranean Sea' WHERE borders.country2 = country.code;\",\n",
       "  'type': 'complex',\n",
       "  'token_usage': {'table_recall': {'total_tokens': 3668,\n",
       "    'total_cost': 0.006973,\n",
       "    'prompt_tokens': 726,\n",
       "    'completion_tokens': 2942},\n",
       "   'column_recall': {'total_tokens': 6145,\n",
       "    'total_cost': 0.012136000000000001,\n",
       "    'prompt_tokens': 308,\n",
       "    'completion_tokens': 5837},\n",
       "   'sql_generation': {'total_tokens': 1409,\n",
       "    'total_cost': 0.0025234999999999997,\n",
       "    'prompt_tokens': 589,\n",
       "    'completion_tokens': 820}}},\n",
       " {'id': '42',\n",
       "  'question': 'Show the total for each type of government.',\n",
       "  'query_string': 'SELECT government, COUNT(*) as total FROM politics GROUP BY government;',\n",
       "  'type': 'medium',\n",
       "  'token_usage': {'table_recall': {'total_tokens': 1967,\n",
       "    'total_cost': 0.0035725,\n",
       "    'prompt_tokens': 723,\n",
       "    'completion_tokens': 1244},\n",
       "   'column_recall': {'total_tokens': 3598,\n",
       "    'total_cost': 0.007082000000000001,\n",
       "    'prompt_tokens': 228,\n",
       "    'completion_tokens': 3370},\n",
       "   'sql_generation': {'total_tokens': 796,\n",
       "    'total_cost': 0.0013365,\n",
       "    'prompt_tokens': 511,\n",
       "    'completion_tokens': 285}}},\n",
       " {'id': '43',\n",
       "  'question': 'Which province has the largest desert in the world?',\n",
       "  'query_string': 'SELECT province FROM province WHERE area = ( SELECT MAX(area) FROM desert )',\n",
       "  'type': 'medium',\n",
       "  'token_usage': {'table_recall': {'total_tokens': 1985,\n",
       "    'total_cost': 0.003608,\n",
       "    'prompt_tokens': 724,\n",
       "    'completion_tokens': 1261},\n",
       "   'column_recall': {'total_tokens': 4774,\n",
       "    'total_cost': 0.009414,\n",
       "    'prompt_tokens': 268,\n",
       "    'completion_tokens': 4506},\n",
       "   'sql_generation': {'total_tokens': 1441,\n",
       "    'total_cost': 0.0026075,\n",
       "    'prompt_tokens': 549,\n",
       "    'completion_tokens': 892}}},\n",
       " {'id': '44',\n",
       "  'question': 'What is the largest desert in the world?',\n",
       "  'query_string': 'SELECT desert.name FROM desert ORDER BY area DESC FETCH FIRST 1 ROWS ONLY;',\n",
       "  'type': 'simple',\n",
       "  'token_usage': {'table_recall': {'total_tokens': 4424,\n",
       "    'total_cost': 0.008486500000000001,\n",
       "    'prompt_tokens': 723,\n",
       "    'completion_tokens': 3701},\n",
       "   'column_recall': {'total_tokens': 4712,\n",
       "    'total_cost': 0.009291500000000001,\n",
       "    'prompt_tokens': 265,\n",
       "    'completion_tokens': 4447},\n",
       "   'sql_generation': {'total_tokens': 950,\n",
       "    'total_cost': 0.0016250000000000001,\n",
       "    'prompt_tokens': 550,\n",
       "    'completion_tokens': 400}}},\n",
       " {'id': '45',\n",
       "  'question': 'List, for all continents, the amount of deserts on each.',\n",
       "  'query_string': 'SELECT continent.name, COUNT(desert.name) AS desert_count FROM continent LEFT JOIN geo_desert ON continent.name = geo_desert.continent LEFT JOIN desert ON geo_desert.desert = desert.name GROUP BY continent.name;',\n",
       "  'type': 'complex',\n",
       "  'token_usage': {'table_recall': {'total_tokens': 2940,\n",
       "    'total_cost': 0.005516000000000001,\n",
       "    'prompt_tokens': 728,\n",
       "    'completion_tokens': 2212},\n",
       "   'column_recall': {'total_tokens': 3147,\n",
       "    'total_cost': 0.0061665,\n",
       "    'prompt_tokens': 255,\n",
       "    'completion_tokens': 2892},\n",
       "   'sql_generation': {'total_tokens': 1363,\n",
       "    'total_cost': 0.002455,\n",
       "    'prompt_tokens': 542,\n",
       "    'completion_tokens': 821}}},\n",
       " {'id': '46',\n",
       "  'question': 'What are the neighboring seas of the Banda Sea?',\n",
       "  'query_string': \"SELECT sea2 FROM mergeswith WHERE sea1 = 'Banda Sea';\",\n",
       "  'type': 'simple',\n",
       "  'token_usage': {'table_recall': {'total_tokens': 2199,\n",
       "    'total_cost': 0.0040355,\n",
       "    'prompt_tokens': 725,\n",
       "    'completion_tokens': 1474},\n",
       "   'column_recall': {'total_tokens': 5449,\n",
       "    'total_cost': 0.010730499999999999,\n",
       "    'prompt_tokens': 335,\n",
       "    'completion_tokens': 5114},\n",
       "   'sql_generation': {'total_tokens': 1058,\n",
       "    'total_cost': 0.001806,\n",
       "    'prompt_tokens': 620,\n",
       "    'completion_tokens': 438}}},\n",
       " {'id': '47',\n",
       "  'question': 'List all the capitals of European countries.',\n",
       "  'query_string': \"SELECT country.capital FROM country WHERE country.continent = 'Europe';\",\n",
       "  'type': 'complex',\n",
       "  'token_usage': {'table_recall': {'total_tokens': 2937,\n",
       "    'total_cost': 0.005513,\n",
       "    'prompt_tokens': 722,\n",
       "    'completion_tokens': 2215},\n",
       "   'column_recall': {'total_tokens': 5095,\n",
       "    'total_cost': 0.010059,\n",
       "    'prompt_tokens': 262,\n",
       "    'completion_tokens': 4833},\n",
       "   'sql_generation': {'total_tokens': 852,\n",
       "    'total_cost': 0.0014365,\n",
       "    'prompt_tokens': 535,\n",
       "    'completion_tokens': 317}}},\n",
       " {'id': '48',\n",
       "  'question': 'What percentage of people speak French in Andorra?',\n",
       "  'query_string': \"SELECT language.percentage FROM language WHERE language.country = 'AND' AND language.name = 'French';\",\n",
       "  'type': 'medium',\n",
       "  'token_usage': {'table_recall': {'total_tokens': 2193,\n",
       "    'total_cost': 0.004024,\n",
       "    'prompt_tokens': 724,\n",
       "    'completion_tokens': 1469},\n",
       "   'column_recall': {'total_tokens': 3699,\n",
       "    'total_cost': 0.007286000000000001,\n",
       "    'prompt_tokens': 224,\n",
       "    'completion_tokens': 3475},\n",
       "   'sql_generation': {'total_tokens': 984,\n",
       "    'total_cost': 0.0017135000000000002,\n",
       "    'prompt_tokens': 509,\n",
       "    'completion_tokens': 475}}},\n",
       " {'id': '49',\n",
       "  'question': 'Which rivers are longer than 1000 kilometers?',\n",
       "  'query_string': 'SELECT river.name FROM river WHERE river.length > 1000;',\n",
       "  'type': 'simple',\n",
       "  'token_usage': {'table_recall': {'total_tokens': 3561,\n",
       "    'total_cost': 0.00676,\n",
       "    'prompt_tokens': 724,\n",
       "    'completion_tokens': 2837},\n",
       "   'column_recall': {'total_tokens': 5399,\n",
       "    'total_cost': 0.010636000000000001,\n",
       "    'prompt_tokens': 324,\n",
       "    'completion_tokens': 5075},\n",
       "   'sql_generation': {'total_tokens': 863,\n",
       "    'total_cost': 0.0014295,\n",
       "    'prompt_tokens': 593,\n",
       "    'completion_tokens': 270}}},\n",
       " {'id': '50',\n",
       "  'question': 'Which country had the lowest population growth?',\n",
       "  'query_string': 'SELECT country FROM population WHERE population_growth = ( SELECT MIN(population_growth) FROM population );',\n",
       "  'type': 'medium',\n",
       "  'token_usage': {'table_recall': {'total_tokens': 3512,\n",
       "    'total_cost': 0.006663,\n",
       "    'prompt_tokens': 722,\n",
       "    'completion_tokens': 2790},\n",
       "   'column_recall': {'total_tokens': 3111,\n",
       "    'total_cost': 0.0061095,\n",
       "    'prompt_tokens': 225,\n",
       "    'completion_tokens': 2886},\n",
       "   'sql_generation': {'total_tokens': 927,\n",
       "    'total_cost': 0.0015990000000000002,\n",
       "    'prompt_tokens': 510,\n",
       "    'completion_tokens': 417}}}]"
      ]
     },
     "execution_count": 15,
     "metadata": {},
     "output_type": "execute_result"
    }
   ],
   "source": [
    "queries"
   ]
  }
 ],
 "metadata": {
  "kernelspec": {
   "display_name": "venv",
   "language": "python",
   "name": "python3"
  },
  "language_info": {
   "codemirror_mode": {
    "name": "ipython",
    "version": 3
   },
   "file_extension": ".py",
   "mimetype": "text/x-python",
   "name": "python",
   "nbconvert_exporter": "python",
   "pygments_lexer": "ipython3",
   "version": "3.12.7"
  }
 },
 "nbformat": 4,
 "nbformat_minor": 2
}
